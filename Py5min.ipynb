{
 "cells": [
  {
   "cell_type": "markdown",
   "id": "aa301bc5",
   "metadata": {},
   "source": [
    "# Python in 5 minutes"
   ]
  },
  {
   "cell_type": "markdown",
   "id": "a09a07ac",
   "metadata": {},
   "source": [
    "Contents:\n",
    "- [Data types](#1.)\n",
    "- [Operators](#2.)\n",
    "- [Control structures](#3.)\n",
    "- [`if`, `else`, `elif` statements](#4.)\n",
    "- [UDFs and classes](#5.)"
   ]
  },
  {
   "cell_type": "markdown",
   "id": "e4cc211b",
   "metadata": {},
   "source": [
    "## 1. Data types <a id='1.'></a>\n",
    "\n",
    "<hr style=\"border:2px solid gray\">"
   ]
  },
  {
   "cell_type": "markdown",
   "id": "f1c1126e",
   "metadata": {},
   "source": [
    "***Integers*** are whole numbers."
   ]
  },
  {
   "cell_type": "code",
   "execution_count": null,
   "id": "bd1a7abc",
   "metadata": {},
   "outputs": [],
   "source": [
    "I1 = 4\n",
    "print(I1, \"is an integer.\")"
   ]
  },
  {
   "cell_type": "markdown",
   "id": "037340ba",
   "metadata": {},
   "source": [
    "**Floating-point numbers** (floats) are decimal numbers."
   ]
  },
  {
   "cell_type": "code",
   "execution_count": null,
   "id": "65a15277",
   "metadata": {},
   "outputs": [],
   "source": [
    "F1 = 2.1\n",
    "F2 = 4E-7\n",
    "print(F1, \"is a float.\")\n",
    "print(F2, \"is also a float.\")"
   ]
  },
  {
   "cell_type": "markdown",
   "id": "c2d59f7b",
   "metadata": {},
   "source": [
    "**Strings** are sequenced items of the same type."
   ]
  },
  {
   "cell_type": "code",
   "execution_count": null,
   "id": "8b71b79f",
   "metadata": {},
   "outputs": [],
   "source": [
    "S1 = 'Beep'\n",
    "S2 = \"Welcome to Python!\"\n",
    "print(S1, \"is a string.\")\n",
    "print(S2, \"is also a string.\")"
   ]
  },
  {
   "cell_type": "markdown",
   "id": "9a7158dc",
   "metadata": {},
   "source": [
    "We can *concatenate* (add) strings."
   ]
  },
  {
   "cell_type": "code",
   "execution_count": null,
   "id": "69683dc7",
   "metadata": {},
   "outputs": [],
   "source": [
    "name = input(\"Enter your name:\", )\n",
    "print(\"Hello \" + name + \"!\")"
   ]
  },
  {
   "cell_type": "markdown",
   "id": "7348ac5c",
   "metadata": {},
   "source": [
    "A **list** is similar to a string, but the items can be different data types."
   ]
  },
  {
   "cell_type": "code",
   "execution_count": null,
   "id": "1d715073",
   "metadata": {},
   "outputs": [],
   "source": [
    "L0 = []\n",
    "L1 = [1, '2', 3, 'Four', 5]\n",
    "print(L0, \"is an empty list.\")\n",
    "print(L1, \"is a list.\")"
   ]
  },
  {
   "cell_type": "markdown",
   "id": "9f4f7888",
   "metadata": {},
   "source": [
    "We can access **elements** of a list from their **index**, as well as 'slice' them by element."
   ]
  },
  {
   "cell_type": "code",
   "execution_count": null,
   "id": "b34693c1",
   "metadata": {},
   "outputs": [],
   "source": [
    "L2 = [1,2,3,4,5]\n",
    "\n",
    "print(L2[0], \"is the 1st element of hte list L2.  It is given by L2[0] (index is 0).\")\n",
    "print(L2[1], \"is the 2nd element of L2.  It is given by L2[1].\")\n",
    "print(L2[2:4], \"are the 3rd (index 2) and 4th (index 3) elements of L2.  They are given by L2[2:4].\")"
   ]
  },
  {
   "cell_type": "markdown",
   "id": "a54226c3",
   "metadata": {},
   "source": [
    "We can *append* (add) to a list, as well as find its length."
   ]
  },
  {
   "cell_type": "code",
   "execution_count": null,
   "id": "e71cb04e",
   "metadata": {},
   "outputs": [],
   "source": [
    "L3 = ['One', 'Two', 'Three']\n",
    "print(\"The original list:\", L3)\n",
    "L3.append('Four')\n",
    "print(\"The appended list:\", L3)\n",
    "print(\"This list is\", len(L3), \"elements long.\")"
   ]
  },
  {
   "cell_type": "markdown",
   "id": "eba8bafb",
   "metadata": {},
   "source": [
    "A **tuple** is like a list, though it is immutable (cannot be changed)."
   ]
  },
  {
   "cell_type": "code",
   "execution_count": null,
   "id": "bd6ce242",
   "metadata": {},
   "outputs": [],
   "source": [
    "T1 = 1, 2, 3, 'Bazinga!'\n",
    "print(T1, \"is a tuple.\")\n",
    "print(T1[0], \"is the first element of the tuple T1.  It is given by T1[0]\")\n",
    "print(T1[3], \"is the last element of T1.  It is given by T1[3] as the tuple is of length 4.\")"
   ]
  },
  {
   "cell_type": "markdown",
   "id": "bfe0dbf9",
   "metadata": {},
   "source": [
    "A ***boolean*** is simply a `True` or `False` condition."
   ]
  },
  {
   "cell_type": "code",
   "execution_count": null,
   "id": "0da7b460",
   "metadata": {},
   "outputs": [],
   "source": [
    "B1 = 4 < 7\n",
    "print(\"The inequality 4 < 7 is a boolean.\")\n",
    "print(\"Result:\", B1)"
   ]
  },
  {
   "cell_type": "markdown",
   "id": "950f11f1",
   "metadata": {},
   "source": [
    "<hr style=\"border:2px solid gray\">"
   ]
  },
  {
   "cell_type": "markdown",
   "id": "2063327e",
   "metadata": {},
   "source": [
    "## 2. Operators <a id='2.'></a>"
   ]
  },
  {
   "cell_type": "markdown",
   "id": "4c449f14",
   "metadata": {},
   "source": [
    "Several **arithmetic operators** are tabulated below."
   ]
  },
  {
   "cell_type": "markdown",
   "id": "7e5473b6",
   "metadata": {},
   "source": [
    "| Operator | Description                                                                    | Example        |\n",
    "|:--------:|:------------------------------------------------------------------------------:|:--------------:|\n",
    "| +        | Addition - adds operands on either side of the operator                        | `2 + 2 = 4`    |\n",
    "| -        | Subtraction - subtracts right-hand operand from-left hand operand              | `5 - 2 = 3`    |\n",
    "| *        | Multiplication - multiplies values on either side of operator                  | `3*3 = 9`      |\n",
    "| /        | Division - divides left-hand operand by right-hand operand                     | `22 / 8 = 2.75`|\n",
    "| **       | Exponent - raises left-hand operand to the power of right-hand operand         | `2**3 = 8`     |\n",
    "| %        | Modulo - divides left-hand operand by right-hand operand and returns remainder | `13 % 3 = 1`   |\n",
    "| //       | Floor division - same as with the division operator, but with decimals removed | `22 // 8 = 2`  |"
   ]
  },
  {
   "cell_type": "markdown",
   "id": "983efa3a",
   "metadata": {},
   "source": [
    "Several **comparison operators** are tabulated below."
   ]
  },
  {
   "cell_type": "markdown",
   "id": "629664bf",
   "metadata": {},
   "source": [
    "|Operator|Description                                                                          |\n",
    "|:-:     |:-:|\n",
    "|==      |Equal to - compares both operands, returns `True` if they are equal                  |\n",
    "|!=      |Not equal to - compares both operands, returns `True` if they are not equal          |\n",
    "|<>      |Alternative form of the *not equal to* operator                                      |\n",
    "|>       |Greater than - returns `True` if left-hand operand is greater than right-hand operand|\n",
    "|<       |Less than - returns `True` if left-hand operand is less than right-hand operand      |\n",
    "|>=      |Greater than or equal to - returns `True` if left-hand operand is greater than or equal to right-hand operand       |\n",
    "|<=      |Less than or equal to - returns `True` if left-hand operand is less than or equal to right-hand operand       |"
   ]
  },
  {
   "cell_type": "markdown",
   "id": "618dacb9",
   "metadata": {},
   "source": [
    "There is also the *equality operator* `=`, which assigns RHS operand values to LHS operands."
   ]
  },
  {
   "cell_type": "markdown",
   "id": "0ff61b05",
   "metadata": {},
   "source": [
    "## 3. Control structures <a id='3.'></a>\n",
    "\n",
    "<hr style=\"border:2px solid gray\">"
   ]
  },
  {
   "cell_type": "markdown",
   "id": "9a6d3303",
   "metadata": {},
   "source": [
    "A `while` loop executes embedded code repeatedly as long as a given condition is met.  When this condition becomes false, the non-embedded code immediately after the loop will be executed.  An example of a `while` loop is below."
   ]
  },
  {
   "cell_type": "code",
   "execution_count": null,
   "id": "7eda681b",
   "metadata": {},
   "outputs": [],
   "source": [
    "count = 0\n",
    "while (count < 3):    \n",
    "    count = count + 1\n",
    "    print(\"Count is {} as expected\".format(count))"
   ]
  },
  {
   "cell_type": "markdown",
   "id": "1f60f4bb",
   "metadata": {},
   "source": [
    "A `for` loop will execute embedded code repeatedly across all inputs.  It is similar to a while loop but has no deactivating conditions.  An example of a `for` loop is below."
   ]
  },
  {
   "cell_type": "code",
   "execution_count": null,
   "id": "810611c9",
   "metadata": {},
   "outputs": [],
   "source": [
    "n = 6\n",
    "for i in range(1, n):\n",
    "    print(i)"
   ]
  },
  {
   "cell_type": "markdown",
   "id": "11437f8d",
   "metadata": {},
   "source": [
    "We can embed control structures within other control structures - this is known as nesting.  Below is a nested `for` loop."
   ]
  },
  {
   "cell_type": "code",
   "execution_count": null,
   "id": "080a66b3",
   "metadata": {},
   "outputs": [],
   "source": [
    "for i in range(1, 6):\n",
    "    for j in range(i):\n",
    "         print(i, end=' ')\n",
    "    print()"
   ]
  },
  {
   "cell_type": "markdown",
   "id": "b950c7bd",
   "metadata": {},
   "source": [
    "The `break` statement can be embedded within a control structure.  If a given condition is met, it will terminate the loop containing it.  Below is a control structure containing a `break` statement."
   ]
  },
  {
   "cell_type": "code",
   "execution_count": null,
   "id": "36e5c0bc",
   "metadata": {},
   "outputs": [],
   "source": [
    "for val in \"hitchhikers\":\n",
    "    if val == \"s\":\n",
    "        break\n",
    "    print(val)\n",
    "print(\"DON'T PANIC\")"
   ]
  },
  {
   "cell_type": "markdown",
   "id": "ce433e82",
   "metadata": {},
   "source": [
    "When a `continue` statement is embedded within a control structure, it skips the embedded code for only the inputs that meet the condition.  Below is a control structure with an embedded `continue` statement."
   ]
  },
  {
   "cell_type": "code",
   "execution_count": null,
   "id": "44426f0b",
   "metadata": {},
   "outputs": [],
   "source": [
    "for val in \"hitchhiker\":\n",
    "    if val == \"i\":\n",
    "        continue\n",
    "    if val == \"e\":\n",
    "        continue\n",
    "    print(val)\n",
    "print(\"DON'T PANIC\")"
   ]
  },
  {
   "cell_type": "markdown",
   "id": "cad91ae5",
   "metadata": {},
   "source": [
    "<hr style=\"border:2px solid gray\">"
   ]
  },
  {
   "cell_type": "markdown",
   "id": "29295b5c",
   "metadata": {},
   "source": [
    "## 4. `if`, `else`, `elif` statements <a id='4.'></a>\n",
    "\n",
    "<hr style=\"border:2px solid gray\">"
   ]
  },
  {
   "cell_type": "code",
   "execution_count": null,
   "id": "b5ac6506",
   "metadata": {},
   "outputs": [],
   "source": []
  },
  {
   "cell_type": "markdown",
   "id": "cc754186",
   "metadata": {},
   "source": [
    "<hr style=\"border:2px solid gray\">"
   ]
  },
  {
   "cell_type": "markdown",
   "id": "afc98106",
   "metadata": {},
   "source": [
    "## 5. UDFs and classes <a id='5.'></a>\n",
    "\n",
    "<hr style=\"border:2px solid gray\">"
   ]
  },
  {
   "cell_type": "code",
   "execution_count": null,
   "id": "3eddf084",
   "metadata": {},
   "outputs": [],
   "source": []
  },
  {
   "cell_type": "markdown",
   "id": "1b5e2e56",
   "metadata": {},
   "source": [
    "<hr style=\"border:2px solid gray\">"
   ]
  }
 ],
 "metadata": {
  "kernelspec": {
   "display_name": "Python 3 (ipykernel)",
   "language": "python",
   "name": "python3"
  },
  "language_info": {
   "codemirror_mode": {
    "name": "ipython",
    "version": 3
   },
   "file_extension": ".py",
   "mimetype": "text/x-python",
   "name": "python",
   "nbconvert_exporter": "python",
   "pygments_lexer": "ipython3",
   "version": "3.7.6"
  }
 },
 "nbformat": 4,
 "nbformat_minor": 5
}
