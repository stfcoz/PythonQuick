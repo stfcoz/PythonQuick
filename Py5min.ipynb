{
 "cells": [
  {
   "cell_type": "markdown",
   "id": "aa301bc5",
   "metadata": {},
   "source": [
    "# Python in 5 minutes"
   ]
  },
  {
   "cell_type": "markdown",
   "id": "08bd6b58",
   "metadata": {},
   "source": [
    "Contents:\n",
    "- [Data types](#1.)\n",
    "- [Operators](#2.)\n",
    "- [Control structures](#3.)\n",
    "- [`if`, `else`, `elif` statements](#4.)\n",
    "- [UDFs and classes](#5.)"
   ]
  },
  {
   "cell_type": "markdown",
   "id": "f85428e5",
   "metadata": {},
   "source": [
    "## 1. Data types <a id='1.'></a>"
   ]
  },
  {
   "cell_type": "markdown",
   "id": "5ee2f8b9",
   "metadata": {},
   "source": [
    "***Integers*** are whole numbers."
   ]
  },
  {
   "cell_type": "code",
   "execution_count": null,
   "id": "e38aa84d",
   "metadata": {},
   "outputs": [],
   "source": [
    "I1 = 4\n",
    "print(I1, \"is an integer.\")"
   ]
  },
  {
   "cell_type": "markdown",
   "id": "9de3aad9",
   "metadata": {},
   "source": [
    "**Floating-point numbers** (floats) are decimal numbers."
   ]
  },
  {
   "cell_type": "code",
   "execution_count": null,
   "id": "d872c1f0",
   "metadata": {},
   "outputs": [],
   "source": [
    "F1 = 2.1\n",
    "F2 = 4E-7\n",
    "print(F1, \"is a float.\")\n",
    "print(F2, \"is also a float.\")"
   ]
  },
  {
   "cell_type": "markdown",
   "id": "7f1026d8",
   "metadata": {},
   "source": [
    "**Strings** are sequenced items of the same type."
   ]
  },
  {
   "cell_type": "code",
   "execution_count": null,
   "id": "74fcc317",
   "metadata": {},
   "outputs": [],
   "source": [
    "S1 = 'Beep'\n",
    "S2 = \"Welcome to Python!\"\n",
    "print(S1, \"is a string.\")\n",
    "print(S2, \"is also a string.\")"
   ]
  },
  {
   "cell_type": "markdown",
   "id": "9705ef03",
   "metadata": {},
   "source": [
    "We can *concatenate* (add) strings."
   ]
  },
  {
   "cell_type": "code",
   "execution_count": null,
   "id": "5969a68e",
   "metadata": {},
   "outputs": [],
   "source": [
    "name = input(\"Enter your name:\", )\n",
    "print(\"Hello \" + name + \"!\")"
   ]
  },
  {
   "cell_type": "markdown",
   "id": "82179a97",
   "metadata": {},
   "source": [
    "A **list** is similar to a string, but the items can be different data types."
   ]
  },
  {
   "cell_type": "code",
   "execution_count": null,
   "id": "98f7885b",
   "metadata": {},
   "outputs": [],
   "source": [
    "L0 = []\n",
    "L1 = [1, '2', 3, 'Four', 5]\n",
    "print(L0, \"is an empty list.\")\n",
    "print(L1, \"is a list.\")"
   ]
  },
  {
   "cell_type": "markdown",
   "id": "6b1f9253",
   "metadata": {},
   "source": [
    "We can access **elements** of a list from their **index**, as well as 'slice' them by element."
   ]
  },
  {
   "cell_type": "code",
   "execution_count": null,
   "id": "0fa77e45",
   "metadata": {},
   "outputs": [],
   "source": [
    "L2 = [1,2,3,4,5]\n",
    "\n",
    "print(L2[0], \"is the 1st element of hte list L2.  It is given by L2[0] (index is 0).\")\n",
    "print(L2[1], \"is the 2nd element of L2.  It is given by L2[1].\")\n",
    "print(L2[2:4], \"are the 3rd (index 2) and 4th (index 3) elements of L2.  They are given by L2[2:4].\")"
   ]
  },
  {
   "cell_type": "markdown",
   "id": "feaf3a8e",
   "metadata": {},
   "source": [
    "We can *append* (add) to a list, as well as find its length."
   ]
  },
  {
   "cell_type": "code",
   "execution_count": null,
   "id": "b6c496e5",
   "metadata": {},
   "outputs": [],
   "source": [
    "L3 = ['One', 'Two', 'Three']\n",
    "print(\"The original list:\", L3)\n",
    "L3.append('Four')\n",
    "print(\"The appended list:\", L3)\n",
    "print(\"This list is\", len(L3), \"elements long.\")"
   ]
  },
  {
   "cell_type": "markdown",
   "id": "d788b8dc",
   "metadata": {},
   "source": [
    "A **tuple** is like a list, though it is immutable (cannot be changed)."
   ]
  },
  {
   "cell_type": "code",
   "execution_count": null,
   "id": "0cf03636",
   "metadata": {},
   "outputs": [],
   "source": [
    "T1 = 1, 2, 3, 'Bazinga!'\n",
    "print(T1, \"is a tuple.\")\n",
    "print(T1[0], \"is the first element of the tuple T1.  It is given by T1[0]\")\n",
    "print(T1[3], \"is the last element of T1.  It is given by T1[3] as the tuple is of length 4.\")"
   ]
  },
  {
   "cell_type": "markdown",
   "id": "ac32f5de",
   "metadata": {},
   "source": [
    "A ***boolean*** is simply a `True` or `False` condition."
   ]
  },
  {
   "cell_type": "code",
   "execution_count": null,
   "id": "09664e98",
   "metadata": {},
   "outputs": [],
   "source": [
    "B1 = 4 < 7\n",
    "print(\"The inequality 4 < 7 is a boolean.\")\n",
    "print(\"Result:\", B1)"
   ]
  },
  {
   "cell_type": "markdown",
   "id": "9ef8c4be",
   "metadata": {},
   "source": [
    "## 2. Operators <a id='2.'></a>"
   ]
  },
  {
   "cell_type": "code",
   "execution_count": null,
   "id": "369429fb",
   "metadata": {},
   "outputs": [],
   "source": []
  },
  {
   "cell_type": "markdown",
   "id": "8b5fe685",
   "metadata": {},
   "source": [
    "## 3. Control structures <a id='3.'></a>"
   ]
  },
  {
   "cell_type": "code",
   "execution_count": null,
   "id": "666679b4",
   "metadata": {},
   "outputs": [],
   "source": []
  },
  {
   "cell_type": "markdown",
   "id": "8211b387",
   "metadata": {},
   "source": [
    "## 4. `if`, `else`, `elif` statements <a id='4.'></a>"
   ]
  },
  {
   "cell_type": "code",
   "execution_count": null,
   "id": "d4fa041f",
   "metadata": {},
   "outputs": [],
   "source": []
  },
  {
   "cell_type": "markdown",
   "id": "60c2b8f6",
   "metadata": {},
   "source": [
    "## 5. UDFs and classes <a id='5.'></a>"
   ]
  },
  {
   "cell_type": "code",
   "execution_count": null,
   "id": "e2456b30",
   "metadata": {},
   "outputs": [],
   "source": []
  }
 ],
 "metadata": {
  "kernelspec": {
   "display_name": "Python 3 (ipykernel)",
   "language": "python",
   "name": "python3"
  },
  "language_info": {
   "codemirror_mode": {
    "name": "ipython",
    "version": 3
   },
   "file_extension": ".py",
   "mimetype": "text/x-python",
   "name": "python",
   "nbconvert_exporter": "python",
   "pygments_lexer": "ipython3",
   "version": "3.7.6"
  }
 },
 "nbformat": 4,
 "nbformat_minor": 5
}
