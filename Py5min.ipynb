{
 "cells": [
  {
   "cell_type": "markdown",
   "id": "aa301bc5",
   "metadata": {},
   "source": [
    "# Python in 5 minutes"
   ]
  },
  {
   "cell_type": "markdown",
   "id": "8c1f235f",
   "metadata": {},
   "source": [
    "Contents:\n",
    "- [Data types](#1.)\n",
    "- [Operators](#2.)\n",
    "- [Control structures](#3.)\n",
    "- [`if`, `else`, `elif` statements](#4.)\n",
    "- [UDFs and classes](#5.)"
   ]
  },
  {
   "cell_type": "markdown",
   "id": "4eda568b",
   "metadata": {},
   "source": [
    "## 1. Data types <a id='1.'></a>"
   ]
  },
  {
   "cell_type": "code",
   "execution_count": null,
   "id": "8242366e",
   "metadata": {},
   "outputs": [],
   "source": []
  },
  {
   "cell_type": "markdown",
   "id": "3ffe5106",
   "metadata": {},
   "source": [
    "## 2. Operators <a id='2.'></a>"
   ]
  },
  {
   "cell_type": "code",
   "execution_count": null,
   "id": "7a3ceae1",
   "metadata": {},
   "outputs": [],
   "source": []
  },
  {
   "cell_type": "markdown",
   "id": "8671482a",
   "metadata": {},
   "source": [
    "## 3. Control structures <a id='3.'></a>"
   ]
  },
  {
   "cell_type": "code",
   "execution_count": null,
   "id": "313d0f41",
   "metadata": {},
   "outputs": [],
   "source": []
  },
  {
   "cell_type": "markdown",
   "id": "fee21c18",
   "metadata": {},
   "source": [
    "## 4. `if`, `else`, `elif` statements <a id='4.'></a>"
   ]
  },
  {
   "cell_type": "code",
   "execution_count": null,
   "id": "8919b9ee",
   "metadata": {},
   "outputs": [],
   "source": []
  },
  {
   "cell_type": "markdown",
   "id": "0128be27",
   "metadata": {},
   "source": [
    "## 5. UDFs and classes <a id='5.'></a>"
   ]
  },
  {
   "cell_type": "code",
   "execution_count": null,
   "id": "93a8cb04",
   "metadata": {},
   "outputs": [],
   "source": []
  }
 ],
 "metadata": {
  "kernelspec": {
   "display_name": "Python 3 (ipykernel)",
   "language": "python",
   "name": "python3"
  },
  "language_info": {
   "codemirror_mode": {
    "name": "ipython",
    "version": 3
   },
   "file_extension": ".py",
   "mimetype": "text/x-python",
   "name": "python",
   "nbconvert_exporter": "python",
   "pygments_lexer": "ipython3",
   "version": "3.7.6"
  }
 },
 "nbformat": 4,
 "nbformat_minor": 5
}
