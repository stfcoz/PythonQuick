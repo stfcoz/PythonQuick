{
 "cells": [
  {
   "cell_type": "markdown",
   "id": "aa301bc5",
   "metadata": {},
   "source": [
    "# Python in 5 minutes <a name=\"0.\"></a>"
   ]
  },
  {
   "cell_type": "markdown",
   "id": "b2149c32",
   "metadata": {},
   "source": [
    "Contents:\n",
    "- [Data types](#1.)\n",
    "- [Operators](#2.)\n",
    "- [Control structures](#3.)\n",
    "- [`if`, `else`, `elif` statements](#4.)"
   ]
  },
  {
   "cell_type": "markdown",
   "id": "8944fc1d",
   "metadata": {},
   "source": [
    "## 1. Data types <a id='1.'></a>\n",
    "\n",
    "<hr style=\"border:2px solid gray\">"
   ]
  },
  {
   "cell_type": "markdown",
   "id": "a3925fcb",
   "metadata": {},
   "source": [
    "Before we start: the box below is known as a **code cell** - it allows Python code to be executed.  It contains the `print()` function, which simply displays the contents of the function including mathematical operations."
   ]
  },
  {
   "cell_type": "code",
   "execution_count": null,
   "id": "9a45fb37",
   "metadata": {},
   "outputs": [],
   "source": [
    "print('Hello, world!')"
   ]
  },
  {
   "cell_type": "markdown",
   "id": "9b3c16c2",
   "metadata": {},
   "source": [
    "***Integers*** are whole numbers."
   ]
  },
  {
   "cell_type": "code",
   "execution_count": null,
   "id": "43abc05f",
   "metadata": {},
   "outputs": [],
   "source": [
    "I1 = 4\n",
    "print(I1, \"is an integer.\")"
   ]
  },
  {
   "cell_type": "markdown",
   "id": "2475dc3e",
   "metadata": {},
   "source": [
    "**Floating-point numbers** (floats) are decimal numbers."
   ]
  },
  {
   "cell_type": "code",
   "execution_count": null,
   "id": "e8f312dd",
   "metadata": {},
   "outputs": [],
   "source": [
    "F1 = 2.1\n",
    "F2 = 4E-7\n",
    "print(F1, \"is a float.\")\n",
    "print(F2, \"is also a float.\")"
   ]
  },
  {
   "cell_type": "markdown",
   "id": "3f9a551c",
   "metadata": {},
   "source": [
    "**Strings** are sequenced items of the same type."
   ]
  },
  {
   "cell_type": "code",
   "execution_count": null,
   "id": "212bd957",
   "metadata": {},
   "outputs": [],
   "source": [
    "S1 = 'Beep'\n",
    "S2 = \"Welcome to Python!\"\n",
    "print(S1, \"is a string.\")\n",
    "print(S2, \"is also a string.\")"
   ]
  },
  {
   "cell_type": "markdown",
   "id": "703a2464",
   "metadata": {},
   "source": [
    "We can *concatenate* (add) strings."
   ]
  },
  {
   "cell_type": "code",
   "execution_count": null,
   "id": "122a974e",
   "metadata": {},
   "outputs": [],
   "source": [
    "name = input(\"Enter your name:\", )\n",
    "print(\"Hello \" + name + \"!\")"
   ]
  },
  {
   "cell_type": "markdown",
   "id": "35b79baf",
   "metadata": {},
   "source": [
    "A **list** is similar to a string, but the items can be different data types."
   ]
  },
  {
   "cell_type": "code",
   "execution_count": null,
   "id": "45f62925",
   "metadata": {},
   "outputs": [],
   "source": [
    "L0 = []\n",
    "L1 = [1, '2', 3, 'Four', 5]\n",
    "print(L0, \"is an empty list.\")\n",
    "print(L1, \"is a list.\")"
   ]
  },
  {
   "cell_type": "markdown",
   "id": "7a25eb34",
   "metadata": {},
   "source": [
    "We can access **elements** of a list from their **index**, as well as 'slice' them by element."
   ]
  },
  {
   "cell_type": "code",
   "execution_count": null,
   "id": "69fcf9c2",
   "metadata": {},
   "outputs": [],
   "source": [
    "L2 = [1,2,3,4,5]\n",
    "\n",
    "print(L2[0], \"is the 1st element of hte list L2.  It is given by L2[0] (index is 0).\")\n",
    "print(L2[1], \"is the 2nd element of L2.  It is given by L2[1].\")\n",
    "print(L2[2:4], \"are the 3rd (index 2) and 4th (index 3) elements of L2.  They are given by L2[2:4].\")"
   ]
  },
  {
   "cell_type": "markdown",
   "id": "0090c52e",
   "metadata": {},
   "source": [
    "We can *append* (add) to a list, as well as find its length."
   ]
  },
  {
   "cell_type": "code",
   "execution_count": null,
   "id": "b6964f6c",
   "metadata": {},
   "outputs": [],
   "source": [
    "L3 = ['One', 'Two', 'Three']\n",
    "print(\"The original list:\", L3)\n",
    "L3.append('Four')\n",
    "print(\"The appended list:\", L3)\n",
    "print(\"This list is\", len(L3), \"elements long.\")"
   ]
  },
  {
   "cell_type": "markdown",
   "id": "82a12cd1",
   "metadata": {},
   "source": [
    "A **tuple** is like a list, though it is immutable (cannot be changed)."
   ]
  },
  {
   "cell_type": "code",
   "execution_count": null,
   "id": "ff3edd0c",
   "metadata": {},
   "outputs": [],
   "source": [
    "T1 = 1, 2, 3, 'Bazinga!'\n",
    "print(T1, \"is a tuple.\")\n",
    "print(T1[0], \"is the first element of the tuple T1.  It is given by T1[0]\")\n",
    "print(T1[3], \"is the last element of T1.  It is given by T1[3] as the tuple is of length 4.\")"
   ]
  },
  {
   "cell_type": "markdown",
   "id": "1e6f6d9a",
   "metadata": {},
   "source": [
    "A ***boolean*** is simply a `True` or `False` condition."
   ]
  },
  {
   "cell_type": "code",
   "execution_count": null,
   "id": "5d21086e",
   "metadata": {},
   "outputs": [],
   "source": [
    "B1 = 4 < 7\n",
    "print(\"The inequality 4 < 7 is a boolean.\")\n",
    "print(\"Result:\", B1)"
   ]
  },
  {
   "cell_type": "markdown",
   "id": "18ccf3ad",
   "metadata": {},
   "source": [
    "[Return to contents](#0.)\n",
    "\n",
    "<hr style=\"border:2px solid gray\">"
   ]
  },
  {
   "cell_type": "markdown",
   "id": "87994039",
   "metadata": {},
   "source": [
    "## 2. Operators <a id='2.'></a>"
   ]
  },
  {
   "cell_type": "markdown",
   "id": "32c96871",
   "metadata": {},
   "source": [
    "Several **arithmetic operators** are tabulated below."
   ]
  },
  {
   "cell_type": "markdown",
   "id": "45999178",
   "metadata": {},
   "source": [
    "| Operator | Description                                                                    | Example        |\n",
    "|:--------:|:------------------------------------------------------------------------------:|:--------------:|\n",
    "| +        | Addition - adds operands on either side of the operator                        | `2 + 2 = 4`    |\n",
    "| -        | Subtraction - subtracts right-hand operand from-left hand operand              | `5 - 2 = 3`    |\n",
    "| *        | Multiplication - multiplies values on either side of operator                  | `3*3 = 9`      |\n",
    "| /        | Division - divides left-hand operand by right-hand operand                     | `22 / 8 = 2.75`|\n",
    "| **       | Exponent - raises left-hand operand to the power of right-hand operand         | `2**3 = 8`     |\n",
    "| %        | Modulo - divides left-hand operand by right-hand operand and returns remainder | `13 % 3 = 1`   |\n",
    "| //       | Floor division - same as with the division operator, but with decimals removed | `22 // 8 = 2`  |"
   ]
  },
  {
   "cell_type": "markdown",
   "id": "2d474f4b",
   "metadata": {},
   "source": [
    "A few examples."
   ]
  },
  {
   "cell_type": "code",
   "execution_count": null,
   "id": "069ff4f3",
   "metadata": {},
   "outputs": [],
   "source": [
    "print(25%7)\n",
    "print(55//14)"
   ]
  },
  {
   "cell_type": "markdown",
   "id": "a16f8c74",
   "metadata": {},
   "source": [
    "Several **comparison operators** are tabulated below."
   ]
  },
  {
   "cell_type": "markdown",
   "id": "bd925625",
   "metadata": {},
   "source": [
    "|Operator|Description                                                                          |\n",
    "|:-:     |:-:|\n",
    "|==      |Equal to - compares both operands, returns `True` if they are equal                  |\n",
    "|!=      |Not equal to - compares both operands, returns `True` if they are not equal          |\n",
    "|<>      |Alternative form of the *not equal to* operator                                      |\n",
    "|>       |Greater than - returns `True` if left-hand operand is greater than right-hand operand|\n",
    "|<       |Less than - returns `True` if left-hand operand is less than right-hand operand      |\n",
    "|>=      |Greater than or equal to - returns `True` if left-hand operand is greater than or equal to right-hand operand       |\n",
    "|<=      |Less than or equal to - returns `True` if left-hand operand is less than or equal to right-hand operand       |"
   ]
  },
  {
   "cell_type": "markdown",
   "id": "8d481bcd",
   "metadata": {},
   "source": [
    "A few examples:"
   ]
  },
  {
   "cell_type": "code",
   "execution_count": null,
   "id": "2794bc3d",
   "metadata": {},
   "outputs": [],
   "source": [
    "print(2 != 3)\n",
    "print(4 >= 5)"
   ]
  },
  {
   "cell_type": "markdown",
   "id": "3f8c8d01",
   "metadata": {},
   "source": [
    "There is also the *equality operator* `=`, which assigns RHS operand values to LHS operands.\n",
    "\n",
    "[Return to contents](#0.)\n",
    "\n",
    "<hr style=\"border:2px solid gray\">"
   ]
  },
  {
   "cell_type": "markdown",
   "id": "19ae1b98",
   "metadata": {},
   "source": [
    "## 3. Control structures <a id='3.'></a>\n",
    "\n",
    "<hr style=\"border:2px solid gray\">"
   ]
  },
  {
   "cell_type": "markdown",
   "id": "912bd651",
   "metadata": {},
   "source": [
    "A `while` loop executes embedded code repeatedly as long as a given condition is met.  When this condition becomes false, the non-embedded code immediately after the loop will be executed.  An example of a `while` loop is below."
   ]
  },
  {
   "cell_type": "code",
   "execution_count": null,
   "id": "603f4218",
   "metadata": {},
   "outputs": [],
   "source": [
    "count = 0\n",
    "while (count < 3):    \n",
    "    count = count + 1\n",
    "    print(\"Count is {} as expected\".format(count))"
   ]
  },
  {
   "cell_type": "markdown",
   "id": "e1278e15",
   "metadata": {},
   "source": [
    "A `for` loop will execute embedded code repeatedly across all inputs.  It is similar to a while loop but has no deactivating conditions.  An example of a `for` loop is below.  Here, the `range` function returns a sequence of numbers between two given limits, with a default increment of 1."
   ]
  },
  {
   "cell_type": "code",
   "execution_count": null,
   "id": "4825b137",
   "metadata": {},
   "outputs": [],
   "source": [
    "for i in [1,2,3,4,5]:\n",
    "    print(i)"
   ]
  },
  {
   "cell_type": "markdown",
   "id": "eee57d8f",
   "metadata": {},
   "source": [
    "Alternatively, we could have used the `range()` function to give the same list between `1` and `5`."
   ]
  },
  {
   "cell_type": "markdown",
   "id": "7b86e1f2",
   "metadata": {},
   "source": [
    "The `break` statement can be embedded within a control structure.  If a given condition is met, it will terminate the loop containing it.  Below is a control structure containing a `break` statement."
   ]
  },
  {
   "cell_type": "code",
   "execution_count": null,
   "id": "062d67f7",
   "metadata": {},
   "outputs": [],
   "source": [
    "for val in \"hitchhikers\":\n",
    "    if val == \"s\":\n",
    "        break\n",
    "    print(val)\n",
    "print(\"DON'T PANIC\")"
   ]
  },
  {
   "cell_type": "markdown",
   "id": "5d41bb2c",
   "metadata": {},
   "source": [
    "[Return to contents](#0.)\n",
    "\n",
    "<hr style=\"border:2px solid gray\">"
   ]
  },
  {
   "cell_type": "markdown",
   "id": "e099f0f6",
   "metadata": {},
   "source": [
    "## 4. `if`, `else`, `elif` statements <a id='4.'></a>\n",
    "\n",
    "<hr style=\"border:2px solid gray\">"
   ]
  },
  {
   "cell_type": "markdown",
   "id": "9d5cc292",
   "metadata": {},
   "source": [
    "If an input meets the specified condition in an `if` statement, the code embedded within the statement is executed.  Below is an `if` condition."
   ]
  },
  {
   "cell_type": "code",
   "execution_count": null,
   "id": "373b9bb5",
   "metadata": {},
   "outputs": [],
   "source": [
    "i = 10\n",
    "if (i > 15):\n",
    "    print(\"10 is less than 15\")\n",
    "print(\"This is an if condition\")"
   ]
  },
  {
   "cell_type": "markdown",
   "id": "6036629c",
   "metadata": {},
   "source": [
    "The `else` statement can be placed below an `if` condition, allowing it to run whenever the `if` condition is not met.  he resulting structure is known as an `if else` condition.  Below is an `if else` condition."
   ]
  },
  {
   "cell_type": "code",
   "execution_count": null,
   "id": "fe8a5e77",
   "metadata": {},
   "outputs": [],
   "source": [
    "a = float(input(\"Enter a value for a: \", ))\n",
    "b = 200\n",
    "if b > a:\n",
    "  print(\"b is greater than a\")\n",
    "else:\n",
    "    print(\"a is greater than b\")"
   ]
  },
  {
   "cell_type": "markdown",
   "id": "dbdb16ca",
   "metadata": {},
   "source": [
    "An `else` condition can be combined with an `if` condition to make an `elif` condition.  When the condition is met, the `if` condition's code is executed.  Otherwise, the `else` condition's code is executed.  Several `elif` conditions can be combined into a so-called 'elif ladder'.  Below is one such elif ladder."
   ]
  },
  {
   "cell_type": "code",
   "execution_count": null,
   "id": "f5a04aa1",
   "metadata": {},
   "outputs": [],
   "source": [
    "i = 20\n",
    "if (i == 10):\n",
    "    print(\"i is 10\")\n",
    "elif (i == 15):\n",
    "    print(\"i is 15\")\n",
    "elif (i == 20):\n",
    "    print(\"i is 20\")\n",
    "else:\n",
    "    print(\"i is not present\")"
   ]
  },
  {
   "cell_type": "markdown",
   "id": "2e872360",
   "metadata": {},
   "source": [
    "[Return to contents](#0.)\n",
    "\n",
    "<hr style=\"border:2px solid gray\">"
   ]
  }
 ],
 "metadata": {
  "kernelspec": {
   "display_name": "Python 3 (ipykernel)",
   "language": "python",
   "name": "python3"
  },
  "language_info": {
   "codemirror_mode": {
    "name": "ipython",
    "version": 3
   },
   "file_extension": ".py",
   "mimetype": "text/x-python",
   "name": "python",
   "nbconvert_exporter": "python",
   "pygments_lexer": "ipython3",
   "version": "3.7.6"
  }
 },
 "nbformat": 4,
 "nbformat_minor": 5
}
