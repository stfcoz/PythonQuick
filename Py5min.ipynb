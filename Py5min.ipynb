{
 "cells": [
  {
   "cell_type": "markdown",
   "id": "aa301bc5",
   "metadata": {},
   "source": [
    "# Python in 5 minutes"
   ]
  },
  {
   "cell_type": "markdown",
   "id": "9f2ff61a",
   "metadata": {},
   "source": [
    "Contents:\n",
    "- [Data types](#1.)\n",
    "- [Operators](#2.)\n",
    "- [Control structures](#3.)\n",
    "- [`if`, `else`, `elif` conditions](#4.)\n",
    "- [User-defined functions](#5.)"
   ]
  },
  {
   "cell_type": "markdown",
   "id": "497191b5",
   "metadata": {},
   "source": [
    "## 1. Data types <a id='1.'></a>"
   ]
  },
  {
   "cell_type": "code",
   "execution_count": null,
   "id": "391c76db",
   "metadata": {},
   "outputs": [],
   "source": []
  },
  {
   "cell_type": "markdown",
   "id": "b46240ae",
   "metadata": {},
   "source": [
    "## 2. Operators <a id='2.'></a>"
   ]
  },
  {
   "cell_type": "code",
   "execution_count": null,
   "id": "ae6a4ec2",
   "metadata": {},
   "outputs": [],
   "source": []
  },
  {
   "cell_type": "markdown",
   "id": "03aecb36",
   "metadata": {},
   "source": [
    "## 3. Control structures <a id='3.'></a>"
   ]
  },
  {
   "cell_type": "code",
   "execution_count": null,
   "id": "3610fcfa",
   "metadata": {},
   "outputs": [],
   "source": []
  },
  {
   "cell_type": "markdown",
   "id": "45f4ba39",
   "metadata": {},
   "source": [
    "## 4. `if`, `else` `elif` conditions <a id='4.'></a>"
   ]
  },
  {
   "cell_type": "code",
   "execution_count": null,
   "id": "5f3b46ae",
   "metadata": {},
   "outputs": [],
   "source": []
  },
  {
   "cell_type": "markdown",
   "id": "25dfd43c",
   "metadata": {},
   "source": [
    "## 5. User-defined functions <a id='5.'></a>"
   ]
  },
  {
   "cell_type": "code",
   "execution_count": null,
   "id": "f08a7abb",
   "metadata": {},
   "outputs": [],
   "source": []
  }
 ],
 "metadata": {
  "kernelspec": {
   "display_name": "Python 3 (ipykernel)",
   "language": "python",
   "name": "python3"
  },
  "language_info": {
   "codemirror_mode": {
    "name": "ipython",
    "version": 3
   },
   "file_extension": ".py",
   "mimetype": "text/x-python",
   "name": "python",
   "nbconvert_exporter": "python",
   "pygments_lexer": "ipython3",
   "version": "3.7.6"
  }
 },
 "nbformat": 4,
 "nbformat_minor": 5
}
