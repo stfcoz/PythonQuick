{
 "cells": [
  {
   "cell_type": "markdown",
   "id": "aa301bc5",
   "metadata": {},
   "source": [
    "# Python in 5 minutes"
   ]
  },
  {
   "cell_type": "markdown",
   "id": "b5bf3072",
   "metadata": {},
   "source": [
    "Contents:\n",
    "- [Data types](#1.)\n",
    "- [Operators](#2.)\n",
    "- [Control structures](#3.)\n",
    "- [`if`, `else`, `elif` conditions](#4.)\n",
    "- [User-defined functions](#5.)"
   ]
  },
  {
   "cell_type": "markdown",
   "id": "8f3333c4",
   "metadata": {},
   "source": [
    "## 1. Data types <a id='1.'></a>"
   ]
  },
  {
   "cell_type": "markdown",
   "id": "0b0e3dd8",
   "metadata": {},
   "source": [
    "Run the code cell below for a quick explanation."
   ]
  },
  {
   "cell_type": "code",
   "execution_count": null,
   "id": "f40a0021",
   "metadata": {},
   "outputs": [],
   "source": [
    "print(\"Integers\")\n",
    "I1 = 4\n",
    "print(\"\")\n",
    "print(\"This is an integer:\", I1)\n",
    "\n",
    "print(\"\")\n",
    "print(\"\")\n",
    "\n",
    "#-------------------------------------------------------------------------------------------------------------------\n",
    "\n",
    "print(\"Floating-point numbers (floats)\")\n",
    "F1 = 2.1\n",
    "F2 = 4E-7\n",
    "print(\"\")\n",
    "print(\"This is a float:\", F1)\n",
    "print(\"This is also a float:\", F2)\n",
    "\n",
    "print(\"\")\n",
    "print(\"\")\n",
    "\n",
    "#-------------------------------------------------------------------------------------------------------------------\n",
    "\n",
    "print(\"Strings\")\n",
    "S1 = 'Beep'\n",
    "S2 = \"Welcome to Python!\"\n",
    "print(\"\")\n",
    "print(\"This is a string:\", S1)\n",
    "print(\"This is also a string:\", S2)\n",
    "\n",
    "print(\"\")\n",
    "print(\"\")\n",
    "\n",
    "print(\"String concatenation (adding to a string)\")\n",
    "name = input(\"Enter your name:\", )\n",
    "print(\"Hello \" + name + \"!\")\n",
    "\n",
    "print(\"\")\n",
    "print(\"\")\n",
    "\n",
    "#-------------------------------------------------------------------------------------------------------------------\n",
    "\n",
    "print(\"Lists\")\n",
    "print(\"\")\n",
    "print(\"[] is an empty list\")\n",
    "L1 = [1,'2',3,'Four',5]\n",
    "print(\"This is a list:\", L1)\n",
    "print(\"This is like a string, but where the elements can be different data types\")\n",
    "\n",
    "print(\"\")\n",
    "print(\"\")\n",
    "\n",
    "print(\"Accessing list elements\")\n",
    "L2 = [1,2,3,4,5]\n",
    "print(\"This is also a list:\", L2)\n",
    "\n",
    "print(\"\")\n",
    "\n",
    "print(\"This is the 1st element:\", L2[0], \".  It is given by L2[0] (index is 0)\")\n",
    "print(\"This is the 2nd elemtn:\", L2[1], \".  It is given by L2[1]\")\n",
    "print(\"These are the 3rd (index 2) and 4th (index 3) elements\", L2[2:4], \"They are given by L2[2:4].\")\n",
    "\n",
    "print(\"\")\n",
    "print(\"\")\n",
    "\n",
    "#-------------------------------------------------------------------------------------------------------------------\n",
    "\n",
    "print(\"Appending to a list\")\n",
    "L3 = ['One', 'Two', 'Three']\n",
    "print(\"\")\n",
    "print(\"Original list:\", L3)\n",
    "L3.append('Four')\n",
    "print(\"Appended list:\", L3)\n",
    "\n",
    "\n",
    "print(\"\")\n",
    "print(\"\")\n",
    "\n",
    "#-------------------------------------------------------------------------------------------------------------------\n",
    "print(\"Length of a list\")\n",
    "L4 = [1,2,3,4,5,6,7,8]\n",
    "print(\"\")\n",
    "print(\"List:\", L4)\n",
    "print(\"Length of list:\", len(L4))\n",
    "\n",
    "print(\"\")\n",
    "print(\"\")\n",
    "\n",
    "#-------------------------------------------------------------------------------------------------------------------\n",
    "\n",
    "print(\"Tuples\")\n",
    "T1 = 1, 2, 3, 'Bazinga!'\n",
    "print(\"\")\n",
    "print(\"This is a tuple:\", T1)\n",
    "print(\"First element:\", T1[0], \".  This is given by T1[0]\")\n",
    "print(\"Last element:\", T1[3], \".  This is given by T1[3] as the tuple is of length 4\")\n",
    "\n",
    "print(\"\")\n",
    "print(\"Tuples are immutable, meaning they cannot be changed.\")\n",
    "print(\"You must instead convert the tuples into a list, change it, then convert back to a tuple.\")\n",
    "\n",
    "print(\"\")\n",
    "print(\"\")\n",
    "\n",
    "#-------------------------------------------------------------------------------------------------------------------\n",
    "\n",
    "print(\"Booleans\")\n",
    "B1 = 4 < 7\n",
    "print(\"\")\n",
    "\n",
    "print(\"The inequality 4 < 7 is a boolean.\")\n",
    "print(\"Result:\", B1)\n",
    "print(\"\")\n",
    "\n",
    "print(\"A boolean is simply a 'True' or 'False' condition.\")\n",
    "\n",
    "#-------------------------------------------------------------------------------------------------------------------"
   ]
  },
  {
   "cell_type": "markdown",
   "id": "d45141c2",
   "metadata": {},
   "source": [
    "## 2. Operators <a id='2.'></a>"
   ]
  },
  {
   "cell_type": "code",
   "execution_count": null,
   "id": "2c69660f",
   "metadata": {},
   "outputs": [],
   "source": []
  },
  {
   "cell_type": "markdown",
   "id": "ff305491",
   "metadata": {},
   "source": [
    "## 3. Control structures <a id='3.'></a>"
   ]
  },
  {
   "cell_type": "code",
   "execution_count": null,
   "id": "305f8912",
   "metadata": {},
   "outputs": [],
   "source": []
  },
  {
   "cell_type": "markdown",
   "id": "715c5705",
   "metadata": {},
   "source": [
    "## 4. `if`, `else` `elif` conditions <a id='4.'></a>"
   ]
  },
  {
   "cell_type": "code",
   "execution_count": null,
   "id": "ea83f40e",
   "metadata": {},
   "outputs": [],
   "source": []
  },
  {
   "cell_type": "markdown",
   "id": "0e98dd2e",
   "metadata": {},
   "source": [
    "## 5. User-defined functions <a id='5.'></a>"
   ]
  },
  {
   "cell_type": "code",
   "execution_count": null,
   "id": "e6f59d53",
   "metadata": {},
   "outputs": [],
   "source": []
  }
 ],
 "metadata": {
  "kernelspec": {
   "display_name": "Python 3 (ipykernel)",
   "language": "python",
   "name": "python3"
  },
  "language_info": {
   "codemirror_mode": {
    "name": "ipython",
    "version": 3
   },
   "file_extension": ".py",
   "mimetype": "text/x-python",
   "name": "python",
   "nbconvert_exporter": "python",
   "pygments_lexer": "ipython3",
   "version": "3.7.6"
  }
 },
 "nbformat": 4,
 "nbformat_minor": 5
}
