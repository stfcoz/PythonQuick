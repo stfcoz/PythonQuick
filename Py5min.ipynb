{
 "cells": [
  {
   "cell_type": "markdown",
   "id": "aa301bc5",
   "metadata": {},
   "source": [
    "# Python in 5 minutes"
   ]
  },
  {
   "cell_type": "markdown",
   "id": "86d30ea5",
   "metadata": {},
   "source": [
    "Contents:\n",
    "- [Data types](#1.)\n",
    "- [Operators](#2.)\n",
    "- [Control structures](#3.)\n",
    "- [`if`, `else`, `elif` statements](#4.)\n",
    "- [UDFs and classes](#5.)"
   ]
  },
  {
   "cell_type": "markdown",
   "id": "e06db4c6",
   "metadata": {},
   "source": [
    "## 1. Data types <a id='1.'></a>\n",
    "\n",
    "<hr style=\"border:2px solid gray\">"
   ]
  },
  {
   "cell_type": "markdown",
   "id": "bd708260",
   "metadata": {},
   "source": [
    "***Integers*** are whole numbers."
   ]
  },
  {
   "cell_type": "code",
   "execution_count": null,
   "id": "0df58c9e",
   "metadata": {},
   "outputs": [],
   "source": [
    "I1 = 4\n",
    "print(I1, \"is an integer.\")"
   ]
  },
  {
   "cell_type": "markdown",
   "id": "76cc6f75",
   "metadata": {},
   "source": [
    "**Floating-point numbers** (floats) are decimal numbers."
   ]
  },
  {
   "cell_type": "code",
   "execution_count": null,
   "id": "9ea159ba",
   "metadata": {},
   "outputs": [],
   "source": [
    "F1 = 2.1\n",
    "F2 = 4E-7\n",
    "print(F1, \"is a float.\")\n",
    "print(F2, \"is also a float.\")"
   ]
  },
  {
   "cell_type": "markdown",
   "id": "19beba80",
   "metadata": {},
   "source": [
    "**Strings** are sequenced items of the same type."
   ]
  },
  {
   "cell_type": "code",
   "execution_count": null,
   "id": "deb209d1",
   "metadata": {},
   "outputs": [],
   "source": [
    "S1 = 'Beep'\n",
    "S2 = \"Welcome to Python!\"\n",
    "print(S1, \"is a string.\")\n",
    "print(S2, \"is also a string.\")"
   ]
  },
  {
   "cell_type": "markdown",
   "id": "7cd032dc",
   "metadata": {},
   "source": [
    "We can *concatenate* (add) strings."
   ]
  },
  {
   "cell_type": "code",
   "execution_count": null,
   "id": "80d0d018",
   "metadata": {},
   "outputs": [],
   "source": [
    "name = input(\"Enter your name:\", )\n",
    "print(\"Hello \" + name + \"!\")"
   ]
  },
  {
   "cell_type": "markdown",
   "id": "caa789e5",
   "metadata": {},
   "source": [
    "A **list** is similar to a string, but the items can be different data types."
   ]
  },
  {
   "cell_type": "code",
   "execution_count": null,
   "id": "95369cf3",
   "metadata": {},
   "outputs": [],
   "source": [
    "L0 = []\n",
    "L1 = [1, '2', 3, 'Four', 5]\n",
    "print(L0, \"is an empty list.\")\n",
    "print(L1, \"is a list.\")"
   ]
  },
  {
   "cell_type": "markdown",
   "id": "d2803082",
   "metadata": {},
   "source": [
    "We can access **elements** of a list from their **index**, as well as 'slice' them by element."
   ]
  },
  {
   "cell_type": "code",
   "execution_count": null,
   "id": "13b392a9",
   "metadata": {},
   "outputs": [],
   "source": [
    "L2 = [1,2,3,4,5]\n",
    "\n",
    "print(L2[0], \"is the 1st element of hte list L2.  It is given by L2[0] (index is 0).\")\n",
    "print(L2[1], \"is the 2nd element of L2.  It is given by L2[1].\")\n",
    "print(L2[2:4], \"are the 3rd (index 2) and 4th (index 3) elements of L2.  They are given by L2[2:4].\")"
   ]
  },
  {
   "cell_type": "markdown",
   "id": "989063c8",
   "metadata": {},
   "source": [
    "We can *append* (add) to a list, as well as find its length."
   ]
  },
  {
   "cell_type": "code",
   "execution_count": null,
   "id": "8c468cd5",
   "metadata": {},
   "outputs": [],
   "source": [
    "L3 = ['One', 'Two', 'Three']\n",
    "print(\"The original list:\", L3)\n",
    "L3.append('Four')\n",
    "print(\"The appended list:\", L3)\n",
    "print(\"This list is\", len(L3), \"elements long.\")"
   ]
  },
  {
   "cell_type": "markdown",
   "id": "018c68ec",
   "metadata": {},
   "source": [
    "A **tuple** is like a list, though it is immutable (cannot be changed)."
   ]
  },
  {
   "cell_type": "code",
   "execution_count": null,
   "id": "b18ec32c",
   "metadata": {},
   "outputs": [],
   "source": [
    "T1 = 1, 2, 3, 'Bazinga!'\n",
    "print(T1, \"is a tuple.\")\n",
    "print(T1[0], \"is the first element of the tuple T1.  It is given by T1[0]\")\n",
    "print(T1[3], \"is the last element of T1.  It is given by T1[3] as the tuple is of length 4.\")"
   ]
  },
  {
   "cell_type": "markdown",
   "id": "d58c9d2d",
   "metadata": {},
   "source": [
    "A ***boolean*** is simply a `True` or `False` condition."
   ]
  },
  {
   "cell_type": "code",
   "execution_count": null,
   "id": "14dcce96",
   "metadata": {},
   "outputs": [],
   "source": [
    "B1 = 4 < 7\n",
    "print(\"The inequality 4 < 7 is a boolean.\")\n",
    "print(\"Result:\", B1)"
   ]
  },
  {
   "cell_type": "markdown",
   "id": "2347a10e",
   "metadata": {},
   "source": [
    "<hr style=\"border:2px solid gray\">"
   ]
  },
  {
   "cell_type": "markdown",
   "id": "4c3b3331",
   "metadata": {},
   "source": [
    "## 2. Operators <a id='2.'></a>"
   ]
  },
  {
   "cell_type": "markdown",
   "id": "83ce4647",
   "metadata": {},
   "source": [
    "Several **arithmetic operators** are tabulated below."
   ]
  },
  {
   "cell_type": "markdown",
   "id": "9d8a4fbc",
   "metadata": {},
   "source": [
    "| Operator | Description                                                                    | Example        |\n",
    "|:--------:|:------------------------------------------------------------------------------:|:--------------:|\n",
    "| +        | Addition - adds operands on either side of the operator                        | `2 + 2 = 4`    |\n",
    "| -        | Subtraction - subtracts right-hand operand from-left hand operand              | `5 - 2 = 3`    |\n",
    "| *        | Multiplication - multiplies values on either side of operator                  | `3*3 = 9`      |\n",
    "| /        | Division - divides left-hand operand by right-hand operand                     | `22 / 8 = 2.75`|\n",
    "| **       | Exponent - raises left-hand operand to the power of right-hand operand         | `2**3 = 8`     |\n",
    "| %        | Modulo - divides left-hand operand by right-hand operand and returns remainder | `13 % 3 = 1`   |\n",
    "| //       | Floor division - same as with the division operator, but with decimals removed | `22 // 8 = 2`  |"
   ]
  },
  {
   "cell_type": "markdown",
   "id": "6fae918d",
   "metadata": {},
   "source": [
    "Several **comparison operators** are tabulated below."
   ]
  },
  {
   "cell_type": "markdown",
   "id": "e04145d0",
   "metadata": {},
   "source": [
    "|Operator|Description                                                                          |\n",
    "|:-:     |:-:|\n",
    "|==      |Equal to - compares both operands, returns `True` if they are equal                  |\n",
    "|!=      |Not equal to - compares both operands, returns `True` if they are not equal          |\n",
    "|<>      |Alternative form of the *not equal to* operator                                      |\n",
    "|>       |Greater than - returns `True` if left-hand operand is greater than right-hand operand|\n",
    "|<       |Less than - returns `True` if left-hand operand is less than right-hand operand      |\n",
    "|>=      |Greater than or equal to - returns `True` if left-hand operand is greater than or equal to right-hand operand       |\n",
    "|<=      |Less than or equal to - returns `True` if left-hand operand is less than or equal to right-hand operand       |"
   ]
  },
  {
   "cell_type": "markdown",
   "id": "df9b7405",
   "metadata": {},
   "source": [
    "There is also the *equality operator* `=`, which assigns RHS operand values to LHS operands."
   ]
  },
  {
   "cell_type": "markdown",
   "id": "36d84d98",
   "metadata": {},
   "source": [
    "## 3. Control structures <a id='3.'></a>\n",
    "\n",
    "<hr style=\"border:2px solid gray\">"
   ]
  },
  {
   "cell_type": "code",
   "execution_count": null,
   "id": "86014847",
   "metadata": {},
   "outputs": [],
   "source": []
  },
  {
   "cell_type": "markdown",
   "id": "91e99976",
   "metadata": {},
   "source": [
    "<hr style=\"border:2px solid gray\">"
   ]
  },
  {
   "cell_type": "markdown",
   "id": "0f716e0e",
   "metadata": {},
   "source": [
    "## 4. `if`, `else`, `elif` statements <a id='4.'></a>\n",
    "\n",
    "<hr style=\"border:2px solid gray\">"
   ]
  },
  {
   "cell_type": "code",
   "execution_count": null,
   "id": "85852d90",
   "metadata": {},
   "outputs": [],
   "source": []
  },
  {
   "cell_type": "markdown",
   "id": "60328391",
   "metadata": {},
   "source": [
    "<hr style=\"border:2px solid gray\">"
   ]
  },
  {
   "cell_type": "markdown",
   "id": "58919210",
   "metadata": {},
   "source": [
    "## 5. UDFs and classes <a id='5.'></a>\n",
    "\n",
    "<hr style=\"border:2px solid gray\">"
   ]
  },
  {
   "cell_type": "code",
   "execution_count": null,
   "id": "3ff8973f",
   "metadata": {},
   "outputs": [],
   "source": []
  },
  {
   "cell_type": "markdown",
   "id": "fa4e771d",
   "metadata": {},
   "source": [
    "<hr style=\"border:2px solid gray\">"
   ]
  }
 ],
 "metadata": {
  "kernelspec": {
   "display_name": "Python 3 (ipykernel)",
   "language": "python",
   "name": "python3"
  },
  "language_info": {
   "codemirror_mode": {
    "name": "ipython",
    "version": 3
   },
   "file_extension": ".py",
   "mimetype": "text/x-python",
   "name": "python",
   "nbconvert_exporter": "python",
   "pygments_lexer": "ipython3",
   "version": "3.7.6"
  }
 },
 "nbformat": 4,
 "nbformat_minor": 5
}
