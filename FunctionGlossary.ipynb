{
 "cells": [
  {
   "cell_type": "markdown",
   "id": "899a8c64",
   "metadata": {},
   "source": [
    "# A glossary of useful functions <a name=\"0.\"></a>"
   ]
  },
  {
   "cell_type": "markdown",
   "id": "ed0c4cd0",
   "metadata": {},
   "source": []
  },
  {
   "cell_type": "markdown",
   "id": "8c258c6e",
   "metadata": {},
   "source": [
    "Below are the various modules that need to be imported; this way, there is no need to call them in later sections."
   ]
  },
  {
   "cell_type": "code",
   "execution_count": null,
   "id": "8ddd3bfe",
   "metadata": {},
   "outputs": [],
   "source": [
    "import math\n",
    "import random\n",
    "import string\n",
    "import numpy as np\n",
    "import matplotlib.pyplot as plt\n",
    "import pandas\n",
    "from scipy.optimize import curve_fit"
   ]
  },
  {
   "cell_type": "markdown",
   "id": "ad72e515",
   "metadata": {},
   "source": [
    "Contents:\n",
    "- [Inbuilt functions](#1.)\n",
    "- [`math` functions](#2.)\n",
    "- [`random` functions](#3.)\n",
    "- [`string` functions](#4.)\n",
    "- [`numpy` functions](#5.)\n",
    "- [`matplotlib` functions](#6.)\n",
    "- [Importing data](#7.)\n",
    "- [`curve_fit` functions](#8.)"
   ]
  },
  {
   "cell_type": "markdown",
   "id": "d4858db3",
   "metadata": {},
   "source": [
    "## 1. Inbuilt functions <a name=\"1.\"></a>\n",
    "\n",
    "<hr style=\"border:2px solid gray\">"
   ]
  },
  {
   "cell_type": "markdown",
   "id": "5b5f9489",
   "metadata": {},
   "source": [
    "**print:** Displays item/s within bracket."
   ]
  },
  {
   "cell_type": "code",
   "execution_count": null,
   "id": "7c575474",
   "metadata": {},
   "outputs": [],
   "source": [
    "print(\"Shut up and take my money!\")"
   ]
  },
  {
   "cell_type": "markdown",
   "id": "6dcd968a",
   "metadata": {},
   "source": [
    "**input:** Allows an input value to be entered manually once the code is run."
   ]
  },
  {
   "cell_type": "code",
   "execution_count": null,
   "id": "5115525d",
   "metadata": {},
   "outputs": [],
   "source": [
    "name = input(\"Enter your name: \")\n",
    "print(f\"{name} HAS ENTERED THE CHAT\")"
   ]
  },
  {
   "cell_type": "markdown",
   "id": "3a016b97",
   "metadata": {},
   "source": [
    "**append:** Adds a singular item to end of list."
   ]
  },
  {
   "cell_type": "code",
   "execution_count": null,
   "id": "4956a4f2",
   "metadata": {},
   "outputs": [],
   "source": [
    "tune = ['do', 're']\n",
    "tune.append('mi')\n",
    "print(tune)"
   ]
  },
  {
   "cell_type": "markdown",
   "id": "e2c65205",
   "metadata": {},
   "source": [
    "**len:** Returns the number of items in an object."
   ]
  },
  {
   "cell_type": "code",
   "execution_count": null,
   "id": "3f5e489d",
   "metadata": {},
   "outputs": [],
   "source": [
    "L = [1,2,3,4,5]\n",
    "len(L)"
   ]
  },
  {
   "cell_type": "markdown",
   "id": "5e131983",
   "metadata": {},
   "source": [
    "**type:** Returns the class type of the input object."
   ]
  },
  {
   "cell_type": "code",
   "execution_count": null,
   "id": "21a59e1f",
   "metadata": {},
   "outputs": [],
   "source": [
    "a = ('do', 're', 'mi')\n",
    "b = \"Hello world!\"\n",
    "c = 33\n",
    "\n",
    "print(type(a),type(b),type(c))"
   ]
  },
  {
   "cell_type": "markdown",
   "id": "54484491",
   "metadata": {},
   "source": [
    "**round:** Rounds up $1^{st}$ input to order of $2^{nd}$ input."
   ]
  },
  {
   "cell_type": "code",
   "execution_count": null,
   "id": "1b5150b3",
   "metadata": {},
   "outputs": [],
   "source": [
    "x = round(3.1415926535, 2)\n",
    "print(x)"
   ]
  },
  {
   "cell_type": "markdown",
   "id": "794dc897",
   "metadata": {},
   "source": [
    "**range:** Returns a range of numbers, starting at the $1^{st}$ argument, stopping at the $2^{nd}$ and incrementing by the $3^{rd}$."
   ]
  },
  {
   "cell_type": "code",
   "execution_count": null,
   "id": "e9673a0a",
   "metadata": {},
   "outputs": [],
   "source": [
    "n = range(1, 23, 2)\n",
    "for i in n:\n",
    "    print(i)"
   ]
  },
  {
   "cell_type": "markdown",
   "id": "847d837d",
   "metadata": {},
   "source": [
    "**float:** Returns a floating-point number from a number or a string."
   ]
  },
  {
   "cell_type": "code",
   "execution_count": null,
   "id": "75d47e6f",
   "metadata": {},
   "outputs": [],
   "source": [
    "integ = 25\n",
    "print(float(integ))"
   ]
  },
  {
   "cell_type": "markdown",
   "id": "de000147",
   "metadata": {},
   "source": [
    "**int:** Converts the input value into an integer."
   ]
  },
  {
   "cell_type": "code",
   "execution_count": null,
   "id": "1db431a2",
   "metadata": {},
   "outputs": [],
   "source": [
    "print(int(10.0))\n",
    "print(int(\"12\"))"
   ]
  },
  {
   "cell_type": "markdown",
   "id": "1d657076",
   "metadata": {},
   "source": [
    "**list:** Creates a list from the input variable/s."
   ]
  },
  {
   "cell_type": "code",
   "execution_count": null,
   "id": "6eeff013",
   "metadata": {},
   "outputs": [],
   "source": [
    "L = list(('Phasers', 'to', 'stun'))\n",
    "print(L)"
   ]
  },
  {
   "cell_type": "markdown",
   "id": "a0c77918",
   "metadata": {},
   "source": [
    "**str:** Converts input value into a string."
   ]
  },
  {
   "cell_type": "code",
   "execution_count": null,
   "id": "b93d9ff0",
   "metadata": {},
   "outputs": [],
   "source": [
    "s = str(\"BFG\")\n",
    "print(s)"
   ]
  },
  {
   "cell_type": "markdown",
   "id": "6ed7741c",
   "metadata": {},
   "source": [
    "[Return to contents](#0.)\n",
    "\n",
    "<hr style=\"border:2px solid gray\">"
   ]
  },
  {
   "cell_type": "markdown",
   "id": "917ee83f",
   "metadata": {},
   "source": [
    "## 2. `math` functions <a name=\"2.\"></a>\n",
    "\n",
    "<hr style=\"border:2px solid gray\">"
   ]
  },
  {
   "cell_type": "markdown",
   "id": "7e380801",
   "metadata": {},
   "source": [
    "**math.sqrt:** Returns the square root of the input."
   ]
  },
  {
   "cell_type": "code",
   "execution_count": null,
   "id": "785aa386",
   "metadata": {},
   "outputs": [],
   "source": [
    "sq = math.sqrt(19)\n",
    "print(sq)"
   ]
  },
  {
   "cell_type": "markdown",
   "id": "bc0422d2",
   "metadata": {},
   "source": [
    "**math.pi:** Returns a high-order approximation of the constant $\\pi$."
   ]
  },
  {
   "cell_type": "code",
   "execution_count": null,
   "id": "c0a69775",
   "metadata": {},
   "outputs": [],
   "source": [
    "pi = math.pi\n",
    "print(pi)\n",
    "print(2*pi)"
   ]
  },
  {
   "cell_type": "markdown",
   "id": "4b5e35cb",
   "metadata": {},
   "source": [
    "**math.cos:** Returns the cosine of the input."
   ]
  },
  {
   "cell_type": "code",
   "execution_count": null,
   "id": "3dd40b06",
   "metadata": {},
   "outputs": [],
   "source": [
    "cos = math.cos(3*pi)\n",
    "print(cos)"
   ]
  },
  {
   "cell_type": "markdown",
   "id": "9f9931e8",
   "metadata": {},
   "source": [
    "**math.sin:** Returns the sine of the input. [[[Check code cell]]]"
   ]
  },
  {
   "cell_type": "code",
   "execution_count": null,
   "id": "5cb307c3",
   "metadata": {},
   "outputs": [],
   "source": [
    "sine = math.sin(pi)\n",
    "print(sine)"
   ]
  },
  {
   "cell_type": "markdown",
   "id": "0ab5f312",
   "metadata": {},
   "source": [
    "**math.e:** Returns a high-order approximation of the constant $e$."
   ]
  },
  {
   "cell_type": "code",
   "execution_count": null,
   "id": "5f5c1889",
   "metadata": {},
   "outputs": [],
   "source": [
    "e = math.e\n",
    "print(e)"
   ]
  },
  {
   "cell_type": "markdown",
   "id": "b52ec929",
   "metadata": {},
   "source": [
    "**math.log:** Returns logarithm of $1^{st}$ input to base of $2^{nd}$.  Default is $e$."
   ]
  },
  {
   "cell_type": "code",
   "execution_count": null,
   "id": "1a0b4c31",
   "metadata": {},
   "outputs": [],
   "source": [
    "print(math.log(e))\n",
    "print(math.log(2))\n",
    "print(math.log(10,2))\n",
    "print(math.log(8,2))"
   ]
  },
  {
   "cell_type": "markdown",
   "id": "e6402164",
   "metadata": {},
   "source": [
    "**math.isclose:** Returns `True` if the $1^{st}$ and $2^{nd}$ inputs are close.  The $3^{rd}$ argument is the *relative tolerance*, the maximum allowed difference between both inputs.  Default value for the relative tolerance is $10^{-9}$."
   ]
  },
  {
   "cell_type": "code",
   "execution_count": null,
   "id": "929e5300",
   "metadata": {},
   "outputs": [],
   "source": [
    "print(math.isclose(8.005, 8.450, rel_tol = 0.02))\n",
    "print(math.isclose(8.005, 8.450, rel_tol = 0.5)) "
   ]
  },
  {
   "cell_type": "markdown",
   "id": "3ab10955",
   "metadata": {},
   "source": [
    "[Return to contents](#0.)\n",
    "\n",
    "<hr style=\"border:2px solid gray\">"
   ]
  },
  {
   "cell_type": "markdown",
   "id": "10a4f6eb",
   "metadata": {},
   "source": [
    "## 3. `random` functions <a name=\"3.\"></a>\n",
    "\n",
    "<hr style=\"border:2px solid gray\">"
   ]
  },
  {
   "cell_type": "markdown",
   "id": "f109da6d",
   "metadata": {},
   "source": [
    "**random.uniform:** Returns a random number between the $1^{st}$ and $2^{nd}$ inputs."
   ]
  },
  {
   "cell_type": "code",
   "execution_count": null,
   "id": "0f954c46",
   "metadata": {},
   "outputs": [],
   "source": [
    "print(random.uniform(20, 60))"
   ]
  },
  {
   "cell_type": "markdown",
   "id": "318eccd8",
   "metadata": {},
   "source": [
    "**random.sample:** Returns a random list of specified length ($2^{nd}$ input) from the $1^{st}$ input."
   ]
  },
  {
   "cell_type": "code",
   "execution_count": null,
   "id": "f842e515",
   "metadata": {},
   "outputs": [],
   "source": [
    "s1 = [1,2,3,4,5]\n",
    "print(random.sample(s1,3))"
   ]
  },
  {
   "cell_type": "markdown",
   "id": "32904c45",
   "metadata": {},
   "source": [
    "**random.shuffle:** Returns a randomly shuffled list from the input."
   ]
  },
  {
   "cell_type": "code",
   "execution_count": null,
   "id": "9e69f613",
   "metadata": {},
   "outputs": [],
   "source": [
    "s2 = ['A','B','C','D','E']\n",
    "random.shuffle(s2)\n",
    "print(s2)"
   ]
  },
  {
   "cell_type": "markdown",
   "id": "6847956e",
   "metadata": {},
   "source": [
    "**random.randint:** Returns a random integer between the $s^{st}$ and $2^{nd}$ inputs."
   ]
  },
  {
   "cell_type": "code",
   "execution_count": null,
   "id": "c7330875",
   "metadata": {},
   "outputs": [],
   "source": [
    "print(random.randint(2,22))"
   ]
  },
  {
   "cell_type": "markdown",
   "id": "d95cb858",
   "metadata": {},
   "source": [
    "**np.random.normal:** Returns random values from a Gaussian distribution.  The $1^{st}$ input is the mean of the distribution, the $2^{nd}$ is the standard deviation of the distribution and the $3^{rd}$ is the size of the distribution."
   ]
  },
  {
   "cell_type": "code",
   "execution_count": null,
   "id": "174a11d7",
   "metadata": {},
   "outputs": [],
   "source": [
    "gss = np.random.normal(15,2,50)\n",
    "print(gss)"
   ]
  },
  {
   "cell_type": "markdown",
   "id": "5e25ccbe",
   "metadata": {},
   "source": [
    "[Return to contents](#0.)\n",
    "\n",
    "<hr style=\"border:2px solid gray\">"
   ]
  },
  {
   "cell_type": "markdown",
   "id": "b7a55230",
   "metadata": {},
   "source": [
    "## 4. `string` functions <a name=\"4.\"></a>\n",
    "\n",
    "<hr style=\"border:2px solid gray\">"
   ]
  },
  {
   "cell_type": "markdown",
   "id": "1527ffed",
   "metadata": {},
   "source": [
    "**string.ascii_lowercase:** A string of lowercase letters used as a string constant."
   ]
  },
  {
   "cell_type": "code",
   "execution_count": null,
   "id": "f36d71a8",
   "metadata": {},
   "outputs": [],
   "source": [
    "print(string.ascii_lowercase)"
   ]
  },
  {
   "cell_type": "markdown",
   "id": "caa54030",
   "metadata": {},
   "source": [
    "**string.ascii_uppercase:** A string of uppercase letters used as a string constant."
   ]
  },
  {
   "cell_type": "code",
   "execution_count": null,
   "id": "5bcd0bd7",
   "metadata": {},
   "outputs": [],
   "source": [
    "print(string.ascii_uppercase)"
   ]
  },
  {
   "cell_type": "markdown",
   "id": "b19dc72c",
   "metadata": {},
   "source": [
    "**string.digits:** A string of numerical characters used as a string constant."
   ]
  },
  {
   "cell_type": "code",
   "execution_count": null,
   "id": "28d9f511",
   "metadata": {},
   "outputs": [],
   "source": [
    "print(string.digits)"
   ]
  },
  {
   "cell_type": "markdown",
   "id": "2b1cac1d",
   "metadata": {},
   "source": [
    "**string.punctuation:** A string of punctuative characters used as a string constant."
   ]
  },
  {
   "cell_type": "code",
   "execution_count": null,
   "id": "1e7557f3",
   "metadata": {},
   "outputs": [],
   "source": [
    "print(string.punctuation)"
   ]
  },
  {
   "cell_type": "markdown",
   "id": "5e852c14",
   "metadata": {},
   "source": [
    "**string.join:** Joins all items in a tuple into a string, using the specified character as a separator."
   ]
  },
  {
   "cell_type": "code",
   "execution_count": null,
   "id": "6d708203",
   "metadata": {},
   "outputs": [],
   "source": [
    "myTuple = (\"Uno\", \"Dos\", \"Tres\")\n",
    "x = \"/\".join(myTuple)\n",
    "y = \"\".join(myTuple)\n",
    "\n",
    "print(x)\n",
    "print(y)"
   ]
  },
  {
   "cell_type": "markdown",
   "id": "eeeb3889",
   "metadata": {},
   "source": [
    "**string.find:** Returns the index of first occurrence of the input."
   ]
  },
  {
   "cell_type": "code",
   "execution_count": null,
   "id": "2c5b1864",
   "metadata": {},
   "outputs": [],
   "source": [
    "txt = \"Would you kindly...\"\n",
    "x = txt.find(\"you\")\n",
    "print(x)"
   ]
  },
  {
   "cell_type": "markdown",
   "id": "44649e99",
   "metadata": {},
   "source": [
    "[Return to contents](#0.)\n",
    "\n",
    "<hr style=\"border:2px solid gray\">"
   ]
  },
  {
   "cell_type": "markdown",
   "id": "11d51c3e",
   "metadata": {},
   "source": [
    "## 5. `numpy` functions <a name=\"5.\"></a>\n",
    "\n",
    "<hr style=\"border:2px solid gray\">"
   ]
  },
  {
   "cell_type": "markdown",
   "id": "8a0d0f89",
   "metadata": {},
   "source": [
    "**np.sqrt:** Returns the square root of the input."
   ]
  },
  {
   "cell_type": "code",
   "execution_count": null,
   "id": "16ebcb82",
   "metadata": {},
   "outputs": [],
   "source": [
    "sq = np.sqrt(53)\n",
    "print(sq)"
   ]
  },
  {
   "cell_type": "markdown",
   "id": "79161f9d",
   "metadata": {},
   "source": [
    "**np.exp:** Returns the exponential of the input, which can be a sequenced data type."
   ]
  },
  {
   "cell_type": "code",
   "execution_count": null,
   "id": "c90f7cfb",
   "metadata": {},
   "outputs": [],
   "source": [
    "print(np.exp(2))"
   ]
  },
  {
   "cell_type": "markdown",
   "id": "d6e23538",
   "metadata": {},
   "source": [
    "**np.pi:** Returns a high-order approximation of the constant $\\pi$."
   ]
  },
  {
   "cell_type": "code",
   "execution_count": null,
   "id": "b12871f7",
   "metadata": {},
   "outputs": [],
   "source": [
    "pi = np.pi\n",
    "print(pi)"
   ]
  },
  {
   "cell_type": "markdown",
   "id": "0a6c3b1a",
   "metadata": {},
   "source": [
    "**np.linspace:** Returns an array beginning with the $1^{st}$ input, ending with the $2^{nd}$ and evenly spaced by the $3^{rd}$."
   ]
  },
  {
   "cell_type": "code",
   "execution_count": null,
   "id": "b7ba88c9",
   "metadata": {},
   "outputs": [],
   "source": [
    "print(np.linspace(1,2,9))"
   ]
  },
  {
   "cell_type": "markdown",
   "id": "60d5e665",
   "metadata": {},
   "source": [
    "**np.arange:** Returns an array beginning with the $1^{st}$ input, ending with the $2^{nd}$ and evenly spaced by the $3^{rd}$.  With a single input, the input is taken to be the stop value whilst the start value is taken to be $0$ and the step value to be $1$."
   ]
  },
  {
   "cell_type": "code",
   "execution_count": null,
   "id": "8d9989c1",
   "metadata": {},
   "outputs": [],
   "source": [
    "print(np.arange(4,20,3))"
   ]
  },
  {
   "cell_type": "markdown",
   "id": "c7c04282",
   "metadata": {},
   "source": [
    "**np.array (with ndmin option):** Returns an array of the input elements in the given order."
   ]
  },
  {
   "cell_type": "code",
   "execution_count": null,
   "id": "c07727a2",
   "metadata": {},
   "outputs": [],
   "source": [
    "D0 = np.array(1)\n",
    "D1 = np.array([1, 2, 3, 4, 5])\n",
    "D2 = np.array([[1, 2, 3], [4, 5, 6]])\n",
    "D3 = np.array([[[1, 2, 3], [4, 5, 6]], [[1, 2, 3], [4, 5, 6]]])\n",
    "\n",
    "print(D0)\n",
    "print(D1)\n",
    "print(D2)\n",
    "print(D3)"
   ]
  },
  {
   "cell_type": "markdown",
   "id": "4f95cbbe",
   "metadata": {},
   "source": [
    "**ndmin:** Specifies the dimensions of an array before generation."
   ]
  },
  {
   "cell_type": "code",
   "execution_count": null,
   "id": "03cd40be",
   "metadata": {},
   "outputs": [],
   "source": [
    "arr = np.array([1, 2, 3, 4], ndmin=4)\n",
    "print(arr)"
   ]
  },
  {
   "cell_type": "markdown",
   "id": "5faf3994",
   "metadata": {},
   "source": [
    "**array.ndim:** Returns the dimension of the array."
   ]
  },
  {
   "cell_type": "code",
   "execution_count": null,
   "id": "c1c115b5",
   "metadata": {},
   "outputs": [],
   "source": [
    "print(D0.ndim)\n",
    "print(D1.ndim)\n",
    "print(D2.ndim)\n",
    "print(D3.ndim)\n",
    "print(arr.ndim)"
   ]
  },
  {
   "cell_type": "markdown",
   "id": "67f65c19",
   "metadata": {},
   "source": [
    "**np.size:** Gives the product of the number of elements along each axis of an array."
   ]
  },
  {
   "cell_type": "code",
   "execution_count": null,
   "id": "faf65b31",
   "metadata": {},
   "outputs": [],
   "source": [
    "arr0 = np.array([1])\n",
    "arr1 = np.array([1,2,3])\n",
    "arr2 = np.array([[1,2,3], [4,5,6]])\n",
    "arr3 = np.array([[[1, 2, 3], [4, 5, 6]], [[1, 2, 3], [4, 5, 6]]])\n",
    "\n",
    "print(np.size(arr0))\n",
    "print(np.size(arr1))\n",
    "print(np.size(arr2))\n",
    "print(np.size(arr3))"
   ]
  },
  {
   "cell_type": "markdown",
   "id": "33cd4894",
   "metadata": {},
   "source": [
    "**np.shape:** Returns the shape of an input array."
   ]
  },
  {
   "cell_type": "code",
   "execution_count": null,
   "id": "da2dd656",
   "metadata": {},
   "outputs": [],
   "source": [
    "print(np.shape(arr3))"
   ]
  },
  {
   "cell_type": "markdown",
   "id": "99e582a4",
   "metadata": {},
   "source": [
    "**array.reshape:** Reshapes an input array into a specified shape.  Note that the output array must have the same number of elements as the input array."
   ]
  },
  {
   "cell_type": "code",
   "execution_count": null,
   "id": "305c37c3",
   "metadata": {},
   "outputs": [],
   "source": [
    "arr3new = arr3.reshape(1,1,12)\n",
    "print(arr3new)"
   ]
  },
  {
   "cell_type": "markdown",
   "id": "6ec1f6cb",
   "metadata": {},
   "source": [
    "np.stack"
   ]
  },
  {
   "cell_type": "code",
   "execution_count": null,
   "id": "d6fc4171",
   "metadata": {},
   "outputs": [],
   "source": [
    "arr1 = np.array([ 1, 2, 3] )\n",
    "print (\"Input array: \\n\", arr1) \n",
    "  \n",
    "arr2 = np.array([ 4, 5, 6] )\n",
    "print (\"2nd Input array: \\n\", arr2) \n",
    "\n",
    "arr_hor = np.stack((arr1, arr2), axis = 0)\n",
    "print (\"Output stacked array along axis 0: \\n\", arr_hor)\n",
    "\n",
    "arr_ver = np.stack((arr1, arr2), axis = 1)\n",
    "print (\"Output stacked array along axis 1: \\n\", arr_ver)"
   ]
  },
  {
   "cell_type": "markdown",
   "id": "fbb9f9f5",
   "metadata": {},
   "source": [
    "[Return to contents](#0.)\n",
    "\n",
    "<hr style=\"border:2px solid gray\">"
   ]
  },
  {
   "cell_type": "markdown",
   "id": "13647d58",
   "metadata": {},
   "source": [
    "## 6. `matplotlib` functions <a name=\"6.\"></a>\n",
    "\n",
    "<hr style=\"border:2px solid gray\">"
   ]
  },
  {
   "cell_type": "markdown",
   "id": "f216e41a",
   "metadata": {},
   "source": [
    "**plt.plot:** Plots the $2^{nd}$ input against the $1^{st}$ (i.e the $1^{st}$ input is $x$ whilst the $2^{nd}$ is $y$).  An optional $3^{rd}$ input is the format (`fmt`) with arguments `[marker]`, `[line]`, `[colour]`.  Must be followed up with `plt.show()` for the plot to render."
   ]
  },
  {
   "cell_type": "code",
   "execution_count": null,
   "id": "3c1ec752",
   "metadata": {},
   "outputs": [],
   "source": [
    "x = np.arange(-5,8,1)\n",
    "y = (x-1)**2\n",
    "\n",
    "plt.plot(x,y, marker = 'o', color = 'r')\n",
    "plt.show()"
   ]
  },
  {
   "cell_type": "markdown",
   "id": "fb940f1e",
   "metadata": {},
   "source": [
    "**plt.xlabel:** Assigns a label to the horizontal axis where the label is generated from a string input.  A `plt.ylabel` function also exists."
   ]
  },
  {
   "cell_type": "code",
   "execution_count": null,
   "id": "7b8327e2",
   "metadata": {},
   "outputs": [],
   "source": [
    "x = np.arange(-5,8,1)\n",
    "y = (x-1)**2\n",
    "\n",
    "plt.plot(x,y, marker = 'o', color = 'r')\n",
    "plt.xlabel('x-values')\n",
    "plt.show()"
   ]
  },
  {
   "cell_type": "markdown",
   "id": "af936319",
   "metadata": {},
   "source": [
    "**plt.title:** Assigns a title to the plot where the label is generated from a string input."
   ]
  },
  {
   "cell_type": "code",
   "execution_count": null,
   "id": "36fcaf1d",
   "metadata": {},
   "outputs": [],
   "source": [
    "x = np.arange(-5,8,1)\n",
    "y = (x-1)**2\n",
    "\n",
    "plt.plot(x,y, marker = 'o', color = 'r')\n",
    "plt.title('Positive quadratic')\n",
    "plt.show()"
   ]
  },
  {
   "cell_type": "markdown",
   "id": "059ffe42",
   "metadata": {},
   "source": [
    "**plt.errorbar:** Generates error bars for each datapoint from inputs `xerr` and `yerr`.  Said inputs can either be constant values, or externally defined arrays."
   ]
  },
  {
   "cell_type": "code",
   "execution_count": null,
   "id": "abfb8c04",
   "metadata": {},
   "outputs": [],
   "source": [
    "x = np.arange(-5,8,1)\n",
    "y = (x-1)**2\n",
    "\n",
    "x_error = np.linspace(0.5, 1, 13)\n",
    "y_error = np.linspace(0.5, 4, 13)\n",
    "\n",
    "plt.plot(x,y, marker = 'o', color = 'b')\n",
    "plt.errorbar(x, y, xerr = x_error, yerr = y_error, ecolor = 'g')\n",
    "plt.show()"
   ]
  },
  {
   "cell_type": "markdown",
   "id": "3aa65b18",
   "metadata": {},
   "source": [
    "**plt.xscale:**"
   ]
  },
  {
   "cell_type": "code",
   "execution_count": null,
   "id": "bed13d97",
   "metadata": {},
   "outputs": [],
   "source": [
    "x = 10.0**np.linspace(0.0, 5.0, 15) \n",
    "y = x**2.0\n",
    "\n",
    "plt.plot(x,y)\n",
    "\n",
    "plt.xscale('log') \n",
    "plt.yscale('log')\n",
    "\n",
    "plt.show()"
   ]
  },
  {
   "cell_type": "markdown",
   "id": "75a106d2",
   "metadata": {},
   "source": [
    "**plt.scatter:** Returns a scatter plot from input values."
   ]
  },
  {
   "cell_type": "code",
   "execution_count": null,
   "id": "12f100ed",
   "metadata": {},
   "outputs": [],
   "source": [
    "x = np.random.randint(1,10, size = 10)\n",
    "y = np.random.randint(1,15,size = 10)\n",
    "\n",
    "plt.scatter(x, y)\n",
    "plt.show()"
   ]
  },
  {
   "cell_type": "markdown",
   "id": "c9e2689d",
   "metadata": {},
   "source": [
    "**col:** Colours datapoints depending on 'colour' value.  Colourmap can be selected from list included in `matplotlib`, and colourbar can also be generated."
   ]
  },
  {
   "cell_type": "code",
   "execution_count": null,
   "id": "9569946e",
   "metadata": {},
   "outputs": [],
   "source": [
    "a = np.array([5,7,8,7,2,17,2,9,4,11,12,9,6])\n",
    "b = np.array([99,86,87,88,111,86,103,87,94,78,77,85,86])\n",
    "col = np.array([0,10,20,30,40,45,50,55,60,70,80,90,100])\n",
    "\n",
    "plt.scatter(a, b, c=col, cmap='Spectral')\n",
    "plt.colorbar()\n",
    "\n",
    "plt.show()"
   ]
  },
  {
   "cell_type": "markdown",
   "id": "89bdd91d",
   "metadata": {},
   "source": [
    "plt.subplot (ALL OPTIONS, with plt.tight_layout)"
   ]
  },
  {
   "cell_type": "markdown",
   "id": "a3e49ddb",
   "metadata": {},
   "source": [
    "**plt.subplot:** Returns multiple plots (subplots).  $1^{st}$ input is number of rows, $2^{nd}$ is number of columns and $3^{rd}$ is index of subplot."
   ]
  },
  {
   "cell_type": "code",
   "execution_count": null,
   "id": "0dd20252",
   "metadata": {},
   "outputs": [],
   "source": [
    "import matplotlib.pyplot as plt\n",
    "import numpy as np\n",
    "\n",
    "x = np.array([0,1,2,3])\n",
    "y = np.array([3,8,1,10])\n",
    "\n",
    "plt.subplot(2,1,1)\n",
    "plt.plot(x,y)\n",
    "\n",
    "x = np.array([0,1,2,3])\n",
    "y = np.array([10,20,30,40])\n",
    "\n",
    "plt.subplot(2,1,2)\n",
    "plt.plot(x,y)\n",
    "\n",
    "plt.show()"
   ]
  },
  {
   "cell_type": "markdown",
   "id": "22062743",
   "metadata": {},
   "source": [
    "**plt.tight_layout:** Prevents subplot axes and title spaces from intersecting."
   ]
  },
  {
   "cell_type": "code",
   "execution_count": null,
   "id": "14c42ad2",
   "metadata": {},
   "outputs": [],
   "source": [
    "import matplotlib.pyplot as plt\n",
    "import numpy as np\n",
    "\n",
    "x = np.array([0,1,2,3])\n",
    "y = np.array([3,8,1,10])\n",
    "\n",
    "plt.subplot(2,1,1)\n",
    "plt.plot(x,y,linestyle='--')\n",
    "\n",
    "plt.xlabel(\"x values\")\n",
    "plt.ylabel(\"y values\")\n",
    "plt.title(\"Plot 1\")\n",
    "\n",
    "x = np.array([0,1,2,3])\n",
    "y = np.array([10,20,30,40])\n",
    "\n",
    "plt.subplot(2,1,2)\n",
    "plt.plot(x,y,c='r')\n",
    "\n",
    "plt.xlabel(\"x values\")\n",
    "plt.ylabel(\"y values\")\n",
    "plt.title(\"Plot 2\")\n",
    "\n",
    "plt.tight_layout()\n",
    "plt.show()"
   ]
  },
  {
   "cell_type": "markdown",
   "id": "75def4ad",
   "metadata": {},
   "source": [
    "**plt.suptitle:** Adds title to entire group of subplots."
   ]
  },
  {
   "cell_type": "code",
   "execution_count": null,
   "id": "7efc6125",
   "metadata": {},
   "outputs": [],
   "source": [
    "import matplotlib.pyplot as plt\n",
    "import numpy as np\n",
    "\n",
    "x = np.array([0,1,2,3])\n",
    "y = np.array([3,8,1,10])\n",
    "\n",
    "plt.subplot(2,1,1)\n",
    "plt.plot(x,y)\n",
    "\n",
    "plt.xlabel(\"x values\")\n",
    "plt.ylabel(\"y values\")\n",
    "plt.title(\"Plot 1\")\n",
    "\n",
    "x = np.array([0,1,2,3])\n",
    "y = np.array([10,20,30,40])\n",
    "\n",
    "plt.subplot(2,1,2)\n",
    "plt.plot(x,y)\n",
    "\n",
    "plt.xlabel(\"x values\")\n",
    "plt.ylabel(\"y values\")\n",
    "plt.title(\"Plot 2\")\n",
    "\n",
    "plt.suptitle(\"Subplot demonstration\")\n",
    "plt.tight_layout()\n",
    "plt.show()"
   ]
  },
  {
   "cell_type": "markdown",
   "id": "8102be24",
   "metadata": {},
   "source": [
    "**plt.legend:** Generates a legend with lines labelled by colour."
   ]
  },
  {
   "cell_type": "code",
   "execution_count": null,
   "id": "f31f8320",
   "metadata": {},
   "outputs": [],
   "source": [
    "x1 = np.array([0,1,2,3])\n",
    "y1 = np.array([3,8,1,10])\n",
    "x2 = np.array([0,1,2,3])\n",
    "y2 = np.array([6,16,2,20])\n",
    "\n",
    "plt.subplot(2,1,1)\n",
    "plt.plot(x1,y1, label=r'Line 1')\n",
    "plt.plot(x2,y2,c='r', label=r'Line 2')\n",
    "\n",
    "plt.xlabel(\"x values\")\n",
    "plt.ylabel(\"y values\")\n",
    "plt.title(\"Plot 1\")\n",
    "\n",
    "plt.legend()\n",
    "\n",
    "x1 = np.array([0,1,2,3])\n",
    "y1 = np.array([10,20,30,40])\n",
    "x2 = np.array([0,1,2,3])\n",
    "y2 = np.array([30,6,24,9])\n",
    "\n",
    "plt.subplot(2,1,2)\n",
    "plt.plot(x1,y1,c='g', label=r'Line 3')\n",
    "plt.plot(x2,y2,c='y', label=r'Line 4')\n",
    "\n",
    "plt.xlabel(\"x values\")\n",
    "plt.ylabel(\"y values\")\n",
    "plt.title(\"Plot 2\")\n",
    "\n",
    "plt.suptitle(\"Subplot demonstration\")\n",
    "plt.tight_layout()\n",
    "\n",
    "plt.legend()\n",
    "\n",
    "plt.show()"
   ]
  },
  {
   "cell_type": "markdown",
   "id": "7a663ddf",
   "metadata": {},
   "source": [
    "**plt.bar:** Returns a bar chart.  Inputs are horizontal and vertical axis values."
   ]
  },
  {
   "cell_type": "code",
   "execution_count": null,
   "id": "3b62709e",
   "metadata": {},
   "outputs": [],
   "source": [
    "x = np.array([\"A\",\"B\",\"C\",\"D\"])\n",
    "y = np.array([1,3,8,10])\n",
    "\n",
    "plt.bar(x,y)\n",
    "plt.show()"
   ]
  },
  {
   "cell_type": "markdown",
   "id": "9c266281",
   "metadata": {},
   "source": [
    "**plt.barh:** Returns a horizontal bar chart.  Same inputs as `plt.bar`."
   ]
  },
  {
   "cell_type": "code",
   "execution_count": null,
   "id": "9f00e576",
   "metadata": {},
   "outputs": [],
   "source": [
    "x = np.array([\"A\", \"B\", \"C\", \"D\"])\n",
    "y = np.array([3, 8, 1, 10])\n",
    "\n",
    "plt.barh(x,y,0.1,0.1, color='r')\n",
    "plt.show()"
   ]
  },
  {
   "cell_type": "markdown",
   "id": "9049268d",
   "metadata": {},
   "source": [
    "plt.hist (bins, edgecolour)"
   ]
  },
  {
   "cell_type": "markdown",
   "id": "51e30c92",
   "metadata": {},
   "source": [
    "**plt.hist:**  Returns a histogram.  $1^{st}$ input is data and $2^{nd}$ is data on bins.  Bin edges can be defined with an external list."
   ]
  },
  {
   "cell_type": "code",
   "execution_count": null,
   "id": "18d4dbdc",
   "metadata": {},
   "outputs": [],
   "source": [
    "x = np.random.normal(170, 10, 250)\n",
    "\n",
    "binpos = [130, 135, 140, 145, 150, 155, 160, 165, 170, 175, 180, 185, 190, 195, 200]\n",
    "\n",
    "plt.hist(x, bins = binpos)\n",
    "plt.show()"
   ]
  },
  {
   "cell_type": "markdown",
   "id": "90de64b8",
   "metadata": {},
   "source": [
    "**edgecolor:** Highlights edges of each bin 'tower' with selected colour."
   ]
  },
  {
   "cell_type": "code",
   "execution_count": null,
   "id": "09da3947",
   "metadata": {},
   "outputs": [],
   "source": [
    "x = np.random.normal(170, 10, 250)\n",
    "\n",
    "binpos = [130, 135, 140, 145, 150, 155, 160, 165, 170, 175, 180, 185, 190, 195, 200]\n",
    "\n",
    "plt.hist(x, bins = binpos, edgecolor = \"black\")\n",
    "plt.show()"
   ]
  },
  {
   "cell_type": "markdown",
   "id": "92a5daef",
   "metadata": {},
   "source": [
    "**plt.pie:** Returns a pie chart.  $1^{st}$ input is data, $2^{nd}$ is labels (given by external list) and $3^{rd}$ is starting angle (default ($0^{o}$) is positive, moves anticlockwise)."
   ]
  },
  {
   "cell_type": "code",
   "execution_count": null,
   "id": "f1102527",
   "metadata": {},
   "outputs": [],
   "source": [
    "x = np.array([35,25,25,15])\n",
    "labl = [\"A\",\"B\",\"C\",\"D\"]\n",
    "\n",
    "plt.pie(x,labels=labl, startangle = 90)\n",
    "plt.show()"
   ]
  },
  {
   "cell_type": "markdown",
   "id": "ad49d400",
   "metadata": {},
   "source": [
    "**explode:** Separates a specified segment of a pie chart.  Specified by external list."
   ]
  },
  {
   "cell_type": "code",
   "execution_count": null,
   "id": "887f9fad",
   "metadata": {},
   "outputs": [],
   "source": [
    "x = np.array([35,25,25,15])\n",
    "\n",
    "sep = [0.2,0,0,0]\n",
    "\n",
    "plt.pie(x, explode=sep)\n",
    "plt.show()"
   ]
  },
  {
   "cell_type": "markdown",
   "id": "6cfb425d",
   "metadata": {},
   "source": [
    "**colours:** Determines colour of each segment.  Specified by external list."
   ]
  },
  {
   "cell_type": "code",
   "execution_count": null,
   "id": "1d3b2396",
   "metadata": {},
   "outputs": [],
   "source": [
    "y = np.array([35, 25, 25, 15])\n",
    "labl = [\"A\",\"B\",\"C\",\"D\"]\n",
    "cols = [\"black\", \"hotpink\", \"b\", \"#4CAF50\"]\n",
    "\n",
    "plt.pie(y, labels = labl, colors = cols)\n",
    "plt.show()"
   ]
  },
  {
   "cell_type": "markdown",
   "id": "18f572de",
   "metadata": {},
   "source": [
    "[Return to contents](#0.)\n",
    "\n",
    "<hr style=\"border:2px solid gray\">"
   ]
  },
  {
   "cell_type": "markdown",
   "id": "87663814",
   "metadata": {},
   "source": [
    "## 7. Importing data <a name=\"7.\"></a>\n",
    "\n",
    "<hr style=\"border:2px solid gray\">"
   ]
  },
  {
   "cell_type": "markdown",
   "id": "68a7c05d",
   "metadata": {},
   "source": [
    "pandas.read_csv / head"
   ]
  },
  {
   "cell_type": "markdown",
   "id": "b66d19f5",
   "metadata": {},
   "source": [
    "**pandas:** Library used to import and read data."
   ]
  },
  {
   "cell_type": "markdown",
   "id": "deb7b78b",
   "metadata": {},
   "source": [
    "**pandas.read_csv:** Returns columnal data from `.csv` (comma-separated variable) file.  Input is filename as a string."
   ]
  },
  {
   "cell_type": "code",
   "execution_count": null,
   "id": "e70b54d4",
   "metadata": {},
   "outputs": [],
   "source": [
    "# df = pd.read_csv(\"company_sales_data.csv\")\n",
    "# print(df)"
   ]
  },
  {
   "cell_type": "markdown",
   "id": "8d1adcfa",
   "metadata": {},
   "source": [
    "**head:** Reads off a particular number of rows, starting from the $1^{st}$.  Input is number of rows."
   ]
  },
  {
   "cell_type": "code",
   "execution_count": null,
   "id": "efa3323b",
   "metadata": {},
   "outputs": [],
   "source": [
    "#month = df ['month_number']\n",
    "#print(month)\n",
    "#print(month[0])"
   ]
  },
  {
   "cell_type": "markdown",
   "id": "a4506e74",
   "metadata": {},
   "source": [
    "[Return to contents](#0.)\n",
    "\n",
    "<hr style=\"border:2px solid gray\">"
   ]
  },
  {
   "cell_type": "markdown",
   "id": "52efe7de",
   "metadata": {},
   "source": [
    "## 8. `curve_fit` functions <a name=\"8.\"></a>\n",
    "\n",
    "<hr style=\"border:2px solid gray\">"
   ]
  },
  {
   "cell_type": "markdown",
   "id": "cb7214bb",
   "metadata": {},
   "source": [
    "curve_fit (with popt, pcov)"
   ]
  },
  {
   "cell_type": "markdown",
   "id": "f4213197",
   "metadata": {},
   "source": [
    "**curve_fit:** Performs least-squares fit on a function.  The $1^{st}$ input is the function, the $2^{nd}$ is the $x$-data and the $3^{rd}$ is the $y$-data."
   ]
  },
  {
   "cell_type": "markdown",
   "id": "8e299f76",
   "metadata": {},
   "source": [
    "**popt:** Returns an array of the best-fit parameters, with each element corresponding to the best-fit parameter of each data input."
   ]
  },
  {
   "cell_type": "markdown",
   "id": "9df28814",
   "metadata": {},
   "source": [
    "**pcov:** Returns the variance (element $[n,0]$) and covariance (element $[n,0]$) of each data input."
   ]
  },
  {
   "cell_type": "code",
   "execution_count": null,
   "id": "2fce052a",
   "metadata": {},
   "outputs": [],
   "source": [
    "popt, pcov = curve_fit(linear, x, y)"
   ]
  },
  {
   "cell_type": "markdown",
   "id": "75ff6bd9",
   "metadata": {},
   "source": [
    "[Return to contents](#0.)\n",
    "\n",
    "<hr style=\"border:2px solid gray\">"
   ]
  }
 ],
 "metadata": {
  "kernelspec": {
   "display_name": "Python 3 (ipykernel)",
   "language": "python",
   "name": "python3"
  },
  "language_info": {
   "codemirror_mode": {
    "name": "ipython",
    "version": 3
   },
   "file_extension": ".py",
   "mimetype": "text/x-python",
   "name": "python",
   "nbconvert_exporter": "python",
   "pygments_lexer": "ipython3",
   "version": "3.7.6"
  }
 },
 "nbformat": 4,
 "nbformat_minor": 5
}
