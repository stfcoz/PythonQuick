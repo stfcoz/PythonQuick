{
 "cells": [
  {
   "cell_type": "markdown",
   "id": "00a2b3de",
   "metadata": {},
   "source": [
    "# A glossary of useful functions <a name=\"0.\"></a>"
   ]
  },
  {
   "cell_type": "markdown",
   "id": "72f898ac",
   "metadata": {},
   "source": [
    "This is a collection of several functions (organised by library) that you may find useful when coding with Python.  Below are the various libraries that need to be imported; this way, there is no need to call them in later sections."
   ]
  },
  {
   "cell_type": "code",
   "execution_count": null,
   "id": "d19d2bbd",
   "metadata": {},
   "outputs": [],
   "source": [
    "import math\n",
    "import random\n",
    "import string\n",
    "import numpy as np\n",
    "import matplotlib.pyplot as plt\n",
    "import pandas as pd\n",
    "from scipy.optimize import curve_fit"
   ]
  },
  {
   "cell_type": "markdown",
   "id": "8ed12b7b",
   "metadata": {},
   "source": [
    "Contents:\n",
    "- [Inbuilt functions](#1.)\n",
    "- [`math` functions](#2.)\n",
    "- [`random` functions](#3.)\n",
    "- [`string` functions](#4.)\n",
    "- [`numpy` functions](#5.)\n",
    "- [`matplotlib` functions](#6.)\n",
    "- [Importing data](#7.)\n",
    "- [`curve_fit` functions](#8.)"
   ]
  },
  {
   "cell_type": "markdown",
   "id": "c207cd33",
   "metadata": {},
   "source": [
    "## 1. Inbuilt functions <a name=\"1.\"></a>\n",
    "\n",
    "<hr style=\"border:2px solid gray\">"
   ]
  },
  {
   "cell_type": "markdown",
   "id": "a8711a6b",
   "metadata": {},
   "source": [
    "**print:** Displays item/s within bracket."
   ]
  },
  {
   "cell_type": "code",
   "execution_count": null,
   "id": "e0af3cf8",
   "metadata": {},
   "outputs": [],
   "source": [
    "print(\"Shut up and take my money!\")"
   ]
  },
  {
   "cell_type": "markdown",
   "id": "82179878",
   "metadata": {},
   "source": [
    "**input:** Allows an input value to be entered manually once the code is run."
   ]
  },
  {
   "cell_type": "code",
   "execution_count": null,
   "id": "fd7f5765",
   "metadata": {},
   "outputs": [],
   "source": [
    "name = input(\"Enter your name: \")\n",
    "print(f\"{name} HAS ENTERED THE CHAT\")"
   ]
  },
  {
   "cell_type": "markdown",
   "id": "0ef37a85",
   "metadata": {},
   "source": [
    "**append:** Adds a singular item to end of list."
   ]
  },
  {
   "cell_type": "code",
   "execution_count": null,
   "id": "3b520a70",
   "metadata": {},
   "outputs": [],
   "source": [
    "tune = ['do', 're']\n",
    "tune.append('mi')\n",
    "print(tune)"
   ]
  },
  {
   "cell_type": "markdown",
   "id": "3ca652ed",
   "metadata": {},
   "source": [
    "**len:** Returns the number of items in an object."
   ]
  },
  {
   "cell_type": "code",
   "execution_count": null,
   "id": "6961e2dc",
   "metadata": {},
   "outputs": [],
   "source": [
    "L = [1,2,3,4,5]\n",
    "len(L)"
   ]
  },
  {
   "cell_type": "markdown",
   "id": "8e98a3b7",
   "metadata": {},
   "source": [
    "**type:** Returns the class type of the input object."
   ]
  },
  {
   "cell_type": "code",
   "execution_count": null,
   "id": "1f0ede71",
   "metadata": {},
   "outputs": [],
   "source": [
    "a = ('do', 're', 'mi')\n",
    "b = \"Hello world!\"\n",
    "c = 33\n",
    "\n",
    "print(type(a),type(b),type(c))"
   ]
  },
  {
   "cell_type": "markdown",
   "id": "49c554cd",
   "metadata": {},
   "source": [
    "**round:** Rounds up $1^{st}$ input to order of $2^{nd}$ input."
   ]
  },
  {
   "cell_type": "code",
   "execution_count": null,
   "id": "c921dd58",
   "metadata": {},
   "outputs": [],
   "source": [
    "x = round(3.1415926535, 2)\n",
    "print(x)"
   ]
  },
  {
   "cell_type": "markdown",
   "id": "36bc8c25",
   "metadata": {},
   "source": [
    "**range:** Returns a range of numbers, starting at the $1^{st}$ argument, stopping at the $2^{nd}$ and incrementing by the $3^{rd}$."
   ]
  },
  {
   "cell_type": "code",
   "execution_count": null,
   "id": "764337a2",
   "metadata": {},
   "outputs": [],
   "source": [
    "n = range(1, 23, 2)\n",
    "for i in n:\n",
    "    print(i)"
   ]
  },
  {
   "cell_type": "markdown",
   "id": "1d490c8f",
   "metadata": {},
   "source": [
    "**float:** Returns a floating-point number from a number or a string."
   ]
  },
  {
   "cell_type": "code",
   "execution_count": null,
   "id": "1038b153",
   "metadata": {},
   "outputs": [],
   "source": [
    "integ = 25\n",
    "print(float(integ))"
   ]
  },
  {
   "cell_type": "markdown",
   "id": "428ec708",
   "metadata": {},
   "source": [
    "**int:** Converts the input value into an integer."
   ]
  },
  {
   "cell_type": "code",
   "execution_count": null,
   "id": "80500220",
   "metadata": {},
   "outputs": [],
   "source": [
    "print(int(10.0))\n",
    "print(int(\"12\"))"
   ]
  },
  {
   "cell_type": "markdown",
   "id": "90816345",
   "metadata": {},
   "source": [
    "**list:** Creates a list from the input variable/s."
   ]
  },
  {
   "cell_type": "code",
   "execution_count": null,
   "id": "f11472b0",
   "metadata": {},
   "outputs": [],
   "source": [
    "L = list(('Phasers', 'to', 'stun'))\n",
    "print(L)"
   ]
  },
  {
   "cell_type": "markdown",
   "id": "de27d5e9",
   "metadata": {},
   "source": [
    "**str:** Converts input value into a string."
   ]
  },
  {
   "cell_type": "code",
   "execution_count": null,
   "id": "bef81be3",
   "metadata": {},
   "outputs": [],
   "source": [
    "s = str(\"BFG\")\n",
    "print(s)"
   ]
  },
  {
   "cell_type": "markdown",
   "id": "7c31e6ac",
   "metadata": {},
   "source": [
    "[Return to contents](#0.)\n",
    "\n",
    "<hr style=\"border:2px solid gray\">"
   ]
  },
  {
   "cell_type": "markdown",
   "id": "55f331c2",
   "metadata": {},
   "source": [
    "## 2. `math` functions <a name=\"2.\"></a>\n",
    "\n",
    "<hr style=\"border:2px solid gray\">"
   ]
  },
  {
   "cell_type": "markdown",
   "id": "c801cc49",
   "metadata": {},
   "source": [
    "**math.sqrt:** Returns the square root of the input."
   ]
  },
  {
   "cell_type": "code",
   "execution_count": null,
   "id": "8d35019a",
   "metadata": {},
   "outputs": [],
   "source": [
    "sq = math.sqrt(19)\n",
    "print(sq)"
   ]
  },
  {
   "cell_type": "markdown",
   "id": "8d7a4f0b",
   "metadata": {},
   "source": [
    "**math.pi:** Returns a high-order approximation of the constant $\\pi$."
   ]
  },
  {
   "cell_type": "code",
   "execution_count": null,
   "id": "4e6040b3",
   "metadata": {},
   "outputs": [],
   "source": [
    "pi = math.pi\n",
    "print(pi)\n",
    "print(2*pi)"
   ]
  },
  {
   "cell_type": "markdown",
   "id": "4d5d2da4",
   "metadata": {},
   "source": [
    "**math.cos:** Returns the cosine of the input."
   ]
  },
  {
   "cell_type": "code",
   "execution_count": null,
   "id": "5f5080ee",
   "metadata": {},
   "outputs": [],
   "source": [
    "cos = math.cos(3*pi)\n",
    "print(cos)"
   ]
  },
  {
   "cell_type": "markdown",
   "id": "68919ad3",
   "metadata": {},
   "source": [
    "**math.sin:** Returns the sine of the input.  **NOTE:** Instead of the expected value of $0$, we instead get a value that is very close to $0$."
   ]
  },
  {
   "cell_type": "code",
   "execution_count": null,
   "id": "eba133a9",
   "metadata": {},
   "outputs": [],
   "source": [
    "sine = math.sin(pi)\n",
    "print(sine)"
   ]
  },
  {
   "cell_type": "markdown",
   "id": "7982ef97",
   "metadata": {},
   "source": [
    "**math.e:** Returns a high-order approximation of the constant $e$."
   ]
  },
  {
   "cell_type": "code",
   "execution_count": null,
   "id": "60a0f263",
   "metadata": {},
   "outputs": [],
   "source": [
    "e = math.e\n",
    "print(e)"
   ]
  },
  {
   "cell_type": "markdown",
   "id": "06370801",
   "metadata": {},
   "source": [
    "**math.log:** Returns logarithm of $1^{st}$ input to base of $2^{nd}$.  Default is $e$."
   ]
  },
  {
   "cell_type": "code",
   "execution_count": null,
   "id": "15e28b48",
   "metadata": {},
   "outputs": [],
   "source": [
    "print(math.log(e))\n",
    "print(math.log(2))\n",
    "print(math.log(10,2))\n",
    "print(math.log(8,2))"
   ]
  },
  {
   "cell_type": "markdown",
   "id": "f7e4e50b",
   "metadata": {},
   "source": [
    "**math.isclose:** Returns `True` if the $1^{st}$ and $2^{nd}$ inputs are close.  The $3^{rd}$ argument is the *relative tolerance*, the maximum allowed difference between both inputs.  Default value for the relative tolerance is $10^{-9}$."
   ]
  },
  {
   "cell_type": "code",
   "execution_count": null,
   "id": "1d1b01ba",
   "metadata": {},
   "outputs": [],
   "source": [
    "print(math.isclose(8.005, 8.450, rel_tol = 0.02))\n",
    "print(math.isclose(8.005, 8.450, rel_tol = 0.5)) "
   ]
  },
  {
   "cell_type": "markdown",
   "id": "acabd80c",
   "metadata": {},
   "source": [
    "[Return to contents](#0.)\n",
    "\n",
    "<hr style=\"border:2px solid gray\">"
   ]
  },
  {
   "cell_type": "markdown",
   "id": "101d8304",
   "metadata": {},
   "source": [
    "## 3. `random` functions <a name=\"3.\"></a>\n",
    "\n",
    "<hr style=\"border:2px solid gray\">"
   ]
  },
  {
   "cell_type": "markdown",
   "id": "6fb312ce",
   "metadata": {},
   "source": [
    "**random.uniform:** Returns a random number between the $1^{st}$ and $2^{nd}$ inputs."
   ]
  },
  {
   "cell_type": "code",
   "execution_count": null,
   "id": "cc32637e",
   "metadata": {},
   "outputs": [],
   "source": [
    "print(random.uniform(20, 60))"
   ]
  },
  {
   "cell_type": "markdown",
   "id": "e2476c2d",
   "metadata": {},
   "source": [
    "**random.sample:** Returns a random list of specified length ($2^{nd}$ input) from the $1^{st}$ input."
   ]
  },
  {
   "cell_type": "code",
   "execution_count": null,
   "id": "695f19c1",
   "metadata": {},
   "outputs": [],
   "source": [
    "s1 = [1,2,3,4,5]\n",
    "print(random.sample(s1,3))"
   ]
  },
  {
   "cell_type": "markdown",
   "id": "aa57740c",
   "metadata": {},
   "source": [
    "**random.shuffle:** Returns a randomly shuffled list from the input."
   ]
  },
  {
   "cell_type": "code",
   "execution_count": null,
   "id": "62eb34a7",
   "metadata": {},
   "outputs": [],
   "source": [
    "s2 = ['A','B','C','D','E']\n",
    "random.shuffle(s2)\n",
    "print(s2)"
   ]
  },
  {
   "cell_type": "markdown",
   "id": "6c3729c3",
   "metadata": {},
   "source": [
    "**random.randint:** Returns a random integer between the $s^{st}$ and $2^{nd}$ inputs."
   ]
  },
  {
   "cell_type": "code",
   "execution_count": null,
   "id": "b60244d2",
   "metadata": {},
   "outputs": [],
   "source": [
    "print(random.randint(2,22))"
   ]
  },
  {
   "cell_type": "markdown",
   "id": "95b184f4",
   "metadata": {},
   "source": [
    "**np.random.normal:** Returns random values from a Gaussian distribution.  The $1^{st}$ input is the mean of the distribution, the $2^{nd}$ is the standard deviation of the distribution and the $3^{rd}$ is the size of the distribution."
   ]
  },
  {
   "cell_type": "code",
   "execution_count": null,
   "id": "612ffac3",
   "metadata": {},
   "outputs": [],
   "source": [
    "gss = np.random.normal(15,2,50)\n",
    "print(gss)"
   ]
  },
  {
   "cell_type": "markdown",
   "id": "28cdde02",
   "metadata": {},
   "source": [
    "[Return to contents](#0.)\n",
    "\n",
    "<hr style=\"border:2px solid gray\">"
   ]
  },
  {
   "cell_type": "markdown",
   "id": "97823c26",
   "metadata": {},
   "source": [
    "## 4. `string` functions <a name=\"4.\"></a>\n",
    "\n",
    "<hr style=\"border:2px solid gray\">"
   ]
  },
  {
   "cell_type": "markdown",
   "id": "e6a280e1",
   "metadata": {},
   "source": [
    "**string.ascii_lowercase:** A string of lowercase letters used as a string constant."
   ]
  },
  {
   "cell_type": "code",
   "execution_count": null,
   "id": "5aa7c869",
   "metadata": {},
   "outputs": [],
   "source": [
    "print(string.ascii_lowercase)"
   ]
  },
  {
   "cell_type": "markdown",
   "id": "07495b31",
   "metadata": {},
   "source": [
    "**string.ascii_uppercase:** A string of uppercase letters used as a string constant."
   ]
  },
  {
   "cell_type": "code",
   "execution_count": null,
   "id": "3a084d87",
   "metadata": {},
   "outputs": [],
   "source": [
    "print(string.ascii_uppercase)"
   ]
  },
  {
   "cell_type": "markdown",
   "id": "8cb6ae60",
   "metadata": {},
   "source": [
    "**string.digits:** A string of numerical characters used as a string constant."
   ]
  },
  {
   "cell_type": "code",
   "execution_count": null,
   "id": "8422017d",
   "metadata": {},
   "outputs": [],
   "source": [
    "print(string.digits)"
   ]
  },
  {
   "cell_type": "markdown",
   "id": "10bd9d6a",
   "metadata": {},
   "source": [
    "**string.punctuation:** A string of punctuative characters used as a string constant."
   ]
  },
  {
   "cell_type": "code",
   "execution_count": null,
   "id": "f69c1fe4",
   "metadata": {},
   "outputs": [],
   "source": [
    "print(string.punctuation)"
   ]
  },
  {
   "cell_type": "markdown",
   "id": "0e9603b0",
   "metadata": {},
   "source": [
    "**string.join:** Joins all items in a tuple into a string, using the specified character as a separator."
   ]
  },
  {
   "cell_type": "code",
   "execution_count": null,
   "id": "ddce3fbe",
   "metadata": {},
   "outputs": [],
   "source": [
    "myTuple = (\"Uno\", \"Dos\", \"Tres\")\n",
    "x = \"/\".join(myTuple)\n",
    "y = \"\".join(myTuple)\n",
    "\n",
    "print(x)\n",
    "print(y)"
   ]
  },
  {
   "cell_type": "markdown",
   "id": "ba0610a6",
   "metadata": {},
   "source": [
    "**string.find:** Returns the index of first occurrence of the input."
   ]
  },
  {
   "cell_type": "code",
   "execution_count": null,
   "id": "639b8306",
   "metadata": {},
   "outputs": [],
   "source": [
    "txt = \"Would you kindly...\"\n",
    "x = txt.find(\"you\")\n",
    "print(x)"
   ]
  },
  {
   "cell_type": "markdown",
   "id": "bc12446c",
   "metadata": {},
   "source": [
    "[Return to contents](#0.)\n",
    "\n",
    "<hr style=\"border:2px solid gray\">"
   ]
  },
  {
   "cell_type": "markdown",
   "id": "ce77be2d",
   "metadata": {},
   "source": [
    "## 5. `numpy` functions <a name=\"5.\"></a>\n",
    "\n",
    "<hr style=\"border:2px solid gray\">"
   ]
  },
  {
   "cell_type": "markdown",
   "id": "f2efa73b",
   "metadata": {},
   "source": [
    "**np.sqrt:** Returns the square root of the input."
   ]
  },
  {
   "cell_type": "code",
   "execution_count": null,
   "id": "0637c583",
   "metadata": {},
   "outputs": [],
   "source": [
    "sq = np.sqrt(53)\n",
    "print(sq)"
   ]
  },
  {
   "cell_type": "markdown",
   "id": "01495c7d",
   "metadata": {},
   "source": [
    "**np.exp:** Returns the exponential of the input, which can be a sequenced data type."
   ]
  },
  {
   "cell_type": "code",
   "execution_count": null,
   "id": "ad8f3a68",
   "metadata": {},
   "outputs": [],
   "source": [
    "print(np.exp(2))"
   ]
  },
  {
   "cell_type": "markdown",
   "id": "750d7886",
   "metadata": {},
   "source": [
    "**np.pi:** Returns a high-order approximation of the constant $\\pi$."
   ]
  },
  {
   "cell_type": "code",
   "execution_count": null,
   "id": "35ef7f85",
   "metadata": {},
   "outputs": [],
   "source": [
    "pi = np.pi\n",
    "print(pi)"
   ]
  },
  {
   "cell_type": "markdown",
   "id": "181ac44c",
   "metadata": {},
   "source": [
    "**np.linspace:** Returns an array beginning with the $1^{st}$ input, ending with the $2^{nd}$ and evenly spaced by the $3^{rd}$."
   ]
  },
  {
   "cell_type": "code",
   "execution_count": null,
   "id": "8e2fdcca",
   "metadata": {},
   "outputs": [],
   "source": [
    "print(np.linspace(1,2,9))"
   ]
  },
  {
   "cell_type": "markdown",
   "id": "43e52379",
   "metadata": {},
   "source": [
    "**np.arange:** Returns an array beginning with the $1^{st}$ input, ending with the $2^{nd}$ and evenly spaced by the $3^{rd}$.  With a single input, the input is taken to be the stop value whilst the start value is taken to be $0$ and the step value to be $1$."
   ]
  },
  {
   "cell_type": "code",
   "execution_count": null,
   "id": "3f8f7d0c",
   "metadata": {},
   "outputs": [],
   "source": [
    "print(np.arange(4,20,3))"
   ]
  },
  {
   "cell_type": "markdown",
   "id": "c4ad2174",
   "metadata": {},
   "source": [
    "**np.array (with ndmin option):** Returns an array of the input elements in the given order."
   ]
  },
  {
   "cell_type": "code",
   "execution_count": null,
   "id": "8fb1cac2",
   "metadata": {},
   "outputs": [],
   "source": [
    "D0 = np.array(1)\n",
    "D1 = np.array([1, 2, 3, 4, 5])\n",
    "D2 = np.array([[1, 2, 3], [4, 5, 6]])\n",
    "D3 = np.array([[[1, 2, 3], [4, 5, 6]], [[1, 2, 3], [4, 5, 6]]])\n",
    "\n",
    "print(D0)\n",
    "print(D1)\n",
    "print(D2)\n",
    "print(D3)"
   ]
  },
  {
   "cell_type": "markdown",
   "id": "0bf0bea5",
   "metadata": {},
   "source": [
    "**ndmin:** Specifies the dimensions of an array before generation."
   ]
  },
  {
   "cell_type": "code",
   "execution_count": null,
   "id": "9b0b2a12",
   "metadata": {},
   "outputs": [],
   "source": [
    "arr = np.array([1, 2, 3, 4], ndmin=4)\n",
    "print(arr)"
   ]
  },
  {
   "cell_type": "markdown",
   "id": "bc1dcae4",
   "metadata": {},
   "source": [
    "**array.ndim:** Returns the dimension of the array."
   ]
  },
  {
   "cell_type": "code",
   "execution_count": null,
   "id": "3380bb1a",
   "metadata": {},
   "outputs": [],
   "source": [
    "print(D0.ndim)\n",
    "print(D1.ndim)\n",
    "print(D2.ndim)\n",
    "print(D3.ndim)\n",
    "print(arr.ndim)"
   ]
  },
  {
   "cell_type": "markdown",
   "id": "e9e21789",
   "metadata": {},
   "source": [
    "**np.size:** Gives the product of the number of elements along each axis of an array."
   ]
  },
  {
   "cell_type": "code",
   "execution_count": null,
   "id": "f2cd8108",
   "metadata": {},
   "outputs": [],
   "source": [
    "arr0 = np.array([1])\n",
    "arr1 = np.array([1,2,3])\n",
    "arr2 = np.array([[1,2,3], [4,5,6]])\n",
    "arr3 = np.array([[[1, 2, 3], [4, 5, 6]], [[1, 2, 3], [4, 5, 6]]])\n",
    "\n",
    "print(np.size(arr0))\n",
    "print(np.size(arr1))\n",
    "print(np.size(arr2))\n",
    "print(np.size(arr3))"
   ]
  },
  {
   "cell_type": "markdown",
   "id": "30c280ea",
   "metadata": {},
   "source": [
    "**np.shape:** Returns the shape of an input array."
   ]
  },
  {
   "cell_type": "code",
   "execution_count": null,
   "id": "fe497efc",
   "metadata": {},
   "outputs": [],
   "source": [
    "print(np.shape(arr3))"
   ]
  },
  {
   "cell_type": "markdown",
   "id": "014a0fef",
   "metadata": {},
   "source": [
    "**array.reshape:** Reshapes an input array into a specified shape.  Note that the output array must have the same number of elements as the input array."
   ]
  },
  {
   "cell_type": "code",
   "execution_count": null,
   "id": "404f635f",
   "metadata": {},
   "outputs": [],
   "source": [
    "arr3new = arr3.reshape(1,1,12)\n",
    "print(arr3new)"
   ]
  },
  {
   "cell_type": "markdown",
   "id": "37a97c1c",
   "metadata": {},
   "source": [
    "np.stack"
   ]
  },
  {
   "cell_type": "code",
   "execution_count": null,
   "id": "829b48cd",
   "metadata": {},
   "outputs": [],
   "source": [
    "arr1 = np.array([ 1, 2, 3] )\n",
    "print (\"Input array: \\n\", arr1) \n",
    "  \n",
    "arr2 = np.array([ 4, 5, 6] )\n",
    "print (\"2nd Input array: \\n\", arr2) \n",
    "\n",
    "arr_hor = np.stack((arr1, arr2), axis = 0)\n",
    "print (\"Output stacked array along axis 0: \\n\", arr_hor)\n",
    "\n",
    "arr_ver = np.stack((arr1, arr2), axis = 1)\n",
    "print (\"Output stacked array along axis 1: \\n\", arr_ver)"
   ]
  },
  {
   "cell_type": "markdown",
   "id": "9d784ac6",
   "metadata": {},
   "source": [
    "[Return to contents](#0.)\n",
    "\n",
    "<hr style=\"border:2px solid gray\">"
   ]
  },
  {
   "cell_type": "markdown",
   "id": "c9db01ce",
   "metadata": {},
   "source": [
    "## 6. `matplotlib` functions <a name=\"6.\"></a>\n",
    "\n",
    "<hr style=\"border:2px solid gray\">"
   ]
  },
  {
   "cell_type": "markdown",
   "id": "827673c4",
   "metadata": {},
   "source": [
    "**plt.plot:** Plots the $2^{nd}$ input against the $1^{st}$ (i.e the $1^{st}$ input is $x$ whilst the $2^{nd}$ is $y$).  An optional $3^{rd}$ input is the format (`fmt`) with arguments `[marker]`, `[line]`, `[colour]`.  Must be followed up with `plt.show()` for the plot to render."
   ]
  },
  {
   "cell_type": "code",
   "execution_count": null,
   "id": "9df96480",
   "metadata": {},
   "outputs": [],
   "source": [
    "x = np.arange(-5,8,1)\n",
    "y = (x-1)**2\n",
    "\n",
    "plt.plot(x,y, marker = 'o', color = 'r')\n",
    "plt.show()"
   ]
  },
  {
   "cell_type": "markdown",
   "id": "f68661de",
   "metadata": {},
   "source": [
    "**plt.xlabel:** Assigns a label to the horizontal axis where the label is generated from a string input.  A `plt.ylabel` function also exists."
   ]
  },
  {
   "cell_type": "code",
   "execution_count": null,
   "id": "5941975e",
   "metadata": {},
   "outputs": [],
   "source": [
    "x = np.arange(-5,8,1)\n",
    "y = (x-1)**2\n",
    "\n",
    "plt.plot(x,y, marker = 'o', color = 'r')\n",
    "plt.xlabel('x-values')\n",
    "plt.show()"
   ]
  },
  {
   "cell_type": "markdown",
   "id": "501eb522",
   "metadata": {},
   "source": [
    "**plt.title:** Assigns a title to the plot where the label is generated from a string input."
   ]
  },
  {
   "cell_type": "code",
   "execution_count": null,
   "id": "15dfbcbd",
   "metadata": {},
   "outputs": [],
   "source": [
    "x = np.arange(-5,8,1)\n",
    "y = (x-1)**2\n",
    "\n",
    "plt.plot(x,y, marker = 'o', color = 'r')\n",
    "plt.title('Positive quadratic')\n",
    "plt.show()"
   ]
  },
  {
   "cell_type": "markdown",
   "id": "103b2e76",
   "metadata": {},
   "source": [
    "**plt.errorbar:** Generates error bars for each datapoint from inputs `xerr` and `yerr`.  Said inputs can either be constant values, or externally defined arrays."
   ]
  },
  {
   "cell_type": "code",
   "execution_count": null,
   "id": "8a0a6077",
   "metadata": {},
   "outputs": [],
   "source": [
    "x = np.arange(-5,8,1)\n",
    "y = (x-1)**2\n",
    "\n",
    "x_error = np.linspace(0.5, 1, 13)\n",
    "y_error = np.linspace(0.5, 4, 13)\n",
    "\n",
    "plt.plot(x,y, marker = 'o', color = 'b')\n",
    "plt.errorbar(x, y, xerr = x_error, yerr = y_error, ecolor = 'g')\n",
    "plt.show()"
   ]
  },
  {
   "cell_type": "markdown",
   "id": "46dbb23c",
   "metadata": {},
   "source": [
    "**plt.xscale:**"
   ]
  },
  {
   "cell_type": "code",
   "execution_count": null,
   "id": "7eb1ff23",
   "metadata": {},
   "outputs": [],
   "source": [
    "x = 10.0**np.linspace(0.0, 5.0, 15) \n",
    "y = x**2.0\n",
    "\n",
    "plt.plot(x,y)\n",
    "\n",
    "plt.xscale('log') \n",
    "plt.yscale('log')\n",
    "\n",
    "plt.show()"
   ]
  },
  {
   "cell_type": "markdown",
   "id": "6a2772f8",
   "metadata": {},
   "source": [
    "**plt.scatter:** Returns a scatter plot from input values."
   ]
  },
  {
   "cell_type": "code",
   "execution_count": null,
   "id": "3341869c",
   "metadata": {},
   "outputs": [],
   "source": [
    "x = np.random.randint(1,10, size = 10)\n",
    "y = np.random.randint(1,15,size = 10)\n",
    "\n",
    "plt.scatter(x, y)\n",
    "plt.show()"
   ]
  },
  {
   "cell_type": "markdown",
   "id": "2a6ff0c3",
   "metadata": {},
   "source": [
    "**col:** Colours datapoints depending on 'colour' value.  Colourmap can be selected from list included in `matplotlib`, and colourbar can also be generated."
   ]
  },
  {
   "cell_type": "code",
   "execution_count": null,
   "id": "f50b9bdc",
   "metadata": {},
   "outputs": [],
   "source": [
    "a = np.array([5,7,8,7,2,17,2,9,4,11,12,9,6])\n",
    "b = np.array([99,86,87,88,111,86,103,87,94,78,77,85,86])\n",
    "col = np.array([0,10,20,30,40,45,50,55,60,70,80,90,100])\n",
    "\n",
    "plt.scatter(a, b, c=col, cmap='Spectral')\n",
    "plt.colorbar()\n",
    "\n",
    "plt.show()"
   ]
  },
  {
   "cell_type": "markdown",
   "id": "2c6fa45e",
   "metadata": {},
   "source": [
    "**plt.subplot:** Returns multiple plots (subplots).  $1^{st}$ input is number of rows, $2^{nd}$ is number of columns and $3^{rd}$ is index of subplot."
   ]
  },
  {
   "cell_type": "code",
   "execution_count": null,
   "id": "d4998999",
   "metadata": {},
   "outputs": [],
   "source": [
    "import matplotlib.pyplot as plt\n",
    "import numpy as np\n",
    "\n",
    "x = np.array([0,1,2,3])\n",
    "y = np.array([3,8,1,10])\n",
    "\n",
    "plt.subplot(2,1,1)\n",
    "plt.plot(x,y)\n",
    "\n",
    "x = np.array([0,1,2,3])\n",
    "y = np.array([10,20,30,40])\n",
    "\n",
    "plt.subplot(2,1,2)\n",
    "plt.plot(x,y)\n",
    "\n",
    "plt.show()"
   ]
  },
  {
   "cell_type": "markdown",
   "id": "3c1739db",
   "metadata": {},
   "source": [
    "**plt.tight_layout:** Prevents subplot axes and title spaces from intersecting."
   ]
  },
  {
   "cell_type": "code",
   "execution_count": null,
   "id": "888c63f5",
   "metadata": {},
   "outputs": [],
   "source": [
    "import matplotlib.pyplot as plt\n",
    "import numpy as np\n",
    "\n",
    "x = np.array([0,1,2,3])\n",
    "y = np.array([3,8,1,10])\n",
    "\n",
    "plt.subplot(2,1,1)\n",
    "plt.plot(x,y,linestyle='--')\n",
    "\n",
    "plt.xlabel(\"x values\")\n",
    "plt.ylabel(\"y values\")\n",
    "plt.title(\"Plot 1\")\n",
    "\n",
    "x = np.array([0,1,2,3])\n",
    "y = np.array([10,20,30,40])\n",
    "\n",
    "plt.subplot(2,1,2)\n",
    "plt.plot(x,y,c='r')\n",
    "\n",
    "plt.xlabel(\"x values\")\n",
    "plt.ylabel(\"y values\")\n",
    "plt.title(\"Plot 2\")\n",
    "\n",
    "plt.tight_layout()\n",
    "plt.show()"
   ]
  },
  {
   "cell_type": "markdown",
   "id": "be2a3eb5",
   "metadata": {},
   "source": [
    "**plt.suptitle:** Adds title to entire group of subplots."
   ]
  },
  {
   "cell_type": "code",
   "execution_count": null,
   "id": "581f2d73",
   "metadata": {},
   "outputs": [],
   "source": [
    "import matplotlib.pyplot as plt\n",
    "import numpy as np\n",
    "\n",
    "x = np.array([0,1,2,3])\n",
    "y = np.array([3,8,1,10])\n",
    "\n",
    "plt.subplot(2,1,1)\n",
    "plt.plot(x,y)\n",
    "\n",
    "plt.xlabel(\"x values\")\n",
    "plt.ylabel(\"y values\")\n",
    "plt.title(\"Plot 1\")\n",
    "\n",
    "x = np.array([0,1,2,3])\n",
    "y = np.array([10,20,30,40])\n",
    "\n",
    "plt.subplot(2,1,2)\n",
    "plt.plot(x,y)\n",
    "\n",
    "plt.xlabel(\"x values\")\n",
    "plt.ylabel(\"y values\")\n",
    "plt.title(\"Plot 2\")\n",
    "\n",
    "plt.suptitle(\"Subplot demonstration\")\n",
    "plt.tight_layout()\n",
    "plt.show()"
   ]
  },
  {
   "cell_type": "markdown",
   "id": "c35393f6",
   "metadata": {},
   "source": [
    "**plt.legend:** Generates a legend with lines labelled by colour."
   ]
  },
  {
   "cell_type": "code",
   "execution_count": null,
   "id": "ee81e56c",
   "metadata": {},
   "outputs": [],
   "source": [
    "x1 = np.array([0,1,2,3])\n",
    "y1 = np.array([3,8,1,10])\n",
    "x2 = np.array([0,1,2,3])\n",
    "y2 = np.array([6,16,2,20])\n",
    "\n",
    "plt.subplot(2,1,1)\n",
    "plt.plot(x1,y1, label=r'Line 1')\n",
    "plt.plot(x2,y2,c='r', label=r'Line 2')\n",
    "\n",
    "plt.xlabel(\"x values\")\n",
    "plt.ylabel(\"y values\")\n",
    "plt.title(\"Plot 1\")\n",
    "\n",
    "plt.legend()\n",
    "\n",
    "x1 = np.array([0,1,2,3])\n",
    "y1 = np.array([10,20,30,40])\n",
    "x2 = np.array([0,1,2,3])\n",
    "y2 = np.array([30,6,24,9])\n",
    "\n",
    "plt.subplot(2,1,2)\n",
    "plt.plot(x1,y1,c='g', label=r'Line 3')\n",
    "plt.plot(x2,y2,c='y', label=r'Line 4')\n",
    "\n",
    "plt.xlabel(\"x values\")\n",
    "plt.ylabel(\"y values\")\n",
    "plt.title(\"Plot 2\")\n",
    "\n",
    "plt.suptitle(\"Subplot demonstration\")\n",
    "plt.tight_layout()\n",
    "\n",
    "plt.legend()\n",
    "\n",
    "plt.show()"
   ]
  },
  {
   "cell_type": "markdown",
   "id": "02255a76",
   "metadata": {},
   "source": [
    "**plt.bar:** Returns a bar chart.  Inputs are horizontal and vertical axis values."
   ]
  },
  {
   "cell_type": "code",
   "execution_count": null,
   "id": "620a7557",
   "metadata": {},
   "outputs": [],
   "source": [
    "x = np.array([\"A\",\"B\",\"C\",\"D\"])\n",
    "y = np.array([1,3,8,10])\n",
    "\n",
    "plt.bar(x,y)\n",
    "plt.show()"
   ]
  },
  {
   "cell_type": "markdown",
   "id": "57b13be9",
   "metadata": {},
   "source": [
    "**plt.barh:** Returns a horizontal bar chart.  Same inputs as `plt.bar`."
   ]
  },
  {
   "cell_type": "code",
   "execution_count": null,
   "id": "36c23a9c",
   "metadata": {},
   "outputs": [],
   "source": [
    "x = np.array([\"A\", \"B\", \"C\", \"D\"])\n",
    "y = np.array([3, 8, 1, 10])\n",
    "\n",
    "plt.barh(x,y,0.1,0.1, color='r')\n",
    "plt.show()"
   ]
  },
  {
   "cell_type": "markdown",
   "id": "0122b95a",
   "metadata": {},
   "source": [
    "**plt.hist:**  Returns a histogram.  $1^{st}$ input is data and $2^{nd}$ is data on bins.  Bin edges can be defined with an external list."
   ]
  },
  {
   "cell_type": "code",
   "execution_count": null,
   "id": "bcb4b481",
   "metadata": {},
   "outputs": [],
   "source": [
    "x = np.random.normal(170, 10, 250)\n",
    "\n",
    "binpos = [130, 135, 140, 145, 150, 155, 160, 165, 170, 175, 180, 185, 190, 195, 200]\n",
    "\n",
    "plt.hist(x, bins = binpos)\n",
    "plt.show()"
   ]
  },
  {
   "cell_type": "markdown",
   "id": "427c3ce6",
   "metadata": {},
   "source": [
    "**edgecolor:** Highlights edges of each bin 'tower' with selected colour."
   ]
  },
  {
   "cell_type": "code",
   "execution_count": null,
   "id": "51077e6e",
   "metadata": {},
   "outputs": [],
   "source": [
    "x = np.random.normal(170, 10, 250)\n",
    "\n",
    "binpos = [130, 135, 140, 145, 150, 155, 160, 165, 170, 175, 180, 185, 190, 195, 200]\n",
    "\n",
    "plt.hist(x, bins = binpos, edgecolor = \"black\")\n",
    "plt.show()"
   ]
  },
  {
   "cell_type": "markdown",
   "id": "2e279f6e",
   "metadata": {},
   "source": [
    "**plt.pie:** Returns a pie chart.  $1^{st}$ input is data, $2^{nd}$ is labels (given by external list) and $3^{rd}$ is starting angle (default $0$ degrees) is positive, moves anticlockwise)."
   ]
  },
  {
   "cell_type": "code",
   "execution_count": null,
   "id": "d80d532b",
   "metadata": {},
   "outputs": [],
   "source": [
    "x = np.array([35,25,25,15])\n",
    "labl = [\"A\",\"B\",\"C\",\"D\"]\n",
    "\n",
    "plt.pie(x,labels=labl, startangle = 90)\n",
    "plt.show()"
   ]
  },
  {
   "cell_type": "markdown",
   "id": "4024c24d",
   "metadata": {},
   "source": [
    "**explode:** Separates a specified segment of a pie chart.  Specified by external list."
   ]
  },
  {
   "cell_type": "code",
   "execution_count": null,
   "id": "a8ecbab4",
   "metadata": {},
   "outputs": [],
   "source": [
    "x = np.array([35,25,25,15])\n",
    "\n",
    "sep = [0.2,0,0,0]\n",
    "\n",
    "plt.pie(x, explode=sep)\n",
    "plt.show()"
   ]
  },
  {
   "cell_type": "markdown",
   "id": "494ae498",
   "metadata": {},
   "source": [
    "**colours:** Determines colour of each segment.  Specified by external list."
   ]
  },
  {
   "cell_type": "code",
   "execution_count": null,
   "id": "faa83496",
   "metadata": {},
   "outputs": [],
   "source": [
    "y = np.array([35, 25, 25, 15])\n",
    "labl = [\"A\",\"B\",\"C\",\"D\"]\n",
    "cols = [\"black\", \"hotpink\", \"b\", \"#4CAF50\"]\n",
    "\n",
    "plt.pie(y, labels = labl, colors = cols)\n",
    "plt.show()"
   ]
  },
  {
   "cell_type": "markdown",
   "id": "dfb531b6",
   "metadata": {},
   "source": [
    "[Return to contents](#0.)\n",
    "\n",
    "<hr style=\"border:2px solid gray\">"
   ]
  },
  {
   "cell_type": "markdown",
   "id": "50ed6b56",
   "metadata": {},
   "source": [
    "## 7. Importing data <a name=\"7.\"></a>\n",
    "\n",
    "<hr style=\"border:2px solid gray\">"
   ]
  },
  {
   "cell_type": "markdown",
   "id": "275ad54d",
   "metadata": {},
   "source": [
    "**pandas:** Library used to import and read data."
   ]
  },
  {
   "cell_type": "markdown",
   "id": "96636f6f",
   "metadata": {},
   "source": [
    "**pandas.read_csv:** Returns columnal data from `.csv` (comma-separated variable) file.  Input is filename as a string."
   ]
  },
  {
   "cell_type": "code",
   "execution_count": null,
   "id": "e8397703",
   "metadata": {},
   "outputs": [],
   "source": [
    "df = pd.read_csv(\"company_sales_data.csv\")\n",
    "print(df)"
   ]
  },
  {
   "cell_type": "markdown",
   "id": "5c25e76f",
   "metadata": {},
   "source": [
    "**head:** Reads off a particular number of rows, starting from the $1^{st}$.  Input is number of rows."
   ]
  },
  {
   "cell_type": "code",
   "execution_count": null,
   "id": "4bed83a3",
   "metadata": {},
   "outputs": [],
   "source": [
    "month = df ['month_number']\n",
    "print(month)\n",
    "print(month[0])"
   ]
  },
  {
   "cell_type": "markdown",
   "id": "a03e8d75",
   "metadata": {},
   "source": [
    "[Return to contents](#0.)\n",
    "\n",
    "<hr style=\"border:2px solid gray\">"
   ]
  },
  {
   "cell_type": "markdown",
   "id": "3cdd1853",
   "metadata": {},
   "source": [
    "## 8. `curve_fit` functions <a name=\"8.\"></a>\n",
    "\n",
    "<hr style=\"border:2px solid gray\">"
   ]
  },
  {
   "cell_type": "markdown",
   "id": "5576a7bf",
   "metadata": {},
   "source": [
    "**curve_fit:** Performs least-squares fit on a function.  The $1^{st}$ input is the function, the $2^{nd}$ is the $x$-data and the $3^{rd}$ is the $y$-data."
   ]
  },
  {
   "cell_type": "markdown",
   "id": "a278c3fd",
   "metadata": {},
   "source": [
    "**popt:** Returns an array of the best-fit parameters, with each element corresponding to the best-fit parameter of each data input."
   ]
  },
  {
   "cell_type": "markdown",
   "id": "43c1eca7",
   "metadata": {},
   "source": [
    "**pcov:** Returns the variance (element $[n,0]$) and covariance (element $[n,0]$) of each data input."
   ]
  },
  {
   "cell_type": "code",
   "execution_count": null,
   "id": "fa200573",
   "metadata": {},
   "outputs": [],
   "source": [
    "popt, pcov = curve_fit(linear, x, y)"
   ]
  },
  {
   "cell_type": "markdown",
   "id": "096a74b6",
   "metadata": {},
   "source": [
    "[Return to contents](#0.)\n",
    "\n",
    "<hr style=\"border:2px solid gray\">"
   ]
  }
 ],
 "metadata": {
  "kernelspec": {
   "display_name": "Python 3 (ipykernel)",
   "language": "python",
   "name": "python3"
  },
  "language_info": {
   "codemirror_mode": {
    "name": "ipython",
    "version": 3
   },
   "file_extension": ".py",
   "mimetype": "text/x-python",
   "name": "python",
   "nbconvert_exporter": "python",
   "pygments_lexer": "ipython3",
   "version": "3.7.6"
  }
 },
 "nbformat": 4,
 "nbformat_minor": 5
}
