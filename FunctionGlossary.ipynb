{
 "cells": [
  {
   "cell_type": "markdown",
   "id": "2169acc1",
   "metadata": {},
   "source": [
    "# A glossary of useful functions <a name=\"0.\"></a>"
   ]
  },
  {
   "cell_type": "markdown",
   "id": "848f6496",
   "metadata": {},
   "source": []
  },
  {
   "cell_type": "markdown",
   "id": "d9657535",
   "metadata": {},
   "source": [
    "Below are the various modules that need to be imported; this way, there is no need to call them in later sections."
   ]
  },
  {
   "cell_type": "code",
   "execution_count": null,
   "id": "2121c7b7",
   "metadata": {},
   "outputs": [],
   "source": [
    "import math\n",
    "import random\n",
    "import string\n",
    "import numpy as np\n",
    "import matplotlib.pyplot as plt\n",
    "import pandas as pd\n",
    "from scipy.optimize import curve_fit"
   ]
  },
  {
   "cell_type": "markdown",
   "id": "3f51167e",
   "metadata": {},
   "source": [
    "Contents:\n",
    "- [Inbuilt functions](#1.)\n",
    "- [`math` functions](#2.)\n",
    "- [`random` functions](#3.)\n",
    "- [`string` functions](#4.)\n",
    "- [`numpy` functions](#5.)\n",
    "- [`matplotlib` functions](#6.)\n",
    "- [Importing data](#7.)\n",
    "- [`curve_fit` functions](#8.)"
   ]
  },
  {
   "cell_type": "markdown",
   "id": "39182fac",
   "metadata": {},
   "source": [
    "## 1. Inbuilt functions <a name=\"1.\"></a>\n",
    "\n",
    "<hr style=\"border:2px solid gray\">"
   ]
  },
  {
   "cell_type": "markdown",
   "id": "be98905d",
   "metadata": {},
   "source": [
    "**print:** Displays item/s within bracket."
   ]
  },
  {
   "cell_type": "code",
   "execution_count": null,
   "id": "b1ff1590",
   "metadata": {},
   "outputs": [],
   "source": [
    "print(\"Shut up and take my money!\")"
   ]
  },
  {
   "cell_type": "markdown",
   "id": "94a1cdb2",
   "metadata": {},
   "source": [
    "**input:** Allows an input value to be entered manually once the code is run."
   ]
  },
  {
   "cell_type": "code",
   "execution_count": null,
   "id": "ec356531",
   "metadata": {},
   "outputs": [],
   "source": [
    "name = input(\"Enter your name: \")\n",
    "print(f\"{name} HAS ENTERED THE CHAT\")"
   ]
  },
  {
   "cell_type": "markdown",
   "id": "87e10635",
   "metadata": {},
   "source": [
    "**append:** Adds a singular item to end of list."
   ]
  },
  {
   "cell_type": "code",
   "execution_count": null,
   "id": "9fdd4f62",
   "metadata": {},
   "outputs": [],
   "source": [
    "tune = ['do', 're']\n",
    "tune.append('mi')\n",
    "print(tune)"
   ]
  },
  {
   "cell_type": "markdown",
   "id": "356cd3fe",
   "metadata": {},
   "source": [
    "**len:** Returns the number of items in an object."
   ]
  },
  {
   "cell_type": "code",
   "execution_count": null,
   "id": "9ce53da7",
   "metadata": {},
   "outputs": [],
   "source": [
    "L = [1,2,3,4,5]\n",
    "len(L)"
   ]
  },
  {
   "cell_type": "markdown",
   "id": "e652aa4d",
   "metadata": {},
   "source": [
    "**type:** Returns the class type of the input object."
   ]
  },
  {
   "cell_type": "code",
   "execution_count": null,
   "id": "d8ff41c5",
   "metadata": {},
   "outputs": [],
   "source": [
    "a = ('do', 're', 'mi')\n",
    "b = \"Hello world!\"\n",
    "c = 33\n",
    "\n",
    "print(type(a),type(b),type(c))"
   ]
  },
  {
   "cell_type": "markdown",
   "id": "75e8814e",
   "metadata": {},
   "source": [
    "**round:** Rounds up $1^{st}$ input to order of $2^{nd}$ input."
   ]
  },
  {
   "cell_type": "code",
   "execution_count": null,
   "id": "eb21b798",
   "metadata": {},
   "outputs": [],
   "source": [
    "x = round(3.1415926535, 2)\n",
    "print(x)"
   ]
  },
  {
   "cell_type": "markdown",
   "id": "2562caa7",
   "metadata": {},
   "source": [
    "**range:** Returns a range of numbers, starting at the $1^{st}$ argument, stopping at the $2^{nd}$ and incrementing by the $3^{rd}$."
   ]
  },
  {
   "cell_type": "code",
   "execution_count": null,
   "id": "0e421ea0",
   "metadata": {},
   "outputs": [],
   "source": [
    "n = range(1, 23, 2)\n",
    "for i in n:\n",
    "    print(i)"
   ]
  },
  {
   "cell_type": "markdown",
   "id": "baa9c5eb",
   "metadata": {},
   "source": [
    "**float:** Returns a floating-point number from a number or a string."
   ]
  },
  {
   "cell_type": "code",
   "execution_count": null,
   "id": "59fb31ec",
   "metadata": {},
   "outputs": [],
   "source": [
    "integ = 25\n",
    "print(float(integ))"
   ]
  },
  {
   "cell_type": "markdown",
   "id": "eb74c878",
   "metadata": {},
   "source": [
    "**int:** Converts the input value into an integer."
   ]
  },
  {
   "cell_type": "code",
   "execution_count": null,
   "id": "96f0400e",
   "metadata": {},
   "outputs": [],
   "source": [
    "print(int(10.0))\n",
    "print(int(\"12\"))"
   ]
  },
  {
   "cell_type": "markdown",
   "id": "e936e3aa",
   "metadata": {},
   "source": [
    "**list:** Creates a list from the input variable/s."
   ]
  },
  {
   "cell_type": "code",
   "execution_count": null,
   "id": "10d5348e",
   "metadata": {},
   "outputs": [],
   "source": [
    "L = list(('Phasers', 'to', 'stun'))\n",
    "print(L)"
   ]
  },
  {
   "cell_type": "markdown",
   "id": "90aa5b26",
   "metadata": {},
   "source": [
    "**str:** Converts input value into a string."
   ]
  },
  {
   "cell_type": "code",
   "execution_count": null,
   "id": "72cb3508",
   "metadata": {},
   "outputs": [],
   "source": [
    "s = str(\"BFG\")\n",
    "print(s)"
   ]
  },
  {
   "cell_type": "markdown",
   "id": "5332b306",
   "metadata": {},
   "source": [
    "[Return to contents](#0.)\n",
    "\n",
    "<hr style=\"border:2px solid gray\">"
   ]
  },
  {
   "cell_type": "markdown",
   "id": "95810f7a",
   "metadata": {},
   "source": [
    "## 2. `math` functions <a name=\"2.\"></a>\n",
    "\n",
    "<hr style=\"border:2px solid gray\">"
   ]
  },
  {
   "cell_type": "markdown",
   "id": "4628725c",
   "metadata": {},
   "source": [
    "**math.sqrt:** Returns the square root of the input."
   ]
  },
  {
   "cell_type": "code",
   "execution_count": null,
   "id": "168c51a7",
   "metadata": {},
   "outputs": [],
   "source": [
    "sq = math.sqrt(19)\n",
    "print(sq)"
   ]
  },
  {
   "cell_type": "markdown",
   "id": "3b327e3c",
   "metadata": {},
   "source": [
    "**math.pi:** Returns a high-order approximation of the constant $\\pi$."
   ]
  },
  {
   "cell_type": "code",
   "execution_count": null,
   "id": "2794c555",
   "metadata": {},
   "outputs": [],
   "source": [
    "pi = math.pi\n",
    "print(pi)\n",
    "print(2*pi)"
   ]
  },
  {
   "cell_type": "markdown",
   "id": "2f294aa8",
   "metadata": {},
   "source": [
    "**math.cos:** Returns the cosine of the input."
   ]
  },
  {
   "cell_type": "code",
   "execution_count": null,
   "id": "06fba4ec",
   "metadata": {},
   "outputs": [],
   "source": [
    "cos = math.cos(3*pi)\n",
    "print(cos)"
   ]
  },
  {
   "cell_type": "markdown",
   "id": "1883e5ba",
   "metadata": {},
   "source": [
    "**math.sin:** Returns the sine of the input. [[[Check code cell]]]"
   ]
  },
  {
   "cell_type": "code",
   "execution_count": null,
   "id": "0ac13ebb",
   "metadata": {},
   "outputs": [],
   "source": [
    "sine = math.sin(pi)\n",
    "print(sine)"
   ]
  },
  {
   "cell_type": "markdown",
   "id": "ae6061cc",
   "metadata": {},
   "source": [
    "**math.e:** Returns a high-order approximation of the constant $e$."
   ]
  },
  {
   "cell_type": "code",
   "execution_count": null,
   "id": "1bbdbfcd",
   "metadata": {},
   "outputs": [],
   "source": [
    "e = math.e\n",
    "print(e)"
   ]
  },
  {
   "cell_type": "markdown",
   "id": "0b00929c",
   "metadata": {},
   "source": [
    "**math.log:** Returns logarithm of $1^{st}$ input to base of $2^{nd}$.  Default is $e$."
   ]
  },
  {
   "cell_type": "code",
   "execution_count": null,
   "id": "5a7d34d8",
   "metadata": {},
   "outputs": [],
   "source": [
    "print(math.log(e))\n",
    "print(math.log(2))\n",
    "print(math.log(10,2))\n",
    "print(math.log(8,2))"
   ]
  },
  {
   "cell_type": "markdown",
   "id": "3711c886",
   "metadata": {},
   "source": [
    "**math.isclose:** Returns `True` if the $1^{st}$ and $2^{nd}$ inputs are close.  The $3^{rd}$ argument is the *relative tolerance*, the maximum allowed difference between both inputs.  Default value for the relative tolerance is $10^{-9}$."
   ]
  },
  {
   "cell_type": "code",
   "execution_count": null,
   "id": "e70f29e6",
   "metadata": {},
   "outputs": [],
   "source": [
    "print(math.isclose(8.005, 8.450, rel_tol = 0.02))\n",
    "print(math.isclose(8.005, 8.450, rel_tol = 0.5)) "
   ]
  },
  {
   "cell_type": "markdown",
   "id": "d4560578",
   "metadata": {},
   "source": [
    "[Return to contents](#0.)\n",
    "\n",
    "<hr style=\"border:2px solid gray\">"
   ]
  },
  {
   "cell_type": "markdown",
   "id": "63f84e06",
   "metadata": {},
   "source": [
    "## 3. `random` functions <a name=\"3.\"></a>\n",
    "\n",
    "<hr style=\"border:2px solid gray\">"
   ]
  },
  {
   "cell_type": "markdown",
   "id": "e3dacc18",
   "metadata": {},
   "source": [
    "**random.uniform:** Returns a random number between the $1^{st}$ and $2^{nd}$ inputs."
   ]
  },
  {
   "cell_type": "code",
   "execution_count": null,
   "id": "10d7dc70",
   "metadata": {},
   "outputs": [],
   "source": [
    "print(random.uniform(20, 60))"
   ]
  },
  {
   "cell_type": "markdown",
   "id": "9436d956",
   "metadata": {},
   "source": [
    "**random.sample:** Returns a random list of specified length ($2^{nd}$ input) from the $1^{st}$ input."
   ]
  },
  {
   "cell_type": "code",
   "execution_count": null,
   "id": "e728dc56",
   "metadata": {},
   "outputs": [],
   "source": [
    "s1 = [1,2,3,4,5]\n",
    "print(random.sample(s1,3))"
   ]
  },
  {
   "cell_type": "markdown",
   "id": "f775da21",
   "metadata": {},
   "source": [
    "**random.shuffle:** Returns a randomly shuffled list from the input."
   ]
  },
  {
   "cell_type": "code",
   "execution_count": null,
   "id": "13800038",
   "metadata": {},
   "outputs": [],
   "source": [
    "s2 = ['A','B','C','D','E']\n",
    "random.shuffle(s2)\n",
    "print(s2)"
   ]
  },
  {
   "cell_type": "markdown",
   "id": "3769812e",
   "metadata": {},
   "source": [
    "**random.randint:** Returns a random integer between the $s^{st}$ and $2^{nd}$ inputs."
   ]
  },
  {
   "cell_type": "code",
   "execution_count": null,
   "id": "2ac25b38",
   "metadata": {},
   "outputs": [],
   "source": [
    "print(random.randint(2,22))"
   ]
  },
  {
   "cell_type": "markdown",
   "id": "202ccb89",
   "metadata": {},
   "source": [
    "**np.random.normal:** Returns random values from a Gaussian distribution.  The $1^{st}$ input is the mean of the distribution, the $2^{nd}$ is the standard deviation of the distribution and the $3^{rd}$ is the size of the distribution."
   ]
  },
  {
   "cell_type": "code",
   "execution_count": null,
   "id": "e8305f12",
   "metadata": {},
   "outputs": [],
   "source": [
    "gss = np.random.normal(15,2,50)\n",
    "print(gss)"
   ]
  },
  {
   "cell_type": "markdown",
   "id": "96da07b4",
   "metadata": {},
   "source": [
    "[Return to contents](#0.)\n",
    "\n",
    "<hr style=\"border:2px solid gray\">"
   ]
  },
  {
   "cell_type": "markdown",
   "id": "fff37f3e",
   "metadata": {},
   "source": [
    "## 4. `string` functions <a name=\"4.\"></a>\n",
    "\n",
    "<hr style=\"border:2px solid gray\">"
   ]
  },
  {
   "cell_type": "markdown",
   "id": "69031df4",
   "metadata": {},
   "source": [
    "**string.ascii_lowercase:** A string of lowercase letters used as a string constant."
   ]
  },
  {
   "cell_type": "code",
   "execution_count": null,
   "id": "58d025e4",
   "metadata": {},
   "outputs": [],
   "source": [
    "print(string.ascii_lowercase)"
   ]
  },
  {
   "cell_type": "markdown",
   "id": "81392de0",
   "metadata": {},
   "source": [
    "**string.ascii_uppercase:** A string of uppercase letters used as a string constant."
   ]
  },
  {
   "cell_type": "code",
   "execution_count": null,
   "id": "eaf92a86",
   "metadata": {},
   "outputs": [],
   "source": [
    "print(string.ascii_uppercase)"
   ]
  },
  {
   "cell_type": "markdown",
   "id": "39a24427",
   "metadata": {},
   "source": [
    "**string.digits:** A string of numerical characters used as a string constant."
   ]
  },
  {
   "cell_type": "code",
   "execution_count": null,
   "id": "978b4e5f",
   "metadata": {},
   "outputs": [],
   "source": [
    "print(string.digits)"
   ]
  },
  {
   "cell_type": "markdown",
   "id": "f120b60a",
   "metadata": {},
   "source": [
    "**string.punctuation:** A string of punctuative characters used as a string constant."
   ]
  },
  {
   "cell_type": "code",
   "execution_count": null,
   "id": "b736befd",
   "metadata": {},
   "outputs": [],
   "source": [
    "print(string.punctuation)"
   ]
  },
  {
   "cell_type": "markdown",
   "id": "e8a1a0d8",
   "metadata": {},
   "source": [
    "**string.join:** Joins all items in a tuple into a string, using the specified character as a separator."
   ]
  },
  {
   "cell_type": "code",
   "execution_count": null,
   "id": "968576b3",
   "metadata": {},
   "outputs": [],
   "source": [
    "myTuple = (\"Uno\", \"Dos\", \"Tres\")\n",
    "x = \"/\".join(myTuple)\n",
    "y = \"\".join(myTuple)\n",
    "\n",
    "print(x)\n",
    "print(y)"
   ]
  },
  {
   "cell_type": "markdown",
   "id": "42ef31e2",
   "metadata": {},
   "source": [
    "**string.find:** Returns the index of first occurrence of the input."
   ]
  },
  {
   "cell_type": "code",
   "execution_count": null,
   "id": "08e332c2",
   "metadata": {},
   "outputs": [],
   "source": [
    "txt = \"Would you kindly...\"\n",
    "x = txt.find(\"you\")\n",
    "print(x)"
   ]
  },
  {
   "cell_type": "markdown",
   "id": "319ea3b8",
   "metadata": {},
   "source": [
    "[Return to contents](#0.)\n",
    "\n",
    "<hr style=\"border:2px solid gray\">"
   ]
  },
  {
   "cell_type": "markdown",
   "id": "f138dbc5",
   "metadata": {},
   "source": [
    "## 5. `numpy` functions <a name=\"5.\"></a>\n",
    "\n",
    "<hr style=\"border:2px solid gray\">"
   ]
  },
  {
   "cell_type": "markdown",
   "id": "22756f8a",
   "metadata": {},
   "source": [
    "**np.sqrt:** Returns the square root of the input."
   ]
  },
  {
   "cell_type": "code",
   "execution_count": null,
   "id": "0b4d7a5f",
   "metadata": {},
   "outputs": [],
   "source": [
    "sq = np.sqrt(53)\n",
    "print(sq)"
   ]
  },
  {
   "cell_type": "markdown",
   "id": "45950205",
   "metadata": {},
   "source": [
    "**np.exp:** Returns the exponential of the input, which can be a sequenced data type."
   ]
  },
  {
   "cell_type": "code",
   "execution_count": null,
   "id": "e97bf926",
   "metadata": {},
   "outputs": [],
   "source": [
    "print(np.exp(2))"
   ]
  },
  {
   "cell_type": "markdown",
   "id": "78dbf1c6",
   "metadata": {},
   "source": [
    "**np.pi:** Returns a high-order approximation of the constant $\\pi$."
   ]
  },
  {
   "cell_type": "code",
   "execution_count": null,
   "id": "819c6c7d",
   "metadata": {},
   "outputs": [],
   "source": [
    "pi = np.pi\n",
    "print(pi)"
   ]
  },
  {
   "cell_type": "markdown",
   "id": "53102a49",
   "metadata": {},
   "source": [
    "**np.linspace:** Returns an array beginning with the $1^{st}$ input, ending with the $2^{nd}$ and evenly spaced by the $3^{rd}$."
   ]
  },
  {
   "cell_type": "code",
   "execution_count": null,
   "id": "db6fd6b6",
   "metadata": {},
   "outputs": [],
   "source": [
    "print(np.linspace(1,2,9))"
   ]
  },
  {
   "cell_type": "markdown",
   "id": "bd7d09f8",
   "metadata": {},
   "source": [
    "**np.arange:** Returns an array beginning with the $1^{st}$ input, ending with the $2^{nd}$ and evenly spaced by the $3^{rd}$.  With a single input, the input is taken to be the stop value whilst the start value is taken to be $0$ and the step value to be $1$."
   ]
  },
  {
   "cell_type": "code",
   "execution_count": null,
   "id": "a8faa85f",
   "metadata": {},
   "outputs": [],
   "source": [
    "print(np.arange(4,20,3))"
   ]
  },
  {
   "cell_type": "markdown",
   "id": "aaf8b820",
   "metadata": {},
   "source": [
    "**np.array (with ndmin option):** Returns an array of the input elements in the given order."
   ]
  },
  {
   "cell_type": "code",
   "execution_count": null,
   "id": "764e0fda",
   "metadata": {},
   "outputs": [],
   "source": [
    "D0 = np.array(1)\n",
    "D1 = np.array([1, 2, 3, 4, 5])\n",
    "D2 = np.array([[1, 2, 3], [4, 5, 6]])\n",
    "D3 = np.array([[[1, 2, 3], [4, 5, 6]], [[1, 2, 3], [4, 5, 6]]])\n",
    "\n",
    "print(D0)\n",
    "print(D1)\n",
    "print(D2)\n",
    "print(D3)"
   ]
  },
  {
   "cell_type": "markdown",
   "id": "8764f831",
   "metadata": {},
   "source": [
    "**ndmin:** Specifies the dimensions of an array before generation."
   ]
  },
  {
   "cell_type": "code",
   "execution_count": null,
   "id": "1d8655f8",
   "metadata": {},
   "outputs": [],
   "source": [
    "arr = np.array([1, 2, 3, 4], ndmin=4)\n",
    "print(arr)"
   ]
  },
  {
   "cell_type": "markdown",
   "id": "e81dbd86",
   "metadata": {},
   "source": [
    "**array.ndim:** Returns the dimension of the array."
   ]
  },
  {
   "cell_type": "code",
   "execution_count": null,
   "id": "c68b3fa0",
   "metadata": {},
   "outputs": [],
   "source": [
    "print(D0.ndim)\n",
    "print(D1.ndim)\n",
    "print(D2.ndim)\n",
    "print(D3.ndim)\n",
    "print(arr.ndim)"
   ]
  },
  {
   "cell_type": "markdown",
   "id": "2b62fef1",
   "metadata": {},
   "source": [
    "**np.size:** Gives the product of the number of elements along each axis of an array."
   ]
  },
  {
   "cell_type": "code",
   "execution_count": null,
   "id": "c286bd3b",
   "metadata": {},
   "outputs": [],
   "source": [
    "arr0 = np.array([1])\n",
    "arr1 = np.array([1,2,3])\n",
    "arr2 = np.array([[1,2,3], [4,5,6]])\n",
    "arr3 = np.array([[[1, 2, 3], [4, 5, 6]], [[1, 2, 3], [4, 5, 6]]])\n",
    "\n",
    "print(np.size(arr0))\n",
    "print(np.size(arr1))\n",
    "print(np.size(arr2))\n",
    "print(np.size(arr3))"
   ]
  },
  {
   "cell_type": "markdown",
   "id": "b6be25de",
   "metadata": {},
   "source": [
    "**np.shape:** Returns the shape of an input array."
   ]
  },
  {
   "cell_type": "code",
   "execution_count": null,
   "id": "30dcde4a",
   "metadata": {},
   "outputs": [],
   "source": [
    "print(np.shape(arr3))"
   ]
  },
  {
   "cell_type": "markdown",
   "id": "7721f3e4",
   "metadata": {},
   "source": [
    "**array.reshape:** Reshapes an input array into a specified shape.  Note that the output array must have the same number of elements as the input array."
   ]
  },
  {
   "cell_type": "code",
   "execution_count": null,
   "id": "beb3de4b",
   "metadata": {},
   "outputs": [],
   "source": [
    "arr3new = arr3.reshape(1,1,12)\n",
    "print(arr3new)"
   ]
  },
  {
   "cell_type": "markdown",
   "id": "9dbfe5b1",
   "metadata": {},
   "source": [
    "np.stack"
   ]
  },
  {
   "cell_type": "code",
   "execution_count": null,
   "id": "a8ea1e45",
   "metadata": {},
   "outputs": [],
   "source": [
    "arr1 = np.array([ 1, 2, 3] )\n",
    "print (\"Input array: \\n\", arr1) \n",
    "  \n",
    "arr2 = np.array([ 4, 5, 6] )\n",
    "print (\"2nd Input array: \\n\", arr2) \n",
    "\n",
    "arr_hor = np.stack((arr1, arr2), axis = 0)\n",
    "print (\"Output stacked array along axis 0: \\n\", arr_hor)\n",
    "\n",
    "arr_ver = np.stack((arr1, arr2), axis = 1)\n",
    "print (\"Output stacked array along axis 1: \\n\", arr_ver)"
   ]
  },
  {
   "cell_type": "markdown",
   "id": "ae9f3cd3",
   "metadata": {},
   "source": [
    "[Return to contents](#0.)\n",
    "\n",
    "<hr style=\"border:2px solid gray\">"
   ]
  },
  {
   "cell_type": "markdown",
   "id": "f291c07b",
   "metadata": {},
   "source": [
    "## 6. `matplotlib` functions <a name=\"6.\"></a>\n",
    "\n",
    "<hr style=\"border:2px solid gray\">"
   ]
  },
  {
   "cell_type": "markdown",
   "id": "61d71608",
   "metadata": {},
   "source": [
    "**plt.plot:** Plots the $2^{nd}$ input against the $1^{st}$ (i.e the $1^{st}$ input is $x$ whilst the $2^{nd}$ is $y$).  An optional $3^{rd}$ input is the format (`fmt`) with arguments `[marker]`, `[line]`, `[colour]`.  Must be followed up with `plt.show()` for the plot to render."
   ]
  },
  {
   "cell_type": "code",
   "execution_count": null,
   "id": "c1f8e969",
   "metadata": {},
   "outputs": [],
   "source": [
    "x = np.arange(-5,8,1)\n",
    "y = (x-1)**2\n",
    "\n",
    "plt.plot(x,y, marker = 'o', color = 'r')\n",
    "plt.show()"
   ]
  },
  {
   "cell_type": "markdown",
   "id": "44cf62f9",
   "metadata": {},
   "source": [
    "**plt.xlabel:** Assigns a label to the horizontal axis where the label is generated from a string input.  A `plt.ylabel` function also exists."
   ]
  },
  {
   "cell_type": "code",
   "execution_count": null,
   "id": "b670fe1a",
   "metadata": {},
   "outputs": [],
   "source": [
    "x = np.arange(-5,8,1)\n",
    "y = (x-1)**2\n",
    "\n",
    "plt.plot(x,y, marker = 'o', color = 'r')\n",
    "plt.xlabel('x-values')\n",
    "plt.show()"
   ]
  },
  {
   "cell_type": "markdown",
   "id": "5d2aad47",
   "metadata": {},
   "source": [
    "**plt.title:** Assigns a title to the plot where the label is generated from a string input."
   ]
  },
  {
   "cell_type": "code",
   "execution_count": null,
   "id": "d66aea52",
   "metadata": {},
   "outputs": [],
   "source": [
    "x = np.arange(-5,8,1)\n",
    "y = (x-1)**2\n",
    "\n",
    "plt.plot(x,y, marker = 'o', color = 'r')\n",
    "plt.title('Positive quadratic')\n",
    "plt.show()"
   ]
  },
  {
   "cell_type": "markdown",
   "id": "8bf0ed1e",
   "metadata": {},
   "source": [
    "**plt.errorbar:** Generates error bars for each datapoint from inputs `xerr` and `yerr`.  Said inputs can either be constant values, or externally defined arrays."
   ]
  },
  {
   "cell_type": "code",
   "execution_count": null,
   "id": "69daf0a6",
   "metadata": {},
   "outputs": [],
   "source": [
    "x = np.arange(-5,8,1)\n",
    "y = (x-1)**2\n",
    "\n",
    "x_error = np.linspace(0.5, 1, 13)\n",
    "y_error = np.linspace(0.5, 4, 13)\n",
    "\n",
    "plt.plot(x,y, marker = 'o', color = 'b')\n",
    "plt.errorbar(x, y, xerr = x_error, yerr = y_error, ecolor = 'g')\n",
    "plt.show()"
   ]
  },
  {
   "cell_type": "markdown",
   "id": "009e6e38",
   "metadata": {},
   "source": [
    "**plt.xscale:**"
   ]
  },
  {
   "cell_type": "code",
   "execution_count": null,
   "id": "198af6fd",
   "metadata": {},
   "outputs": [],
   "source": [
    "x = 10.0**np.linspace(0.0, 5.0, 15) \n",
    "y = x**2.0\n",
    "\n",
    "plt.plot(x,y)\n",
    "\n",
    "plt.xscale('log') \n",
    "plt.yscale('log')\n",
    "\n",
    "plt.show()"
   ]
  },
  {
   "cell_type": "markdown",
   "id": "62f6898e",
   "metadata": {},
   "source": [
    "**plt.scatter:** Returns a scatter plot from input values."
   ]
  },
  {
   "cell_type": "code",
   "execution_count": null,
   "id": "20070dbc",
   "metadata": {},
   "outputs": [],
   "source": [
    "x = np.random.randint(1,10, size = 10)\n",
    "y = np.random.randint(1,15,size = 10)\n",
    "\n",
    "plt.scatter(x, y)\n",
    "plt.show()"
   ]
  },
  {
   "cell_type": "markdown",
   "id": "f974078f",
   "metadata": {},
   "source": [
    "**col:** Colours datapoints depending on 'colour' value.  Colourmap can be selected from list included in `matplotlib`, and colourbar can also be generated."
   ]
  },
  {
   "cell_type": "code",
   "execution_count": null,
   "id": "947929a0",
   "metadata": {},
   "outputs": [],
   "source": [
    "a = np.array([5,7,8,7,2,17,2,9,4,11,12,9,6])\n",
    "b = np.array([99,86,87,88,111,86,103,87,94,78,77,85,86])\n",
    "col = np.array([0,10,20,30,40,45,50,55,60,70,80,90,100])\n",
    "\n",
    "plt.scatter(a, b, c=col, cmap='Spectral')\n",
    "plt.colorbar()\n",
    "\n",
    "plt.show()"
   ]
  },
  {
   "cell_type": "markdown",
   "id": "f5e4bd09",
   "metadata": {},
   "source": [
    "plt.subplot (ALL OPTIONS, with plt.tight_layout)"
   ]
  },
  {
   "cell_type": "markdown",
   "id": "cb34da52",
   "metadata": {},
   "source": [
    "**plt.subplot:** Returns multiple plots (subplots).  $1^{st}$ input is number of rows, $2^{nd}$ is number of columns and $3^{rd}$ is index of subplot."
   ]
  },
  {
   "cell_type": "code",
   "execution_count": null,
   "id": "92046ac3",
   "metadata": {},
   "outputs": [],
   "source": [
    "import matplotlib.pyplot as plt\n",
    "import numpy as np\n",
    "\n",
    "x = np.array([0,1,2,3])\n",
    "y = np.array([3,8,1,10])\n",
    "\n",
    "plt.subplot(2,1,1)\n",
    "plt.plot(x,y)\n",
    "\n",
    "x = np.array([0,1,2,3])\n",
    "y = np.array([10,20,30,40])\n",
    "\n",
    "plt.subplot(2,1,2)\n",
    "plt.plot(x,y)\n",
    "\n",
    "plt.show()"
   ]
  },
  {
   "cell_type": "markdown",
   "id": "5aec6463",
   "metadata": {},
   "source": [
    "**plt.tight_layout:** Prevents subplot axes and title spaces from intersecting."
   ]
  },
  {
   "cell_type": "code",
   "execution_count": null,
   "id": "34cded13",
   "metadata": {},
   "outputs": [],
   "source": [
    "import matplotlib.pyplot as plt\n",
    "import numpy as np\n",
    "\n",
    "x = np.array([0,1,2,3])\n",
    "y = np.array([3,8,1,10])\n",
    "\n",
    "plt.subplot(2,1,1)\n",
    "plt.plot(x,y,linestyle='--')\n",
    "\n",
    "plt.xlabel(\"x values\")\n",
    "plt.ylabel(\"y values\")\n",
    "plt.title(\"Plot 1\")\n",
    "\n",
    "x = np.array([0,1,2,3])\n",
    "y = np.array([10,20,30,40])\n",
    "\n",
    "plt.subplot(2,1,2)\n",
    "plt.plot(x,y,c='r')\n",
    "\n",
    "plt.xlabel(\"x values\")\n",
    "plt.ylabel(\"y values\")\n",
    "plt.title(\"Plot 2\")\n",
    "\n",
    "plt.tight_layout()\n",
    "plt.show()"
   ]
  },
  {
   "cell_type": "markdown",
   "id": "7443604b",
   "metadata": {},
   "source": [
    "**plt.suptitle:** Adds title to entire group of subplots."
   ]
  },
  {
   "cell_type": "code",
   "execution_count": null,
   "id": "d395dbe2",
   "metadata": {},
   "outputs": [],
   "source": [
    "import matplotlib.pyplot as plt\n",
    "import numpy as np\n",
    "\n",
    "x = np.array([0,1,2,3])\n",
    "y = np.array([3,8,1,10])\n",
    "\n",
    "plt.subplot(2,1,1)\n",
    "plt.plot(x,y)\n",
    "\n",
    "plt.xlabel(\"x values\")\n",
    "plt.ylabel(\"y values\")\n",
    "plt.title(\"Plot 1\")\n",
    "\n",
    "x = np.array([0,1,2,3])\n",
    "y = np.array([10,20,30,40])\n",
    "\n",
    "plt.subplot(2,1,2)\n",
    "plt.plot(x,y)\n",
    "\n",
    "plt.xlabel(\"x values\")\n",
    "plt.ylabel(\"y values\")\n",
    "plt.title(\"Plot 2\")\n",
    "\n",
    "plt.suptitle(\"Subplot demonstration\")\n",
    "plt.tight_layout()\n",
    "plt.show()"
   ]
  },
  {
   "cell_type": "markdown",
   "id": "21c60467",
   "metadata": {},
   "source": [
    "**plt.legend:** Generates a legend with lines labelled by colour."
   ]
  },
  {
   "cell_type": "code",
   "execution_count": null,
   "id": "fbf81185",
   "metadata": {},
   "outputs": [],
   "source": [
    "x1 = np.array([0,1,2,3])\n",
    "y1 = np.array([3,8,1,10])\n",
    "x2 = np.array([0,1,2,3])\n",
    "y2 = np.array([6,16,2,20])\n",
    "\n",
    "plt.subplot(2,1,1)\n",
    "plt.plot(x1,y1, label=r'Line 1')\n",
    "plt.plot(x2,y2,c='r', label=r'Line 2')\n",
    "\n",
    "plt.xlabel(\"x values\")\n",
    "plt.ylabel(\"y values\")\n",
    "plt.title(\"Plot 1\")\n",
    "\n",
    "plt.legend()\n",
    "\n",
    "x1 = np.array([0,1,2,3])\n",
    "y1 = np.array([10,20,30,40])\n",
    "x2 = np.array([0,1,2,3])\n",
    "y2 = np.array([30,6,24,9])\n",
    "\n",
    "plt.subplot(2,1,2)\n",
    "plt.plot(x1,y1,c='g', label=r'Line 3')\n",
    "plt.plot(x2,y2,c='y', label=r'Line 4')\n",
    "\n",
    "plt.xlabel(\"x values\")\n",
    "plt.ylabel(\"y values\")\n",
    "plt.title(\"Plot 2\")\n",
    "\n",
    "plt.suptitle(\"Subplot demonstration\")\n",
    "plt.tight_layout()\n",
    "\n",
    "plt.legend()\n",
    "\n",
    "plt.show()"
   ]
  },
  {
   "cell_type": "markdown",
   "id": "99e27874",
   "metadata": {},
   "source": [
    "**plt.bar:** Returns a bar chart.  Inputs are horizontal and vertical axis values."
   ]
  },
  {
   "cell_type": "code",
   "execution_count": null,
   "id": "686b5b6f",
   "metadata": {},
   "outputs": [],
   "source": [
    "x = np.array([\"A\",\"B\",\"C\",\"D\"])\n",
    "y = np.array([1,3,8,10])\n",
    "\n",
    "plt.bar(x,y)\n",
    "plt.show()"
   ]
  },
  {
   "cell_type": "markdown",
   "id": "5cdd41dd",
   "metadata": {},
   "source": [
    "**plt.barh:** Returns a horizontal bar chart.  Same inputs as `plt.bar`."
   ]
  },
  {
   "cell_type": "code",
   "execution_count": null,
   "id": "e11d2d8b",
   "metadata": {},
   "outputs": [],
   "source": [
    "x = np.array([\"A\", \"B\", \"C\", \"D\"])\n",
    "y = np.array([3, 8, 1, 10])\n",
    "\n",
    "plt.barh(x,y,0.1,0.1, color='r')\n",
    "plt.show()"
   ]
  },
  {
   "cell_type": "markdown",
   "id": "a6ac0d43",
   "metadata": {},
   "source": [
    "plt.hist (bins, edgecolour)"
   ]
  },
  {
   "cell_type": "markdown",
   "id": "ad292bf9",
   "metadata": {},
   "source": [
    "**plt.hist:**  Returns a histogram.  $1^{st}$ input is data and $2^{nd}$ is data on bins.  Bin edges can be defined with an external list."
   ]
  },
  {
   "cell_type": "code",
   "execution_count": null,
   "id": "cbd488ac",
   "metadata": {},
   "outputs": [],
   "source": [
    "x = np.random.normal(170, 10, 250)\n",
    "\n",
    "binpos = [130, 135, 140, 145, 150, 155, 160, 165, 170, 175, 180, 185, 190, 195, 200]\n",
    "\n",
    "plt.hist(x, bins = binpos)\n",
    "plt.show()"
   ]
  },
  {
   "cell_type": "markdown",
   "id": "e09a9642",
   "metadata": {},
   "source": [
    "**edgecolor:** Highlights edges of each bin 'tower' with selected colour."
   ]
  },
  {
   "cell_type": "code",
   "execution_count": null,
   "id": "21a1bdea",
   "metadata": {},
   "outputs": [],
   "source": [
    "x = np.random.normal(170, 10, 250)\n",
    "\n",
    "binpos = [130, 135, 140, 145, 150, 155, 160, 165, 170, 175, 180, 185, 190, 195, 200]\n",
    "\n",
    "plt.hist(x, bins = binpos, edgecolor = \"black\")\n",
    "plt.show()"
   ]
  },
  {
   "cell_type": "markdown",
   "id": "c6eb1b1e",
   "metadata": {},
   "source": [
    "**plt.pie:** Returns a pie chart.  $1^{st}$ input is data, $2^{nd}$ is labels (given by external list) and $3^{rd}$ is starting angle (default ($0^{o}$) is positive, moves anticlockwise)."
   ]
  },
  {
   "cell_type": "code",
   "execution_count": null,
   "id": "1a3feac2",
   "metadata": {},
   "outputs": [],
   "source": [
    "x = np.array([35,25,25,15])\n",
    "labl = [\"A\",\"B\",\"C\",\"D\"]\n",
    "\n",
    "plt.pie(x,labels=labl, startangle = 90)\n",
    "plt.show()"
   ]
  },
  {
   "cell_type": "markdown",
   "id": "b398b471",
   "metadata": {},
   "source": [
    "**explode:** Separates a specified segment of a pie chart.  Specified by external list."
   ]
  },
  {
   "cell_type": "code",
   "execution_count": null,
   "id": "c6791bad",
   "metadata": {},
   "outputs": [],
   "source": [
    "x = np.array([35,25,25,15])\n",
    "\n",
    "sep = [0.2,0,0,0]\n",
    "\n",
    "plt.pie(x, explode=sep)\n",
    "plt.show()"
   ]
  },
  {
   "cell_type": "markdown",
   "id": "3dc44f7a",
   "metadata": {},
   "source": [
    "**colours:** Determines colour of each segment.  Specified by external list."
   ]
  },
  {
   "cell_type": "code",
   "execution_count": null,
   "id": "de3a7df5",
   "metadata": {},
   "outputs": [],
   "source": [
    "y = np.array([35, 25, 25, 15])\n",
    "labl = [\"A\",\"B\",\"C\",\"D\"]\n",
    "cols = [\"black\", \"hotpink\", \"b\", \"#4CAF50\"]\n",
    "\n",
    "plt.pie(y, labels = labl, colors = cols)\n",
    "plt.show()"
   ]
  },
  {
   "cell_type": "markdown",
   "id": "921051d4",
   "metadata": {},
   "source": [
    "[Return to contents](#0.)\n",
    "\n",
    "<hr style=\"border:2px solid gray\">"
   ]
  },
  {
   "cell_type": "markdown",
   "id": "ba2afd8d",
   "metadata": {},
   "source": [
    "## 7. Importing data <a name=\"7.\"></a>\n",
    "\n",
    "<hr style=\"border:2px solid gray\">"
   ]
  },
  {
   "cell_type": "markdown",
   "id": "0d9dba6e",
   "metadata": {},
   "source": [
    "pandas.read_csv / head"
   ]
  },
  {
   "cell_type": "markdown",
   "id": "c84d9420",
   "metadata": {},
   "source": [
    "**pandas:** Library used to import and read data."
   ]
  },
  {
   "cell_type": "markdown",
   "id": "2705fbfd",
   "metadata": {},
   "source": [
    "**pandas.read_csv:** Returns columnal data from `.csv` (comma-separated variable) file.  Input is filename as a string."
   ]
  },
  {
   "cell_type": "code",
   "execution_count": null,
   "id": "7e6f6542",
   "metadata": {},
   "outputs": [],
   "source": [
    "df = pd.read_csv(\"company_sales_data.csv\")\n",
    "print(df)"
   ]
  },
  {
   "cell_type": "markdown",
   "id": "22493eae",
   "metadata": {},
   "source": [
    "**head:** Reads off a particular number of rows, starting from the $1^{st}$.  Input is number of rows."
   ]
  },
  {
   "cell_type": "code",
   "execution_count": null,
   "id": "1fb2d70a",
   "metadata": {},
   "outputs": [],
   "source": [
    "month = df ['month_number']\n",
    "print(month)\n",
    "print(month[0])"
   ]
  },
  {
   "cell_type": "markdown",
   "id": "f18da40a",
   "metadata": {},
   "source": [
    "[Return to contents](#0.)\n",
    "\n",
    "<hr style=\"border:2px solid gray\">"
   ]
  },
  {
   "cell_type": "markdown",
   "id": "b0740cbf",
   "metadata": {},
   "source": [
    "## 8. `curve_fit` functions <a name=\"8.\"></a>\n",
    "\n",
    "<hr style=\"border:2px solid gray\">"
   ]
  },
  {
   "cell_type": "markdown",
   "id": "f45d638b",
   "metadata": {},
   "source": [
    "curve_fit (with popt, pcov)"
   ]
  },
  {
   "cell_type": "markdown",
   "id": "38834ba1",
   "metadata": {},
   "source": [
    "**curve_fit:** Performs least-squares fit on a function.  The $1^{st}$ input is the function, the $2^{nd}$ is the $x$-data and the $3^{rd}$ is the $y$-data."
   ]
  },
  {
   "cell_type": "markdown",
   "id": "866754bf",
   "metadata": {},
   "source": [
    "**popt:** Returns an array of the best-fit parameters, with each element corresponding to the best-fit parameter of each data input."
   ]
  },
  {
   "cell_type": "markdown",
   "id": "647ae622",
   "metadata": {},
   "source": [
    "**pcov:** Returns the variance (element $[n,0]$) and covariance (element $[n,0]$) of each data input."
   ]
  },
  {
   "cell_type": "code",
   "execution_count": null,
   "id": "57f1bc27",
   "metadata": {},
   "outputs": [],
   "source": [
    "popt, pcov = curve_fit(linear, x, y)"
   ]
  },
  {
   "cell_type": "markdown",
   "id": "eaa3cf7f",
   "metadata": {},
   "source": [
    "[Return to contents](#0.)\n",
    "\n",
    "<hr style=\"border:2px solid gray\">"
   ]
  }
 ],
 "metadata": {
  "kernelspec": {
   "display_name": "Python 3 (ipykernel)",
   "language": "python",
   "name": "python3"
  },
  "language_info": {
   "codemirror_mode": {
    "name": "ipython",
    "version": 3
   },
   "file_extension": ".py",
   "mimetype": "text/x-python",
   "name": "python",
   "nbconvert_exporter": "python",
   "pygments_lexer": "ipython3",
   "version": "3.7.6"
  }
 },
 "nbformat": 4,
 "nbformat_minor": 5
}
