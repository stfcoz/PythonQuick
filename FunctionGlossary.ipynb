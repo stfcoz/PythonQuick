{
 "cells": [
  {
   "cell_type": "markdown",
   "id": "36d57096",
   "metadata": {},
   "source": [
    "# A glossary of useful functions <a name=\"0.\"></a>"
   ]
  },
  {
   "cell_type": "markdown",
   "id": "f350ed28",
   "metadata": {},
   "source": []
  },
  {
   "cell_type": "markdown",
   "id": "5104f71f",
   "metadata": {},
   "source": [
    "Below are the various modules that need to be imported; this way, there is no need to call them in later sections."
   ]
  },
  {
   "cell_type": "code",
   "execution_count": null,
   "id": "0ee69707",
   "metadata": {},
   "outputs": [],
   "source": [
    "import math\n",
    "import random\n",
    "import string\n",
    "import numpy as np\n",
    "import matplotlib.pyplot as plt\n",
    "import pandas\n",
    "from scipy.optimize import curve_fit"
   ]
  },
  {
   "cell_type": "markdown",
   "id": "d71adc7a",
   "metadata": {},
   "source": [
    "Contents:\n",
    "- [Inbuilt functions](#1.)\n",
    "- [`math` functions](#2.)\n",
    "- [`random` functions](#3.)\n",
    "- [`string` functions](#4.)\n",
    "- [`numpy` functions](#5.)\n",
    "- [`matplotlib` functions](#6.)\n",
    "- [Importing data](#7.)\n",
    "- [`curve_fit` functions](#8.)"
   ]
  },
  {
   "cell_type": "markdown",
   "id": "f5938f25",
   "metadata": {},
   "source": [
    "## 1. Inbuilt functions <a name=\"1.\"></a>\n",
    "\n",
    "<hr style=\"border:2px solid gray\">"
   ]
  },
  {
   "cell_type": "markdown",
   "id": "5338ca5c",
   "metadata": {},
   "source": [
    "**print:** Displays item/s within bracket."
   ]
  },
  {
   "cell_type": "code",
   "execution_count": null,
   "id": "a9f6fb22",
   "metadata": {},
   "outputs": [],
   "source": [
    "print(\"Shut up and take my money!\")"
   ]
  },
  {
   "cell_type": "markdown",
   "id": "ebf83992",
   "metadata": {},
   "source": [
    "**input:** Allows an input value to be entered manually once the code is run."
   ]
  },
  {
   "cell_type": "code",
   "execution_count": null,
   "id": "9f943dc2",
   "metadata": {},
   "outputs": [],
   "source": [
    "name = input(\"Enter your name: \")\n",
    "print(f\"{name} HAS ENTERED THE CHAT\")"
   ]
  },
  {
   "cell_type": "markdown",
   "id": "e3273a23",
   "metadata": {},
   "source": [
    "**append:** Adds a singular item to end of list."
   ]
  },
  {
   "cell_type": "code",
   "execution_count": null,
   "id": "43c97b16",
   "metadata": {},
   "outputs": [],
   "source": [
    "tune = ['do', 're']\n",
    "tune.append('mi')\n",
    "print(tune)"
   ]
  },
  {
   "cell_type": "markdown",
   "id": "25563853",
   "metadata": {},
   "source": [
    "**len:** Returns the number of items in an object."
   ]
  },
  {
   "cell_type": "code",
   "execution_count": null,
   "id": "48f4119d",
   "metadata": {},
   "outputs": [],
   "source": [
    "L = [1,2,3,4,5]\n",
    "len(L)"
   ]
  },
  {
   "cell_type": "markdown",
   "id": "3734e38a",
   "metadata": {},
   "source": [
    "**type:** Returns the class type of the input object."
   ]
  },
  {
   "cell_type": "code",
   "execution_count": null,
   "id": "f3b982a3",
   "metadata": {},
   "outputs": [],
   "source": [
    "a = ('do', 're', 'mi')\n",
    "b = \"Hello world!\"\n",
    "c = 33\n",
    "\n",
    "print(type(a),type(b),type(c))"
   ]
  },
  {
   "cell_type": "markdown",
   "id": "8fb49a65",
   "metadata": {},
   "source": [
    "**round:** Rounds up $1^{st}$ input to order of $2^{nd}$ input."
   ]
  },
  {
   "cell_type": "code",
   "execution_count": null,
   "id": "0a4ccaf3",
   "metadata": {},
   "outputs": [],
   "source": [
    "x = round(3.1415926535, 2)\n",
    "print(x)"
   ]
  },
  {
   "cell_type": "markdown",
   "id": "e08e40bb",
   "metadata": {},
   "source": [
    "**range:** Returns a range of numbers, starting at the $1^{st}$ argument, stopping at the $2^{nd}$ and incrementing by the $3^{rd}$."
   ]
  },
  {
   "cell_type": "code",
   "execution_count": null,
   "id": "cd820b62",
   "metadata": {},
   "outputs": [],
   "source": [
    "n = range(1, 23, 2)\n",
    "for i in n:\n",
    "    print(i)"
   ]
  },
  {
   "cell_type": "markdown",
   "id": "2f3791d6",
   "metadata": {},
   "source": [
    "**float:** Returns a floating-point number from a number or a string."
   ]
  },
  {
   "cell_type": "code",
   "execution_count": null,
   "id": "9f591ccc",
   "metadata": {},
   "outputs": [],
   "source": [
    "integ = 25\n",
    "print(float(integ))"
   ]
  },
  {
   "cell_type": "markdown",
   "id": "4804cb13",
   "metadata": {},
   "source": [
    "**int:** Converts the input value into an integer."
   ]
  },
  {
   "cell_type": "code",
   "execution_count": null,
   "id": "befebf4d",
   "metadata": {},
   "outputs": [],
   "source": [
    "print(int(10.0))\n",
    "print(int(\"12\"))"
   ]
  },
  {
   "cell_type": "markdown",
   "id": "2a861575",
   "metadata": {},
   "source": [
    "**list:** Creates a list from the input variable/s."
   ]
  },
  {
   "cell_type": "code",
   "execution_count": null,
   "id": "0e24ed2f",
   "metadata": {},
   "outputs": [],
   "source": [
    "L = list(('Phasers', 'to', 'stun'))\n",
    "print(L)"
   ]
  },
  {
   "cell_type": "markdown",
   "id": "c3d00dc9",
   "metadata": {},
   "source": [
    "**str:** Converts input value into a string."
   ]
  },
  {
   "cell_type": "code",
   "execution_count": null,
   "id": "a568c9c1",
   "metadata": {},
   "outputs": [],
   "source": [
    "s = str(\"BFG\")\n",
    "print(s)"
   ]
  },
  {
   "cell_type": "markdown",
   "id": "4bdeb32f",
   "metadata": {},
   "source": [
    "[Return to contents](#0.)\n",
    "\n",
    "<hr style=\"border:2px solid gray\">"
   ]
  },
  {
   "cell_type": "markdown",
   "id": "ea9531bf",
   "metadata": {},
   "source": [
    "## 2. `math` functions <a name=\"2.\"></a>\n",
    "\n",
    "<hr style=\"border:2px solid gray\">"
   ]
  },
  {
   "cell_type": "markdown",
   "id": "8a8b3d9a",
   "metadata": {},
   "source": [
    "**math.sqrt:** Returns the square root of the input."
   ]
  },
  {
   "cell_type": "code",
   "execution_count": null,
   "id": "a8dce33f",
   "metadata": {},
   "outputs": [],
   "source": [
    "sq = math.sqrt(19)\n",
    "print(sq)"
   ]
  },
  {
   "cell_type": "markdown",
   "id": "75ab8381",
   "metadata": {},
   "source": [
    "**math.pi:** Returns a high-order approximation of the constant $\\pi$."
   ]
  },
  {
   "cell_type": "code",
   "execution_count": null,
   "id": "a26fe8b5",
   "metadata": {},
   "outputs": [],
   "source": [
    "pi = math.pi\n",
    "print(pi)\n",
    "print(2*pi)"
   ]
  },
  {
   "cell_type": "markdown",
   "id": "81a26f01",
   "metadata": {},
   "source": [
    "**math.cos:** Returns the cosine of the input."
   ]
  },
  {
   "cell_type": "code",
   "execution_count": null,
   "id": "2eb4069a",
   "metadata": {},
   "outputs": [],
   "source": [
    "cos = math.cos(3*pi)\n",
    "print(cos)"
   ]
  },
  {
   "cell_type": "markdown",
   "id": "bce5f918",
   "metadata": {},
   "source": [
    "**math.sin:** Returns the sine of the input. [[[Check code cell]]]"
   ]
  },
  {
   "cell_type": "code",
   "execution_count": null,
   "id": "d72384f5",
   "metadata": {},
   "outputs": [],
   "source": [
    "sine = math.sin(pi)\n",
    "print(sine)"
   ]
  },
  {
   "cell_type": "markdown",
   "id": "5fd9fa9c",
   "metadata": {},
   "source": [
    "**math.e:** Returns a high-order approximation of the constant $e$."
   ]
  },
  {
   "cell_type": "code",
   "execution_count": null,
   "id": "fb1a29d6",
   "metadata": {},
   "outputs": [],
   "source": [
    "e = math.e\n",
    "print(e)"
   ]
  },
  {
   "cell_type": "markdown",
   "id": "a44831f6",
   "metadata": {},
   "source": [
    "**math.log:** Returns logarithm of $1^{st}$ input to base of $2^{nd}$.  Default is $e$."
   ]
  },
  {
   "cell_type": "code",
   "execution_count": null,
   "id": "56b60488",
   "metadata": {},
   "outputs": [],
   "source": [
    "print(math.log(e))\n",
    "print(math.log(2))\n",
    "print(math.log(10,2))\n",
    "print(math.log(8,2))"
   ]
  },
  {
   "cell_type": "markdown",
   "id": "fc43b0fa",
   "metadata": {},
   "source": [
    "**math.isclose:** Returns `True` if the $1^{st}$ and $2^{nd}$ inputs are close.  The $3^{rd}$ argument is the *relative tolerance*, the maximum allowed difference between both inputs.  Default value for the relative tolerance is $10^{-9}$."
   ]
  },
  {
   "cell_type": "code",
   "execution_count": null,
   "id": "bfe2a6f5",
   "metadata": {},
   "outputs": [],
   "source": [
    "print(math.isclose(8.005, 8.450, rel_tol = 0.02))\n",
    "print(math.isclose(8.005, 8.450, rel_tol = 0.5)) "
   ]
  },
  {
   "cell_type": "markdown",
   "id": "896f2570",
   "metadata": {},
   "source": [
    "[Return to contents](#0.)\n",
    "\n",
    "<hr style=\"border:2px solid gray\">"
   ]
  },
  {
   "cell_type": "markdown",
   "id": "ed5f1e2c",
   "metadata": {},
   "source": [
    "## 3. `random` functions <a name=\"3.\"></a>\n",
    "\n",
    "<hr style=\"border:2px solid gray\">"
   ]
  },
  {
   "cell_type": "markdown",
   "id": "512417a0",
   "metadata": {},
   "source": [
    "**random.uniform:** Returns a random number between the $1^{st}$ and $2^{nd}$ inputs."
   ]
  },
  {
   "cell_type": "code",
   "execution_count": null,
   "id": "f897eade",
   "metadata": {},
   "outputs": [],
   "source": [
    "print(random.uniform(20, 60))"
   ]
  },
  {
   "cell_type": "markdown",
   "id": "dc65ef54",
   "metadata": {},
   "source": [
    "**random.sample:** Returns a random list of specified length ($2^{nd}$ input) from the $1^{st}$ input."
   ]
  },
  {
   "cell_type": "code",
   "execution_count": null,
   "id": "c84cc122",
   "metadata": {},
   "outputs": [],
   "source": [
    "s1 = [1,2,3,4,5]\n",
    "print(random.sample(s1,3))"
   ]
  },
  {
   "cell_type": "markdown",
   "id": "acbf79ae",
   "metadata": {},
   "source": [
    "**random.shuffle:** Returns a randomly shuffled list from the input."
   ]
  },
  {
   "cell_type": "code",
   "execution_count": null,
   "id": "35cf823d",
   "metadata": {},
   "outputs": [],
   "source": [
    "s2 = ['A','B','C','D','E']\n",
    "random.shuffle(s2)\n",
    "print(s2)"
   ]
  },
  {
   "cell_type": "markdown",
   "id": "e6011c03",
   "metadata": {},
   "source": [
    "**random.randint:** Returns a random integer between the $s^{st}$ and $2^{nd}$ inputs."
   ]
  },
  {
   "cell_type": "code",
   "execution_count": null,
   "id": "dd65acaa",
   "metadata": {},
   "outputs": [],
   "source": [
    "print(random.randint(2,22))"
   ]
  },
  {
   "cell_type": "markdown",
   "id": "79b33521",
   "metadata": {},
   "source": [
    "**np.random.normal:** Returns random values from a Gaussian distribution.  The $1^{st}$ input is the mean of the distribution, the $2^{nd}$ is the standard deviation of the distribution and the $3^{rd}$ is the size of the distribution."
   ]
  },
  {
   "cell_type": "code",
   "execution_count": null,
   "id": "3751d835",
   "metadata": {},
   "outputs": [],
   "source": [
    "gss = np.random.normal(15,2,50)\n",
    "print(gss)"
   ]
  },
  {
   "cell_type": "markdown",
   "id": "5acea259",
   "metadata": {},
   "source": [
    "[Return to contents](#0.)\n",
    "\n",
    "<hr style=\"border:2px solid gray\">"
   ]
  },
  {
   "cell_type": "markdown",
   "id": "c31b004a",
   "metadata": {},
   "source": [
    "## 4. `string` functions <a name=\"4.\"></a>\n",
    "\n",
    "<hr style=\"border:2px solid gray\">"
   ]
  },
  {
   "cell_type": "markdown",
   "id": "7736daf4",
   "metadata": {},
   "source": [
    "**string.ascii_lowercase:** A string of lowercase letters used as a string constant."
   ]
  },
  {
   "cell_type": "code",
   "execution_count": null,
   "id": "d714f900",
   "metadata": {},
   "outputs": [],
   "source": [
    "print(string.ascii_lowercase)"
   ]
  },
  {
   "cell_type": "markdown",
   "id": "343cc1cd",
   "metadata": {},
   "source": [
    "**string.ascii_uppercase:** A string of uppercase letters used as a string constant."
   ]
  },
  {
   "cell_type": "code",
   "execution_count": null,
   "id": "7279e935",
   "metadata": {},
   "outputs": [],
   "source": [
    "print(string.ascii_uppercase)"
   ]
  },
  {
   "cell_type": "markdown",
   "id": "11d52326",
   "metadata": {},
   "source": [
    "**string.digits:** A string of numerical characters used as a string constant."
   ]
  },
  {
   "cell_type": "code",
   "execution_count": null,
   "id": "bbe9fcca",
   "metadata": {},
   "outputs": [],
   "source": [
    "print(string.digits)"
   ]
  },
  {
   "cell_type": "markdown",
   "id": "d50dff7f",
   "metadata": {},
   "source": [
    "**string.punctuation:** A string of punctuative characters used as a string constant."
   ]
  },
  {
   "cell_type": "code",
   "execution_count": null,
   "id": "da16dbd7",
   "metadata": {},
   "outputs": [],
   "source": [
    "print(string.punctuation)"
   ]
  },
  {
   "cell_type": "markdown",
   "id": "b7b0ab97",
   "metadata": {},
   "source": [
    "**string.join:** Joins all items in a tuple into a string, using the specified character as a separator."
   ]
  },
  {
   "cell_type": "code",
   "execution_count": null,
   "id": "b275cb61",
   "metadata": {},
   "outputs": [],
   "source": [
    "myTuple = (\"Uno\", \"Dos\", \"Tres\")\n",
    "x = \"/\".join(myTuple)\n",
    "y = \"\".join(myTuple)\n",
    "\n",
    "print(x)\n",
    "print(y)"
   ]
  },
  {
   "cell_type": "markdown",
   "id": "b550f196",
   "metadata": {},
   "source": [
    "**string.find:** Returns the index of first occurrence of the input."
   ]
  },
  {
   "cell_type": "code",
   "execution_count": null,
   "id": "0bd001f0",
   "metadata": {},
   "outputs": [],
   "source": [
    "txt = \"Would you kindly...\"\n",
    "x = txt.find(\"you\")\n",
    "print(x)"
   ]
  },
  {
   "cell_type": "markdown",
   "id": "27d35c33",
   "metadata": {},
   "source": [
    "[Return to contents](#0.)\n",
    "\n",
    "<hr style=\"border:2px solid gray\">"
   ]
  },
  {
   "cell_type": "markdown",
   "id": "da286a14",
   "metadata": {},
   "source": [
    "## 5. `numpy` functions <a name=\"5.\"></a>\n",
    "\n",
    "<hr style=\"border:2px solid gray\">"
   ]
  },
  {
   "cell_type": "markdown",
   "id": "25ef525b",
   "metadata": {},
   "source": [
    "**np.sqrt:** Returns the square root of the input."
   ]
  },
  {
   "cell_type": "code",
   "execution_count": null,
   "id": "f080ea61",
   "metadata": {},
   "outputs": [],
   "source": [
    "sq = np.sqrt(53)\n",
    "print(sq)"
   ]
  },
  {
   "cell_type": "markdown",
   "id": "382e68cd",
   "metadata": {},
   "source": [
    "**np.exp:** Returns the exponential of the input, which can be a sequenced data type."
   ]
  },
  {
   "cell_type": "code",
   "execution_count": null,
   "id": "4b1ed962",
   "metadata": {},
   "outputs": [],
   "source": [
    "print(np.exp(2))"
   ]
  },
  {
   "cell_type": "markdown",
   "id": "be00e30a",
   "metadata": {},
   "source": [
    "**np.pi:** Returns a high-order approximation of the constant $\\pi$."
   ]
  },
  {
   "cell_type": "code",
   "execution_count": null,
   "id": "00900a80",
   "metadata": {},
   "outputs": [],
   "source": [
    "pi = np.pi\n",
    "print(pi)"
   ]
  },
  {
   "cell_type": "markdown",
   "id": "cdb209b7",
   "metadata": {},
   "source": [
    "**np.linspace:** Returns an array beginning with the $1^{st}$ input, ending with the $2^{nd}$ and evenly spaced by the $3^{rd}$."
   ]
  },
  {
   "cell_type": "code",
   "execution_count": null,
   "id": "d7157608",
   "metadata": {},
   "outputs": [],
   "source": [
    "print(np.linspace(1,2,9))"
   ]
  },
  {
   "cell_type": "markdown",
   "id": "0597d519",
   "metadata": {},
   "source": [
    "**np.arange:** Returns an array beginning with the $1^{st}$ input, ending with the $2^{nd}$ and evenly spaced by the $3^{rd}$.  With a single input, the input is taken to be the stop value whilst the start value is taken to be $0$ and the step value to be $1$."
   ]
  },
  {
   "cell_type": "code",
   "execution_count": null,
   "id": "b39868df",
   "metadata": {},
   "outputs": [],
   "source": [
    "print(np.arange(4,20,3))"
   ]
  },
  {
   "cell_type": "markdown",
   "id": "e718e6c7",
   "metadata": {},
   "source": [
    "**np.array (with ndmin option):** Returns an array of the input elements in the given order."
   ]
  },
  {
   "cell_type": "code",
   "execution_count": null,
   "id": "cb5641eb",
   "metadata": {},
   "outputs": [],
   "source": [
    "D0 = np.array(1)\n",
    "D1 = np.array([1, 2, 3, 4, 5])\n",
    "D2 = np.array([[1, 2, 3], [4, 5, 6]])\n",
    "D3 = np.array([[[1, 2, 3], [4, 5, 6]], [[1, 2, 3], [4, 5, 6]]])\n",
    "\n",
    "print(D0)\n",
    "print(D1)\n",
    "print(D2)\n",
    "print(D3)"
   ]
  },
  {
   "cell_type": "markdown",
   "id": "5849009f",
   "metadata": {},
   "source": [
    "**ndmin:** Specifies the dimensions of an array before generation."
   ]
  },
  {
   "cell_type": "code",
   "execution_count": null,
   "id": "289bdc06",
   "metadata": {},
   "outputs": [],
   "source": [
    "arr = np.array([1, 2, 3, 4], ndmin=4)\n",
    "print(arr)"
   ]
  },
  {
   "cell_type": "markdown",
   "id": "488f2dfc",
   "metadata": {},
   "source": [
    "**array.ndim:** Returns the dimension of the array."
   ]
  },
  {
   "cell_type": "code",
   "execution_count": null,
   "id": "bdfb8485",
   "metadata": {},
   "outputs": [],
   "source": [
    "print(D0.ndim)\n",
    "print(D1.ndim)\n",
    "print(D2.ndim)\n",
    "print(D3.ndim)\n",
    "print(arr.ndim)"
   ]
  },
  {
   "cell_type": "markdown",
   "id": "214d733e",
   "metadata": {},
   "source": [
    "**np.size:** Gives the product of the number of elements along each axis of an array."
   ]
  },
  {
   "cell_type": "code",
   "execution_count": null,
   "id": "50223611",
   "metadata": {},
   "outputs": [],
   "source": [
    "arr0 = np.array([1])\n",
    "arr1 = np.array([1,2,3])\n",
    "arr2 = np.array([[1,2,3], [4,5,6]])\n",
    "arr3 = np.array([[[1, 2, 3], [4, 5, 6]], [[1, 2, 3], [4, 5, 6]]])\n",
    "\n",
    "print(np.size(arr0))\n",
    "print(np.size(arr1))\n",
    "print(np.size(arr2))\n",
    "print(np.size(arr3))"
   ]
  },
  {
   "cell_type": "markdown",
   "id": "8f09c77a",
   "metadata": {},
   "source": [
    "**np.shape:** Returns the shape of an input array."
   ]
  },
  {
   "cell_type": "code",
   "execution_count": null,
   "id": "aa33acb1",
   "metadata": {},
   "outputs": [],
   "source": [
    "print(np.shape(arr3))"
   ]
  },
  {
   "cell_type": "markdown",
   "id": "e253cce2",
   "metadata": {},
   "source": [
    "**array.reshape:** Reshapes an input array into a specified shape.  Note that the output array must have the same number of elements as the input array."
   ]
  },
  {
   "cell_type": "code",
   "execution_count": null,
   "id": "f470ea7d",
   "metadata": {},
   "outputs": [],
   "source": [
    "arr3new = arr3.reshape(1,1,12)\n",
    "print(arr3new)"
   ]
  },
  {
   "cell_type": "markdown",
   "id": "3a490e10",
   "metadata": {},
   "source": [
    "np.stack"
   ]
  },
  {
   "cell_type": "code",
   "execution_count": null,
   "id": "2e2d0776",
   "metadata": {},
   "outputs": [],
   "source": [
    "arr1 = np.array([ 1, 2, 3] )\n",
    "print (\"Input array: \\n\", arr1) \n",
    "  \n",
    "arr2 = np.array([ 4, 5, 6] )\n",
    "print (\"2nd Input array: \\n\", arr2) \n",
    "\n",
    "arr_hor = np.stack((arr1, arr2), axis = 0)\n",
    "print (\"Output stacked array along axis 0: \\n\", arr_hor)\n",
    "\n",
    "arr_ver = np.stack((arr1, arr2), axis = 1)\n",
    "print (\"Output stacked array along axis 1: \\n\", arr_ver)"
   ]
  },
  {
   "cell_type": "markdown",
   "id": "ddf33ed4",
   "metadata": {},
   "source": [
    "[Return to contents](#0.)\n",
    "\n",
    "<hr style=\"border:2px solid gray\">"
   ]
  },
  {
   "cell_type": "markdown",
   "id": "f6d3fcf2",
   "metadata": {},
   "source": [
    "## 6. `matplotlib` functions <a name=\"6.\"></a>\n",
    "\n",
    "<hr style=\"border:2px solid gray\">"
   ]
  },
  {
   "cell_type": "markdown",
   "id": "8d179a36",
   "metadata": {},
   "source": [
    "**plt.plot:** Plots the $2^{nd}$ input against the $1^{st}$ (i.e the $1^{st}$ input is $x$ whilst the $2^{nd}$ is $y$).  An optional $3^{rd}$ input is the format (`fmt`) with arguments `[marker]`, `[line]`, `[colour]`.  Must be followed up with `plt.show()` for the plot to render."
   ]
  },
  {
   "cell_type": "code",
   "execution_count": null,
   "id": "bd8c6d7e",
   "metadata": {},
   "outputs": [],
   "source": [
    "x = np.arange(-5,8,1)\n",
    "y = (x-1)**2\n",
    "\n",
    "plt.plot(x,y, marker = 'o', color = 'r')\n",
    "plt.show()"
   ]
  },
  {
   "cell_type": "markdown",
   "id": "60ce3a43",
   "metadata": {},
   "source": [
    "**plt.xlabel:** Assigns a label to the horizontal axis where the label is generated from a string input.  A `plt.ylabel` function also exists."
   ]
  },
  {
   "cell_type": "code",
   "execution_count": null,
   "id": "06da805b",
   "metadata": {},
   "outputs": [],
   "source": [
    "x = np.arange(-5,8,1)\n",
    "y = (x-1)**2\n",
    "\n",
    "plt.plot(x,y, marker = 'o', color = 'r')\n",
    "plt.xlabel('x-values')\n",
    "plt.show()"
   ]
  },
  {
   "cell_type": "markdown",
   "id": "b2d5b4fe",
   "metadata": {},
   "source": [
    "**plt.title:** Assigns a title to the plot where the label is generated from a string input."
   ]
  },
  {
   "cell_type": "code",
   "execution_count": null,
   "id": "3e4a9826",
   "metadata": {},
   "outputs": [],
   "source": [
    "x = np.arange(-5,8,1)\n",
    "y = (x-1)**2\n",
    "\n",
    "plt.plot(x,y, marker = 'o', color = 'r')\n",
    "plt.title('Positive quadratic')\n",
    "plt.show()"
   ]
  },
  {
   "cell_type": "markdown",
   "id": "86860c1d",
   "metadata": {},
   "source": [
    "**plt.errorbar:** Generates error bars for each datapoint from inputs `xerr` and `yerr`.  Said inputs can either be constant values, or externally defined arrays."
   ]
  },
  {
   "cell_type": "code",
   "execution_count": null,
   "id": "7ffe3699",
   "metadata": {},
   "outputs": [],
   "source": [
    "x = np.arange(-5,8,1)\n",
    "y = (x-1)**2\n",
    "\n",
    "x_error = np.linspace(0.5, 1, 13)\n",
    "y_error = np.linspace(0.5, 4, 13)\n",
    "\n",
    "plt.plot(x,y, marker = 'o', color = 'b')\n",
    "plt.errorbar(x, y, xerr = x_error, yerr = y_error, ecolor = 'g')\n",
    "plt.show()"
   ]
  },
  {
   "cell_type": "markdown",
   "id": "2a9358f8",
   "metadata": {},
   "source": [
    "**plt.xscale:**"
   ]
  },
  {
   "cell_type": "code",
   "execution_count": null,
   "id": "76ceb07a",
   "metadata": {},
   "outputs": [],
   "source": [
    "x = 10.0**np.linspace(0.0, 5.0, 15) \n",
    "y = x**2.0\n",
    "\n",
    "plt.plot(x,y)\n",
    "\n",
    "plt.xscale('log') \n",
    "plt.yscale('log')\n",
    "\n",
    "plt.show()"
   ]
  },
  {
   "cell_type": "markdown",
   "id": "ab2b017b",
   "metadata": {},
   "source": [
    "**plt.scatter:** Returns a scatter plot from input values."
   ]
  },
  {
   "cell_type": "code",
   "execution_count": null,
   "id": "2fc103aa",
   "metadata": {},
   "outputs": [],
   "source": [
    "x = np.random.randint(1,10, size = 10)\n",
    "y = np.random.randint(1,15,size = 10)\n",
    "\n",
    "plt.scatter(x, y)\n",
    "plt.show()"
   ]
  },
  {
   "cell_type": "markdown",
   "id": "3b575cb0",
   "metadata": {},
   "source": [
    "**col:** Colours datapoints depending on 'colour' value.  Colourmap can be selected from list included in `matplotlib`, and colourbar can also be generated."
   ]
  },
  {
   "cell_type": "code",
   "execution_count": null,
   "id": "a1ee0c26",
   "metadata": {},
   "outputs": [],
   "source": [
    "a = np.array([5,7,8,7,2,17,2,9,4,11,12,9,6])\n",
    "b = np.array([99,86,87,88,111,86,103,87,94,78,77,85,86])\n",
    "col = np.array([0,10,20,30,40,45,50,55,60,70,80,90,100])\n",
    "\n",
    "plt.scatter(a, b, c=col, cmap='Spectral')\n",
    "plt.colorbar()\n",
    "\n",
    "plt.show()"
   ]
  },
  {
   "cell_type": "markdown",
   "id": "4c68856c",
   "metadata": {},
   "source": [
    "plt.subplot (ALL OPTIONS, with plt.tight_layout)"
   ]
  },
  {
   "cell_type": "markdown",
   "id": "e00e92da",
   "metadata": {},
   "source": [
    "**plt.subplot:** Returns multiple plots (subplots).  $1^{st}$ input is number of rows, $2^{nd}$ is number of columns and $3^{rd}$ is index of subplot."
   ]
  },
  {
   "cell_type": "code",
   "execution_count": null,
   "id": "60ee5a19",
   "metadata": {},
   "outputs": [],
   "source": [
    "import matplotlib.pyplot as plt\n",
    "import numpy as np\n",
    "\n",
    "x = np.array([0,1,2,3])\n",
    "y = np.array([3,8,1,10])\n",
    "\n",
    "plt.subplot(2,1,1)\n",
    "plt.plot(x,y)\n",
    "\n",
    "x = np.array([0,1,2,3])\n",
    "y = np.array([10,20,30,40])\n",
    "\n",
    "plt.subplot(2,1,2)\n",
    "plt.plot(x,y)\n",
    "\n",
    "plt.show()"
   ]
  },
  {
   "cell_type": "markdown",
   "id": "964793f2",
   "metadata": {},
   "source": [
    "**plt.tight_layout:** Prevents subplot axes and title spaces from intersecting."
   ]
  },
  {
   "cell_type": "code",
   "execution_count": null,
   "id": "8ccc4f83",
   "metadata": {},
   "outputs": [],
   "source": [
    "import matplotlib.pyplot as plt\n",
    "import numpy as np\n",
    "\n",
    "x = np.array([0,1,2,3])\n",
    "y = np.array([3,8,1,10])\n",
    "\n",
    "plt.subplot(2,1,1)\n",
    "plt.plot(x,y,linestyle='--')\n",
    "\n",
    "plt.xlabel(\"x values\")\n",
    "plt.ylabel(\"y values\")\n",
    "plt.title(\"Plot 1\")\n",
    "\n",
    "x = np.array([0,1,2,3])\n",
    "y = np.array([10,20,30,40])\n",
    "\n",
    "plt.subplot(2,1,2)\n",
    "plt.plot(x,y,c='r')\n",
    "\n",
    "plt.xlabel(\"x values\")\n",
    "plt.ylabel(\"y values\")\n",
    "plt.title(\"Plot 2\")\n",
    "\n",
    "plt.tight_layout()\n",
    "plt.show()"
   ]
  },
  {
   "cell_type": "markdown",
   "id": "ec13a614",
   "metadata": {},
   "source": [
    "**plt.suptitle:** Adds title to entire group of subplots."
   ]
  },
  {
   "cell_type": "code",
   "execution_count": null,
   "id": "5fc7905b",
   "metadata": {},
   "outputs": [],
   "source": [
    "import matplotlib.pyplot as plt\n",
    "import numpy as np\n",
    "\n",
    "x = np.array([0,1,2,3])\n",
    "y = np.array([3,8,1,10])\n",
    "\n",
    "plt.subplot(2,1,1)\n",
    "plt.plot(x,y)\n",
    "\n",
    "plt.xlabel(\"x values\")\n",
    "plt.ylabel(\"y values\")\n",
    "plt.title(\"Plot 1\")\n",
    "\n",
    "x = np.array([0,1,2,3])\n",
    "y = np.array([10,20,30,40])\n",
    "\n",
    "plt.subplot(2,1,2)\n",
    "plt.plot(x,y)\n",
    "\n",
    "plt.xlabel(\"x values\")\n",
    "plt.ylabel(\"y values\")\n",
    "plt.title(\"Plot 2\")\n",
    "\n",
    "plt.suptitle(\"Subplot demonstration\")\n",
    "plt.tight_layout()\n",
    "plt.show()"
   ]
  },
  {
   "cell_type": "markdown",
   "id": "67d2633f",
   "metadata": {},
   "source": [
    "**plt.legend:** Generates a legend with lines labelled by colour."
   ]
  },
  {
   "cell_type": "code",
   "execution_count": null,
   "id": "37a47800",
   "metadata": {},
   "outputs": [],
   "source": [
    "x1 = np.array([0,1,2,3])\n",
    "y1 = np.array([3,8,1,10])\n",
    "x2 = np.array([0,1,2,3])\n",
    "y2 = np.array([6,16,2,20])\n",
    "\n",
    "plt.subplot(2,1,1)\n",
    "plt.plot(x1,y1, label=r'Line 1')\n",
    "plt.plot(x2,y2,c='r', label=r'Line 2')\n",
    "\n",
    "plt.xlabel(\"x values\")\n",
    "plt.ylabel(\"y values\")\n",
    "plt.title(\"Plot 1\")\n",
    "\n",
    "plt.legend()\n",
    "\n",
    "x1 = np.array([0,1,2,3])\n",
    "y1 = np.array([10,20,30,40])\n",
    "x2 = np.array([0,1,2,3])\n",
    "y2 = np.array([30,6,24,9])\n",
    "\n",
    "plt.subplot(2,1,2)\n",
    "plt.plot(x1,y1,c='g', label=r'Line 3')\n",
    "plt.plot(x2,y2,c='y', label=r'Line 4')\n",
    "\n",
    "plt.xlabel(\"x values\")\n",
    "plt.ylabel(\"y values\")\n",
    "plt.title(\"Plot 2\")\n",
    "\n",
    "plt.suptitle(\"Subplot demonstration\")\n",
    "plt.tight_layout()\n",
    "\n",
    "plt.legend()\n",
    "\n",
    "plt.show()"
   ]
  },
  {
   "cell_type": "markdown",
   "id": "ee9c89b2",
   "metadata": {},
   "source": [
    "**plt.bar:** Returns a bar chart.  Inputs are horizontal and vertical axis values."
   ]
  },
  {
   "cell_type": "code",
   "execution_count": null,
   "id": "df7d52bd",
   "metadata": {},
   "outputs": [],
   "source": [
    "x = np.array([\"A\",\"B\",\"C\",\"D\"])\n",
    "y = np.array([1,3,8,10])\n",
    "\n",
    "plt.bar(x,y)\n",
    "plt.show()"
   ]
  },
  {
   "cell_type": "markdown",
   "id": "887f5ddb",
   "metadata": {},
   "source": [
    "**plt.barh:** Returns a horizontal bar chart.  Same inputs as `plt.bar`."
   ]
  },
  {
   "cell_type": "code",
   "execution_count": null,
   "id": "414810f9",
   "metadata": {},
   "outputs": [],
   "source": [
    "x = np.array([\"A\", \"B\", \"C\", \"D\"])\n",
    "y = np.array([3, 8, 1, 10])\n",
    "\n",
    "plt.barh(x,y,0.1,0.1, color='r')\n",
    "plt.show()"
   ]
  },
  {
   "cell_type": "markdown",
   "id": "d9e63ffe",
   "metadata": {},
   "source": [
    "plt.hist (bins, edgecolour)"
   ]
  },
  {
   "cell_type": "markdown",
   "id": "8e33c627",
   "metadata": {},
   "source": [
    "**plt.hist:**  Returns a histogram.  $1^{st}$ input is data and $2^{nd}$ is data on bins.  Bin edges can be defined with an external list."
   ]
  },
  {
   "cell_type": "code",
   "execution_count": null,
   "id": "d7b55c26",
   "metadata": {},
   "outputs": [],
   "source": [
    "x = np.random.normal(170, 10, 250)\n",
    "\n",
    "binpos = [130, 135, 140, 145, 150, 155, 160, 165, 170, 175, 180, 185, 190, 195, 200]\n",
    "\n",
    "plt.hist(x, bins = binpos)\n",
    "plt.show()"
   ]
  },
  {
   "cell_type": "markdown",
   "id": "3ed50581",
   "metadata": {},
   "source": [
    "**edgecolor:** Highlights edges of each bin 'tower' with selected colour."
   ]
  },
  {
   "cell_type": "code",
   "execution_count": null,
   "id": "4214ecd9",
   "metadata": {},
   "outputs": [],
   "source": [
    "x = np.random.normal(170, 10, 250)\n",
    "\n",
    "binpos = [130, 135, 140, 145, 150, 155, 160, 165, 170, 175, 180, 185, 190, 195, 200]\n",
    "\n",
    "plt.hist(x, bins = binpos, edgecolor = \"black\")\n",
    "plt.show()"
   ]
  },
  {
   "cell_type": "markdown",
   "id": "f188771a",
   "metadata": {},
   "source": [
    "**plt.pie:** Returns a pie chart.  $1^{st}$ input is data, $2^{nd}$ is labels (given by external list) and $3^{rd}$ is starting angle (default ($0^{o}$) is positive, moves anticlockwise)."
   ]
  },
  {
   "cell_type": "code",
   "execution_count": null,
   "id": "9b34fddb",
   "metadata": {},
   "outputs": [],
   "source": [
    "x = np.array([35,25,25,15])\n",
    "labl = [\"A\",\"B\",\"C\",\"D\"]\n",
    "\n",
    "plt.pie(x,labels=labl, startangle = 90)\n",
    "plt.show()"
   ]
  },
  {
   "cell_type": "markdown",
   "id": "5fcf4e25",
   "metadata": {},
   "source": [
    "**explode:** Separates a specified segment of a pie chart.  Specified by external list."
   ]
  },
  {
   "cell_type": "code",
   "execution_count": null,
   "id": "bbb99f1c",
   "metadata": {},
   "outputs": [],
   "source": [
    "x = np.array([35,25,25,15])\n",
    "\n",
    "sep = [0.2,0,0,0]\n",
    "\n",
    "plt.pie(x, explode=sep)\n",
    "plt.show()"
   ]
  },
  {
   "cell_type": "markdown",
   "id": "77e23371",
   "metadata": {},
   "source": [
    "**colours:** Determines colour of each segment.  Specified by external list."
   ]
  },
  {
   "cell_type": "code",
   "execution_count": null,
   "id": "a6679f9f",
   "metadata": {},
   "outputs": [],
   "source": [
    "y = np.array([35, 25, 25, 15])\n",
    "labl = [\"A\",\"B\",\"C\",\"D\"]\n",
    "cols = [\"black\", \"hotpink\", \"b\", \"#4CAF50\"]\n",
    "\n",
    "plt.pie(y, labels = labl, colors = cols)\n",
    "plt.show()"
   ]
  },
  {
   "cell_type": "markdown",
   "id": "8487b410",
   "metadata": {},
   "source": [
    "[Return to contents](#0.)\n",
    "\n",
    "<hr style=\"border:2px solid gray\">"
   ]
  },
  {
   "cell_type": "markdown",
   "id": "4b011a46",
   "metadata": {},
   "source": [
    "## 7. Importing data <a name=\"7.\"></a>\n",
    "\n",
    "<hr style=\"border:2px solid gray\">"
   ]
  },
  {
   "cell_type": "markdown",
   "id": "3e5c7816",
   "metadata": {},
   "source": [
    "pandas.read_csv / head"
   ]
  },
  {
   "cell_type": "code",
   "execution_count": null,
   "id": "3ecce4b0",
   "metadata": {},
   "outputs": [],
   "source": []
  },
  {
   "cell_type": "code",
   "execution_count": null,
   "id": "b69d023b",
   "metadata": {},
   "outputs": [],
   "source": []
  },
  {
   "cell_type": "code",
   "execution_count": null,
   "id": "d0caa40f",
   "metadata": {},
   "outputs": [],
   "source": []
  },
  {
   "cell_type": "code",
   "execution_count": null,
   "id": "9eb47899",
   "metadata": {},
   "outputs": [],
   "source": []
  },
  {
   "cell_type": "code",
   "execution_count": null,
   "id": "5424d132",
   "metadata": {},
   "outputs": [],
   "source": []
  },
  {
   "cell_type": "code",
   "execution_count": null,
   "id": "4d3a8717",
   "metadata": {},
   "outputs": [],
   "source": []
  },
  {
   "cell_type": "markdown",
   "id": "d896e930",
   "metadata": {},
   "source": [
    "[Return to contents](#0.)\n",
    "\n",
    "<hr style=\"border:2px solid gray\">"
   ]
  },
  {
   "cell_type": "markdown",
   "id": "0668f845",
   "metadata": {},
   "source": [
    "## 8. `curve_fit` functions <a name=\"8.\"></a>\n",
    "\n",
    "<hr style=\"border:2px solid gray\">"
   ]
  },
  {
   "cell_type": "markdown",
   "id": "3f606ac8",
   "metadata": {},
   "source": [
    "curve_fit (with popt, pcov)"
   ]
  },
  {
   "cell_type": "code",
   "execution_count": null,
   "id": "3e9c3ca3",
   "metadata": {},
   "outputs": [],
   "source": []
  },
  {
   "cell_type": "code",
   "execution_count": null,
   "id": "1373f438",
   "metadata": {},
   "outputs": [],
   "source": []
  },
  {
   "cell_type": "code",
   "execution_count": null,
   "id": "24d6c2e3",
   "metadata": {},
   "outputs": [],
   "source": []
  },
  {
   "cell_type": "code",
   "execution_count": null,
   "id": "b9522d5e",
   "metadata": {},
   "outputs": [],
   "source": []
  },
  {
   "cell_type": "code",
   "execution_count": null,
   "id": "c926a784",
   "metadata": {},
   "outputs": [],
   "source": []
  },
  {
   "cell_type": "code",
   "execution_count": null,
   "id": "2da6cfe4",
   "metadata": {},
   "outputs": [],
   "source": []
  },
  {
   "cell_type": "markdown",
   "id": "ef3bd4ac",
   "metadata": {},
   "source": [
    "[Return to contents](#0.)\n",
    "\n",
    "<hr style=\"border:2px solid gray\">"
   ]
  }
 ],
 "metadata": {
  "kernelspec": {
   "display_name": "Python 3 (ipykernel)",
   "language": "python",
   "name": "python3"
  },
  "language_info": {
   "codemirror_mode": {
    "name": "ipython",
    "version": 3
   },
   "file_extension": ".py",
   "mimetype": "text/x-python",
   "name": "python",
   "nbconvert_exporter": "python",
   "pygments_lexer": "ipython3",
   "version": "3.7.6"
  }
 },
 "nbformat": 4,
 "nbformat_minor": 5
}
