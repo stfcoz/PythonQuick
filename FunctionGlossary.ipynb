{
 "cells": [
  {
   "cell_type": "markdown",
   "id": "b8e93ad3",
   "metadata": {},
   "source": [
    "# A glossary of useful functions <a name=\"0.\"></a>"
   ]
  },
  {
   "cell_type": "markdown",
   "id": "ca51a37f",
   "metadata": {},
   "source": []
  },
  {
   "cell_type": "markdown",
   "id": "1607d353",
   "metadata": {},
   "source": [
    "Below are the various modules that need to be imported; this way, there is no need to call them in later sections."
   ]
  },
  {
   "cell_type": "code",
   "execution_count": null,
   "id": "d5ed65c0",
   "metadata": {},
   "outputs": [],
   "source": [
    "import math\n",
    "import random\n",
    "import string\n",
    "import numpy as np\n",
    "import matplotlib.pyplot as plt\n",
    "import pandas\n",
    "from scipy.optimize import curve_fit"
   ]
  },
  {
   "cell_type": "markdown",
   "id": "feedc475",
   "metadata": {},
   "source": [
    "Contents:\n",
    "- [Inbuilt functions](#1.)\n",
    "- [`math` functions](#2.)\n",
    "- [`random` functions](#3.)\n",
    "- [`string` functions](#4.)\n",
    "- [`numpy` functions](#5.)\n",
    "- [`matplotlib` functions](#6.)\n",
    "- [Importing data](#7.)\n",
    "- [`curve_fit` functions](#8.)"
   ]
  },
  {
   "cell_type": "markdown",
   "id": "c48a9b50",
   "metadata": {},
   "source": [
    "## 1. Inbuilt functions <a name=\"1.\"></a>\n",
    "\n",
    "<hr style=\"border:2px solid gray\">"
   ]
  },
  {
   "cell_type": "markdown",
   "id": "f6d5172e",
   "metadata": {},
   "source": [
    "**print:** Displays item/s within bracket."
   ]
  },
  {
   "cell_type": "code",
   "execution_count": null,
   "id": "82d4c7be",
   "metadata": {},
   "outputs": [],
   "source": [
    "print(\"Shut up and take my money!\")"
   ]
  },
  {
   "cell_type": "markdown",
   "id": "2db208bf",
   "metadata": {},
   "source": [
    "**input:** Allows an input value to be entered manually once the code is run."
   ]
  },
  {
   "cell_type": "code",
   "execution_count": null,
   "id": "d959b301",
   "metadata": {},
   "outputs": [],
   "source": [
    "name = input(\"Enter your name: \")\n",
    "print(f\"{name} HAS ENTERED THE CHAT\")"
   ]
  },
  {
   "cell_type": "markdown",
   "id": "0e92371d",
   "metadata": {},
   "source": [
    "**append:** Adds a singular item to end of list."
   ]
  },
  {
   "cell_type": "code",
   "execution_count": null,
   "id": "cbd2e4e1",
   "metadata": {},
   "outputs": [],
   "source": [
    "tune = ['do', 're']\n",
    "tune.append('mi')\n",
    "print(tune)"
   ]
  },
  {
   "cell_type": "markdown",
   "id": "c705f13c",
   "metadata": {},
   "source": [
    "**len:** Returns the number of items in an object."
   ]
  },
  {
   "cell_type": "code",
   "execution_count": null,
   "id": "bd4f6789",
   "metadata": {},
   "outputs": [],
   "source": [
    "L = [1,2,3,4,5]\n",
    "len(L)"
   ]
  },
  {
   "cell_type": "markdown",
   "id": "eaeecf5b",
   "metadata": {},
   "source": [
    "**type:** Returns the class type of the input object."
   ]
  },
  {
   "cell_type": "code",
   "execution_count": null,
   "id": "b9248ca0",
   "metadata": {},
   "outputs": [],
   "source": [
    "a = ('do', 're', 'mi')\n",
    "b = \"Hello world!\"\n",
    "c = 33\n",
    "\n",
    "print(type(a),type(b),type(c))"
   ]
  },
  {
   "cell_type": "markdown",
   "id": "f7c0ee17",
   "metadata": {},
   "source": [
    "**round:** Rounds up $1^{st}$ input to order of $2^{nd}$ input."
   ]
  },
  {
   "cell_type": "code",
   "execution_count": null,
   "id": "313e6fc5",
   "metadata": {},
   "outputs": [],
   "source": [
    "x = round(3.1415926535, 2)\n",
    "print(x)"
   ]
  },
  {
   "cell_type": "markdown",
   "id": "8eb5bef7",
   "metadata": {},
   "source": [
    "**range:** Returns a range of numbers, starting at the $1^{st}$ argument, stopping at the $2^{nd}$ and incrementing by the $3^{rd}$."
   ]
  },
  {
   "cell_type": "code",
   "execution_count": null,
   "id": "c705e713",
   "metadata": {},
   "outputs": [],
   "source": [
    "n = range(1, 23, 2)\n",
    "for i in n:\n",
    "    print(i)"
   ]
  },
  {
   "cell_type": "markdown",
   "id": "f672dba8",
   "metadata": {},
   "source": [
    "**float:** Returns a floating-point number from a number or a string."
   ]
  },
  {
   "cell_type": "code",
   "execution_count": null,
   "id": "a3d04bf6",
   "metadata": {},
   "outputs": [],
   "source": [
    "integ = 25\n",
    "print(float(integ))"
   ]
  },
  {
   "cell_type": "markdown",
   "id": "713b8927",
   "metadata": {},
   "source": [
    "**int:** Converts the input value into an integer."
   ]
  },
  {
   "cell_type": "code",
   "execution_count": null,
   "id": "19ea56c5",
   "metadata": {},
   "outputs": [],
   "source": [
    "print(int(10.0))\n",
    "print(int(\"12\"))"
   ]
  },
  {
   "cell_type": "markdown",
   "id": "5505ad30",
   "metadata": {},
   "source": [
    "**list:** Creates a list from the input variable/s."
   ]
  },
  {
   "cell_type": "code",
   "execution_count": null,
   "id": "338de2ae",
   "metadata": {},
   "outputs": [],
   "source": [
    "L = list(('Phasers', 'to', 'stun'))\n",
    "print(L)"
   ]
  },
  {
   "cell_type": "markdown",
   "id": "909aef01",
   "metadata": {},
   "source": [
    "**str:** Converts input value into a string."
   ]
  },
  {
   "cell_type": "code",
   "execution_count": null,
   "id": "bddf3e83",
   "metadata": {},
   "outputs": [],
   "source": [
    "s = str(\"BFG\")\n",
    "print(s)"
   ]
  },
  {
   "cell_type": "markdown",
   "id": "efd8b087",
   "metadata": {},
   "source": [
    "[Return to contents](#0.)\n",
    "\n",
    "<hr style=\"border:2px solid gray\">"
   ]
  },
  {
   "cell_type": "markdown",
   "id": "6ecd2f9c",
   "metadata": {},
   "source": [
    "## 2. `math` functions <a name=\"2.\"></a>\n",
    "\n",
    "<hr style=\"border:2px solid gray\">"
   ]
  },
  {
   "cell_type": "markdown",
   "id": "e4d6aeb9",
   "metadata": {},
   "source": [
    "**math.sqrt:** Returns the square root of the input."
   ]
  },
  {
   "cell_type": "code",
   "execution_count": null,
   "id": "b79c2fe4",
   "metadata": {},
   "outputs": [],
   "source": [
    "sq = math.sqrt(19)\n",
    "print(sq)"
   ]
  },
  {
   "cell_type": "markdown",
   "id": "f8398636",
   "metadata": {},
   "source": [
    "**math.pi:** Returns a high-order approximation of the constant $\\pi$."
   ]
  },
  {
   "cell_type": "code",
   "execution_count": null,
   "id": "59078d4c",
   "metadata": {},
   "outputs": [],
   "source": [
    "pi = math.pi\n",
    "print(pi)\n",
    "print(2*pi)"
   ]
  },
  {
   "cell_type": "markdown",
   "id": "aae56ff5",
   "metadata": {},
   "source": [
    "**math.cos:** Returns the cosine of the input."
   ]
  },
  {
   "cell_type": "code",
   "execution_count": null,
   "id": "cba5d7a5",
   "metadata": {},
   "outputs": [],
   "source": [
    "cos = math.cos(3*pi)\n",
    "print(cos)"
   ]
  },
  {
   "cell_type": "markdown",
   "id": "8f049720",
   "metadata": {},
   "source": [
    "**math.sin:** Returns the sine of the input. [[[Check code cell]]]"
   ]
  },
  {
   "cell_type": "code",
   "execution_count": null,
   "id": "5bbf47e7",
   "metadata": {},
   "outputs": [],
   "source": [
    "sine = math.sin(pi)\n",
    "print(sine)"
   ]
  },
  {
   "cell_type": "markdown",
   "id": "36c5fcba",
   "metadata": {},
   "source": [
    "**math.e:** Returns a high-order approximation of the constant $e$."
   ]
  },
  {
   "cell_type": "code",
   "execution_count": null,
   "id": "d396a309",
   "metadata": {},
   "outputs": [],
   "source": [
    "e = math.e\n",
    "print(e)"
   ]
  },
  {
   "cell_type": "markdown",
   "id": "1bc4f7c7",
   "metadata": {},
   "source": [
    "**math.log:** Returns logarithm of $1^{st}$ input to base of $2^{nd}$.  Default is $e$."
   ]
  },
  {
   "cell_type": "code",
   "execution_count": null,
   "id": "5b54516c",
   "metadata": {},
   "outputs": [],
   "source": [
    "print(math.log(e))\n",
    "print(math.log(2))\n",
    "print(math.log(10,2))\n",
    "print(math.log(8,2))"
   ]
  },
  {
   "cell_type": "markdown",
   "id": "d2d1f617",
   "metadata": {},
   "source": [
    "**math.isclose:** Returns `True` if the $1^{st}$ and $2^{nd}$ inputs are close.  The $3^{rd}$ argument is the *relative tolerance*, the maximum allowed difference between both inputs.  Default value for the relative tolerance is $10^{-9}$."
   ]
  },
  {
   "cell_type": "code",
   "execution_count": null,
   "id": "000d8735",
   "metadata": {},
   "outputs": [],
   "source": [
    "print(math.isclose(8.005, 8.450, rel_tol = 0.02))\n",
    "print(math.isclose(8.005, 8.450, rel_tol = 0.5)) "
   ]
  },
  {
   "cell_type": "markdown",
   "id": "5d59ad95",
   "metadata": {},
   "source": [
    "[Return to contents](#0.)\n",
    "\n",
    "<hr style=\"border:2px solid gray\">"
   ]
  },
  {
   "cell_type": "markdown",
   "id": "0a8d9d5f",
   "metadata": {},
   "source": [
    "## 3. `random` functions <a name=\"3.\"></a>\n",
    "\n",
    "<hr style=\"border:2px solid gray\">"
   ]
  },
  {
   "cell_type": "markdown",
   "id": "3847dd32",
   "metadata": {},
   "source": [
    "**random.uniform:** Returns a random number between the $1^{st}$ and $2^{nd}$ inputs."
   ]
  },
  {
   "cell_type": "code",
   "execution_count": null,
   "id": "43a4c6f7",
   "metadata": {},
   "outputs": [],
   "source": [
    "print(random.uniform(20, 60))"
   ]
  },
  {
   "cell_type": "markdown",
   "id": "c39e4231",
   "metadata": {},
   "source": [
    "**random.sample:** Returns a random list of specified length ($2^{nd}$ input) from the $1^{st}$ input."
   ]
  },
  {
   "cell_type": "code",
   "execution_count": null,
   "id": "3a7a763e",
   "metadata": {},
   "outputs": [],
   "source": [
    "s1 = [1,2,3,4,5]\n",
    "print(random.sample(s1,3))"
   ]
  },
  {
   "cell_type": "markdown",
   "id": "05a5a2ce",
   "metadata": {},
   "source": [
    "**random.shuffle:** Returns a randomly shuffled list from the input."
   ]
  },
  {
   "cell_type": "code",
   "execution_count": null,
   "id": "7f4592e9",
   "metadata": {},
   "outputs": [],
   "source": [
    "s2 = ['A','B','C','D','E']\n",
    "random.shuffle(s2)\n",
    "print(s2)"
   ]
  },
  {
   "cell_type": "markdown",
   "id": "2d91dfd6",
   "metadata": {},
   "source": [
    "**random.randint:** Returns a random integer between the $s^{st}$ and $2^{nd}$ inputs."
   ]
  },
  {
   "cell_type": "code",
   "execution_count": null,
   "id": "ec80c2ef",
   "metadata": {},
   "outputs": [],
   "source": [
    "print(random.randint(2,22))"
   ]
  },
  {
   "cell_type": "markdown",
   "id": "8126accc",
   "metadata": {},
   "source": [
    "**np.random.normal:** Returns random values from a Gaussian distribution.  The $1^{st}$ input is the mean of the distribution, the $2^{nd}$ is the standard deviation of the distribution and the $3^{rd}$ is the size of the distribution."
   ]
  },
  {
   "cell_type": "code",
   "execution_count": null,
   "id": "d6d6b76e",
   "metadata": {},
   "outputs": [],
   "source": [
    "gss = np.random.normal(15,2,50)\n",
    "print(gss)"
   ]
  },
  {
   "cell_type": "markdown",
   "id": "cc7cbfe8",
   "metadata": {},
   "source": [
    "[Return to contents](#0.)\n",
    "\n",
    "<hr style=\"border:2px solid gray\">"
   ]
  },
  {
   "cell_type": "markdown",
   "id": "1c6e88fa",
   "metadata": {},
   "source": [
    "## 4. `string` functions <a name=\"4.\"></a>\n",
    "\n",
    "<hr style=\"border:2px solid gray\">"
   ]
  },
  {
   "cell_type": "markdown",
   "id": "db9a881d",
   "metadata": {},
   "source": [
    "**string.ascii_lowercase:** A string of lowercase letters used as a string constant."
   ]
  },
  {
   "cell_type": "code",
   "execution_count": null,
   "id": "78a28d7b",
   "metadata": {},
   "outputs": [],
   "source": [
    "print(string.ascii_lowercase)"
   ]
  },
  {
   "cell_type": "markdown",
   "id": "220e201b",
   "metadata": {},
   "source": [
    "**string.ascii_uppercase:** A string of uppercase letters used as a string constant."
   ]
  },
  {
   "cell_type": "code",
   "execution_count": null,
   "id": "695b6fbf",
   "metadata": {},
   "outputs": [],
   "source": [
    "print(string.ascii_uppercase)"
   ]
  },
  {
   "cell_type": "markdown",
   "id": "88a0c359",
   "metadata": {},
   "source": [
    "**string.digits:** A string of numerical characters used as a string constant."
   ]
  },
  {
   "cell_type": "code",
   "execution_count": null,
   "id": "440883ec",
   "metadata": {},
   "outputs": [],
   "source": [
    "print(string.digits)"
   ]
  },
  {
   "cell_type": "markdown",
   "id": "93c70c8e",
   "metadata": {},
   "source": [
    "**string.punctuation:** A string of punctuative characters used as a string constant."
   ]
  },
  {
   "cell_type": "code",
   "execution_count": null,
   "id": "2d1018d9",
   "metadata": {},
   "outputs": [],
   "source": [
    "print(string.punctuation)"
   ]
  },
  {
   "cell_type": "markdown",
   "id": "ae418e83",
   "metadata": {},
   "source": [
    "**string.join:** Joins all items in a tuple into a string, using the specified character as a separator."
   ]
  },
  {
   "cell_type": "code",
   "execution_count": null,
   "id": "ab3d135b",
   "metadata": {},
   "outputs": [],
   "source": [
    "myTuple = (\"Uno\", \"Dos\", \"Tres\")\n",
    "x = \"/\".join(myTuple)\n",
    "y = \"\".join(myTuple)\n",
    "\n",
    "print(x)\n",
    "print(y)"
   ]
  },
  {
   "cell_type": "markdown",
   "id": "ba85e5b4",
   "metadata": {},
   "source": [
    "**string.find:** Returns the index of first occurrence of the input."
   ]
  },
  {
   "cell_type": "code",
   "execution_count": null,
   "id": "b6a7dd0a",
   "metadata": {},
   "outputs": [],
   "source": [
    "txt = \"Would you kindly...\"\n",
    "x = txt.find(\"you\")\n",
    "print(x)"
   ]
  },
  {
   "cell_type": "markdown",
   "id": "b00112a8",
   "metadata": {},
   "source": [
    "[Return to contents](#0.)\n",
    "\n",
    "<hr style=\"border:2px solid gray\">"
   ]
  },
  {
   "cell_type": "markdown",
   "id": "d612ec6e",
   "metadata": {},
   "source": [
    "## 5. `numpy` functions <a name=\"5.\"></a>\n",
    "\n",
    "<hr style=\"border:2px solid gray\">"
   ]
  },
  {
   "cell_type": "markdown",
   "id": "a07a8aae",
   "metadata": {},
   "source": [
    "**np.sqrt:** Returns the square root of the input."
   ]
  },
  {
   "cell_type": "code",
   "execution_count": null,
   "id": "2d562743",
   "metadata": {},
   "outputs": [],
   "source": [
    "sq = np.sqrt(53)\n",
    "print(sq)"
   ]
  },
  {
   "cell_type": "markdown",
   "id": "51cc29de",
   "metadata": {},
   "source": [
    "**np.exp:** Returns the exponential of the input, which can be a sequenced data type."
   ]
  },
  {
   "cell_type": "code",
   "execution_count": null,
   "id": "6888e8cf",
   "metadata": {},
   "outputs": [],
   "source": [
    "print(np.exp(2))"
   ]
  },
  {
   "cell_type": "markdown",
   "id": "b2131d12",
   "metadata": {},
   "source": [
    "**np.pi:** Returns a high-order approximation of the constant $\\pi$."
   ]
  },
  {
   "cell_type": "code",
   "execution_count": null,
   "id": "b1178fd3",
   "metadata": {},
   "outputs": [],
   "source": [
    "pi = np.pi\n",
    "print(pi)"
   ]
  },
  {
   "cell_type": "markdown",
   "id": "3c3787fc",
   "metadata": {},
   "source": [
    "**np.linspace:** Returns an array beginning with the $1^{st}$ input, ending with the $2^{nd}$ and evenly spaced by the $3^{rd}$."
   ]
  },
  {
   "cell_type": "code",
   "execution_count": null,
   "id": "f2c64314",
   "metadata": {},
   "outputs": [],
   "source": [
    "print(np.linspace(1,2,9))"
   ]
  },
  {
   "cell_type": "markdown",
   "id": "56141985",
   "metadata": {},
   "source": [
    "**np.arange:** Returns an array beginning with the $1^{st}$ input, ending with the $2^{nd}$ and evenly spaced by the $3^{rd}$.  With a single input, the input is taken to be the stop value whilst the start value is taken to be $0$ and the step value to be $1$."
   ]
  },
  {
   "cell_type": "code",
   "execution_count": null,
   "id": "201af05a",
   "metadata": {},
   "outputs": [],
   "source": [
    "print(np.arange(4,20,3))"
   ]
  },
  {
   "cell_type": "markdown",
   "id": "3a2e4a4f",
   "metadata": {},
   "source": [
    "**np.array (with ndmin option):** Returns an array of the input elements in the given order."
   ]
  },
  {
   "cell_type": "code",
   "execution_count": null,
   "id": "0ea3dd06",
   "metadata": {},
   "outputs": [],
   "source": [
    "D0 = np.array(1)\n",
    "D1 = np.array([1, 2, 3, 4, 5])\n",
    "D2 = np.array([[1, 2, 3], [4, 5, 6]])\n",
    "D3 = np.array([[[1, 2, 3], [4, 5, 6]], [[1, 2, 3], [4, 5, 6]]])\n",
    "\n",
    "print(D0)\n",
    "print(D1)\n",
    "print(D2)\n",
    "print(D3)"
   ]
  },
  {
   "cell_type": "markdown",
   "id": "35b701b7",
   "metadata": {},
   "source": [
    "**ndmin:** Specifies the dimensions of an array before generation."
   ]
  },
  {
   "cell_type": "code",
   "execution_count": null,
   "id": "f880ff27",
   "metadata": {},
   "outputs": [],
   "source": [
    "arr = np.array([1, 2, 3, 4], ndmin=4)\n",
    "print(arr)"
   ]
  },
  {
   "cell_type": "markdown",
   "id": "8eca87e8",
   "metadata": {},
   "source": [
    "**array.ndim:** Returns the dimension of the array."
   ]
  },
  {
   "cell_type": "code",
   "execution_count": null,
   "id": "166e349a",
   "metadata": {},
   "outputs": [],
   "source": [
    "print(D0.ndim)\n",
    "print(D1.ndim)\n",
    "print(D2.ndim)\n",
    "print(D3.ndim)\n",
    "print(arr.ndim)"
   ]
  },
  {
   "cell_type": "markdown",
   "id": "ec7dbffd",
   "metadata": {},
   "source": [
    "**np.size:** Gives the product of the number of elements along each axis of an array."
   ]
  },
  {
   "cell_type": "code",
   "execution_count": null,
   "id": "1faf8dd6",
   "metadata": {},
   "outputs": [],
   "source": [
    "arr0 = np.array([1])\n",
    "arr1 = np.array([1,2,3])\n",
    "arr2 = np.array([[1,2,3], [4,5,6]])\n",
    "arr3 = np.array([[[1, 2, 3], [4, 5, 6]], [[1, 2, 3], [4, 5, 6]]])\n",
    "\n",
    "print(np.size(arr0))\n",
    "print(np.size(arr1))\n",
    "print(np.size(arr2))\n",
    "print(np.size(arr3))"
   ]
  },
  {
   "cell_type": "markdown",
   "id": "40f5e77a",
   "metadata": {},
   "source": [
    "**np.shape:** Returns the shape of an input array."
   ]
  },
  {
   "cell_type": "code",
   "execution_count": null,
   "id": "14c48ffa",
   "metadata": {},
   "outputs": [],
   "source": [
    "print(np.shape(arr3))"
   ]
  },
  {
   "cell_type": "markdown",
   "id": "ca61a7e1",
   "metadata": {},
   "source": [
    "**array.reshape:** Reshapes an input array into a specified shape.  Note that the output array must have the same number of elements as the input array."
   ]
  },
  {
   "cell_type": "code",
   "execution_count": null,
   "id": "fb09b8b3",
   "metadata": {},
   "outputs": [],
   "source": [
    "arr3new = arr3.reshape(1,1,12)\n",
    "print(arr3new)"
   ]
  },
  {
   "cell_type": "markdown",
   "id": "a2e613f6",
   "metadata": {},
   "source": [
    "np.stack"
   ]
  },
  {
   "cell_type": "code",
   "execution_count": null,
   "id": "92e50260",
   "metadata": {},
   "outputs": [],
   "source": [
    "arr1 = np.array([ 1, 2, 3] )\n",
    "print (\"Input array: \\n\", arr1) \n",
    "  \n",
    "arr2 = np.array([ 4, 5, 6] )\n",
    "print (\"2nd Input array: \\n\", arr2) \n",
    "\n",
    "arr_hor = np.stack((arr1, arr2), axis = 0)\n",
    "print (\"Output stacked array along axis 0: \\n\", arr_hor)\n",
    "\n",
    "arr_ver = np.stack((arr1, arr2), axis = 1)\n",
    "print (\"Output stacked array along axis 1: \\n\", arr_ver)"
   ]
  },
  {
   "cell_type": "markdown",
   "id": "6f29d648",
   "metadata": {},
   "source": [
    "[Return to contents](#0.)\n",
    "\n",
    "<hr style=\"border:2px solid gray\">"
   ]
  },
  {
   "cell_type": "markdown",
   "id": "3a7ba10a",
   "metadata": {},
   "source": [
    "## 6. `matplotlib` functions <a name=\"6.\"></a>\n",
    "\n",
    "<hr style=\"border:2px solid gray\">"
   ]
  },
  {
   "cell_type": "markdown",
   "id": "26c764c1",
   "metadata": {},
   "source": [
    "plt.plot / plt.show / plt.xlabel / plt.title / plt.errorbar / plt.xscale / plt.grid? / plt.scatter / colormap options / plt.subplot (ALL OPTIONS, with plt.tight_layout) / plt.suptitle / plt.legend / plt.bar/ plt.barh / plt.hist (bins, edgecolour) / plt.pie (startangle, explode)"
   ]
  },
  {
   "cell_type": "code",
   "execution_count": null,
   "id": "7f8abe3f",
   "metadata": {},
   "outputs": [],
   "source": []
  },
  {
   "cell_type": "code",
   "execution_count": null,
   "id": "915a98c9",
   "metadata": {},
   "outputs": [],
   "source": []
  },
  {
   "cell_type": "code",
   "execution_count": null,
   "id": "011aa127",
   "metadata": {},
   "outputs": [],
   "source": []
  },
  {
   "cell_type": "code",
   "execution_count": null,
   "id": "1bb60e48",
   "metadata": {},
   "outputs": [],
   "source": []
  },
  {
   "cell_type": "code",
   "execution_count": null,
   "id": "2c80a8ab",
   "metadata": {},
   "outputs": [],
   "source": []
  },
  {
   "cell_type": "code",
   "execution_count": null,
   "id": "6b21108d",
   "metadata": {},
   "outputs": [],
   "source": []
  },
  {
   "cell_type": "markdown",
   "id": "236d2fea",
   "metadata": {},
   "source": [
    "[Return to contents](#0.)\n",
    "\n",
    "<hr style=\"border:2px solid gray\">"
   ]
  },
  {
   "cell_type": "markdown",
   "id": "59afcce5",
   "metadata": {},
   "source": [
    "## 7. Importing data <a name=\"7.\"></a>\n",
    "\n",
    "<hr style=\"border:2px solid gray\">"
   ]
  },
  {
   "cell_type": "markdown",
   "id": "82c983ab",
   "metadata": {},
   "source": [
    "pandas.read_csv / head"
   ]
  },
  {
   "cell_type": "code",
   "execution_count": null,
   "id": "bc509810",
   "metadata": {},
   "outputs": [],
   "source": []
  },
  {
   "cell_type": "code",
   "execution_count": null,
   "id": "faa48164",
   "metadata": {},
   "outputs": [],
   "source": []
  },
  {
   "cell_type": "code",
   "execution_count": null,
   "id": "70bca3f8",
   "metadata": {},
   "outputs": [],
   "source": []
  },
  {
   "cell_type": "code",
   "execution_count": null,
   "id": "e82a611c",
   "metadata": {},
   "outputs": [],
   "source": []
  },
  {
   "cell_type": "code",
   "execution_count": null,
   "id": "a2a099b1",
   "metadata": {},
   "outputs": [],
   "source": []
  },
  {
   "cell_type": "code",
   "execution_count": null,
   "id": "b8b07fef",
   "metadata": {},
   "outputs": [],
   "source": []
  },
  {
   "cell_type": "markdown",
   "id": "326b1311",
   "metadata": {},
   "source": [
    "[Return to contents](#0.)\n",
    "\n",
    "<hr style=\"border:2px solid gray\">"
   ]
  },
  {
   "cell_type": "markdown",
   "id": "ba02b1c8",
   "metadata": {},
   "source": [
    "## 8. `curve_fit` functions <a name=\"8.\"></a>\n",
    "\n",
    "<hr style=\"border:2px solid gray\">"
   ]
  },
  {
   "cell_type": "markdown",
   "id": "04ac225f",
   "metadata": {},
   "source": [
    "curve_fit (with popt, pcov)"
   ]
  },
  {
   "cell_type": "code",
   "execution_count": null,
   "id": "6ffa0029",
   "metadata": {},
   "outputs": [],
   "source": []
  },
  {
   "cell_type": "code",
   "execution_count": null,
   "id": "a6da7469",
   "metadata": {},
   "outputs": [],
   "source": []
  },
  {
   "cell_type": "code",
   "execution_count": null,
   "id": "7b41d5ca",
   "metadata": {},
   "outputs": [],
   "source": []
  },
  {
   "cell_type": "code",
   "execution_count": null,
   "id": "5b37cfd5",
   "metadata": {},
   "outputs": [],
   "source": []
  },
  {
   "cell_type": "code",
   "execution_count": null,
   "id": "d5451ad9",
   "metadata": {},
   "outputs": [],
   "source": []
  },
  {
   "cell_type": "code",
   "execution_count": null,
   "id": "b6a47f71",
   "metadata": {},
   "outputs": [],
   "source": []
  },
  {
   "cell_type": "markdown",
   "id": "ab4e8009",
   "metadata": {},
   "source": [
    "[Return to contents](#0.)\n",
    "\n",
    "<hr style=\"border:2px solid gray\">"
   ]
  }
 ],
 "metadata": {
  "kernelspec": {
   "display_name": "Python 3 (ipykernel)",
   "language": "python",
   "name": "python3"
  },
  "language_info": {
   "codemirror_mode": {
    "name": "ipython",
    "version": 3
   },
   "file_extension": ".py",
   "mimetype": "text/x-python",
   "name": "python",
   "nbconvert_exporter": "python",
   "pygments_lexer": "ipython3",
   "version": "3.7.6"
  }
 },
 "nbformat": 4,
 "nbformat_minor": 5
}
