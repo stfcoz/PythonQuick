{
 "cells": [
  {
   "cell_type": "markdown",
   "id": "0222c8eb",
   "metadata": {},
   "source": [
    "# A glossary of useful functions <a name=\"0.\"></a>"
   ]
  },
  {
   "cell_type": "markdown",
   "id": "47b22355",
   "metadata": {},
   "source": []
  },
  {
   "cell_type": "markdown",
   "id": "c3ea2d6c",
   "metadata": {},
   "source": [
    "Below are the various modules that need to be imported; this way, there is no need to call them in later sections."
   ]
  },
  {
   "cell_type": "code",
   "execution_count": null,
   "id": "54a6590b",
   "metadata": {},
   "outputs": [],
   "source": [
    "import math\n",
    "import random\n",
    "import string\n",
    "import matplotlib.pyplot as plt\n",
    "import pandas\n",
    "from scipy.optimize import curve_fit"
   ]
  },
  {
   "cell_type": "markdown",
   "id": "d46834b3",
   "metadata": {},
   "source": [
    "Contents:\n",
    "- [Inbuilt functions](#1.)\n",
    "- [`math` functions](#2.)\n",
    "- [`random` functions](#3.)\n",
    "- [`string` functions](#4.)\n",
    "- [`numpy` functions](#5.)\n",
    "- [`matplotlib` functions](#6.)\n",
    "- [Importing data](#7.)\n",
    "- [`curve_fit` functions](#8.)"
   ]
  },
  {
   "cell_type": "markdown",
   "id": "b470d1f1",
   "metadata": {},
   "source": [
    "## 1. Inbuilt functions <a name=\"1.\"></a>\n",
    "\n",
    "<hr style=\"border:2px solid gray\">"
   ]
  },
  {
   "cell_type": "markdown",
   "id": "a0b48be5",
   "metadata": {},
   "source": [
    "**print:** Displays item/s within bracket."
   ]
  },
  {
   "cell_type": "code",
   "execution_count": null,
   "id": "b18adfa7",
   "metadata": {},
   "outputs": [],
   "source": [
    "print(\"Shut up and take my money!\")"
   ]
  },
  {
   "cell_type": "markdown",
   "id": "0e6e24ca",
   "metadata": {},
   "source": [
    "**input:** Allows an input value to be entered manually once the code is run."
   ]
  },
  {
   "cell_type": "code",
   "execution_count": null,
   "id": "4bcc2fcf",
   "metadata": {},
   "outputs": [],
   "source": [
    "name = input(\"Enter your name: \")\n",
    "print(f\"{name} HAS ENTERED THE CHAT\")"
   ]
  },
  {
   "cell_type": "markdown",
   "id": "0e041d7d",
   "metadata": {},
   "source": [
    "**append:** Adds a singular item to end of list."
   ]
  },
  {
   "cell_type": "code",
   "execution_count": null,
   "id": "e2a97e9b",
   "metadata": {},
   "outputs": [],
   "source": [
    "tune = ['do', 're']\n",
    "tune.append('mi')\n",
    "print(tune)"
   ]
  },
  {
   "cell_type": "markdown",
   "id": "d5de4e63",
   "metadata": {},
   "source": [
    "**len:** Returns the number of items in an object."
   ]
  },
  {
   "cell_type": "code",
   "execution_count": null,
   "id": "6199b5fa",
   "metadata": {},
   "outputs": [],
   "source": [
    "L = [1,2,3,4,5]\n",
    "len(L)"
   ]
  },
  {
   "cell_type": "markdown",
   "id": "f2f0a55a",
   "metadata": {},
   "source": [
    "**type:** Returns the class type of the input object."
   ]
  },
  {
   "cell_type": "code",
   "execution_count": null,
   "id": "fa74a22a",
   "metadata": {},
   "outputs": [],
   "source": [
    "a = ('do', 're', 'mi')\n",
    "b = \"Hello world!\"\n",
    "c = 33\n",
    "\n",
    "print(type(a),type(b),type(c))"
   ]
  },
  {
   "cell_type": "markdown",
   "id": "ef4a44bf",
   "metadata": {},
   "source": [
    "**round:** Rounds up $1^{st}$ input to order of $2^{nd}$ input."
   ]
  },
  {
   "cell_type": "code",
   "execution_count": null,
   "id": "f4315c12",
   "metadata": {},
   "outputs": [],
   "source": [
    "x = round(3.1415926535, 2)\n",
    "print(x)"
   ]
  },
  {
   "cell_type": "markdown",
   "id": "85974fbe",
   "metadata": {},
   "source": [
    "**range:** Returns a range of numbers, starting at the $1^{st}$ argument, stopping at the $2^{nd}$ and incrementing by the $3^{rd}$."
   ]
  },
  {
   "cell_type": "code",
   "execution_count": null,
   "id": "7e3941f4",
   "metadata": {},
   "outputs": [],
   "source": [
    "n = range(1, 23, 2)\n",
    "for i in n:\n",
    "    print(i)"
   ]
  },
  {
   "cell_type": "markdown",
   "id": "44ead02d",
   "metadata": {},
   "source": [
    "**float:** Returns a floating-point number from a number or a string."
   ]
  },
  {
   "cell_type": "code",
   "execution_count": null,
   "id": "9b0cb9c6",
   "metadata": {},
   "outputs": [],
   "source": [
    "integ = 25\n",
    "print(float(integ))"
   ]
  },
  {
   "cell_type": "markdown",
   "id": "718c13e2",
   "metadata": {},
   "source": [
    "**int:** Converts the input value into an integer."
   ]
  },
  {
   "cell_type": "code",
   "execution_count": null,
   "id": "6744a8ed",
   "metadata": {},
   "outputs": [],
   "source": [
    "print(int(10.0))\n",
    "print(int(\"12\"))"
   ]
  },
  {
   "cell_type": "markdown",
   "id": "47377047",
   "metadata": {},
   "source": [
    "**list:** Creates a list from the input variable/s."
   ]
  },
  {
   "cell_type": "code",
   "execution_count": null,
   "id": "09743572",
   "metadata": {},
   "outputs": [],
   "source": [
    "L = list(('Phasers', 'to', 'stun'))\n",
    "print(L)"
   ]
  },
  {
   "cell_type": "markdown",
   "id": "2589a8fa",
   "metadata": {},
   "source": [
    "**str:** Converts input value into a string."
   ]
  },
  {
   "cell_type": "code",
   "execution_count": null,
   "id": "286269b2",
   "metadata": {},
   "outputs": [],
   "source": [
    "s = str(\"BFG\")\n",
    "print(s)"
   ]
  },
  {
   "cell_type": "markdown",
   "id": "e03ae86c",
   "metadata": {},
   "source": [
    "[Return to contents](#0.)\n",
    "\n",
    "<hr style=\"border:2px solid gray\">"
   ]
  },
  {
   "cell_type": "markdown",
   "id": "f5690d91",
   "metadata": {},
   "source": [
    "## 2. `math` functions <a name=\"2.\"></a>\n",
    "\n",
    "<hr style=\"border:2px solid gray\">"
   ]
  },
  {
   "cell_type": "markdown",
   "id": "447fef09",
   "metadata": {},
   "source": [
    "**math.sqrt:** Returns the square root of the input."
   ]
  },
  {
   "cell_type": "code",
   "execution_count": null,
   "id": "f2324922",
   "metadata": {},
   "outputs": [],
   "source": [
    "sq = math.sqrt(19)\n",
    "print(sq)"
   ]
  },
  {
   "cell_type": "markdown",
   "id": "a2630c58",
   "metadata": {},
   "source": [
    "**math.pi:** Returns a high-order approximation of the constant $\\pi$."
   ]
  },
  {
   "cell_type": "code",
   "execution_count": null,
   "id": "540e3db8",
   "metadata": {},
   "outputs": [],
   "source": [
    "pi = math.pi\n",
    "print(pi)\n",
    "print(2*pi)"
   ]
  },
  {
   "cell_type": "markdown",
   "id": "fe316a7e",
   "metadata": {},
   "source": [
    "**math.cos:** Returns the cosine of the input."
   ]
  },
  {
   "cell_type": "code",
   "execution_count": null,
   "id": "bd947257",
   "metadata": {},
   "outputs": [],
   "source": [
    "cos = math.cos(3*pi)\n",
    "print(cos)"
   ]
  },
  {
   "cell_type": "markdown",
   "id": "a3124779",
   "metadata": {},
   "source": [
    "**math.sin:** Returns the sine of the input. [[[Check code cell]]]"
   ]
  },
  {
   "cell_type": "code",
   "execution_count": null,
   "id": "e083cb12",
   "metadata": {},
   "outputs": [],
   "source": [
    "sine = math.sin(pi)\n",
    "print(sine)"
   ]
  },
  {
   "cell_type": "markdown",
   "id": "db21fb0b",
   "metadata": {},
   "source": [
    "**math.e:** Returns a high-order approximation of the constant $e$."
   ]
  },
  {
   "cell_type": "code",
   "execution_count": null,
   "id": "d2b206e2",
   "metadata": {},
   "outputs": [],
   "source": [
    "e = math.e\n",
    "print(e)"
   ]
  },
  {
   "cell_type": "markdown",
   "id": "0a01b641",
   "metadata": {},
   "source": [
    "**math.log:** Returns logarithm of $1^{st}$ input to base of $2^{nd}$.  Default is $e$."
   ]
  },
  {
   "cell_type": "code",
   "execution_count": null,
   "id": "c5c805f9",
   "metadata": {},
   "outputs": [],
   "source": [
    "print(math.log(e))\n",
    "print(math.log(2))\n",
    "print(math.log(10,2))\n",
    "print(math.log(8,2))"
   ]
  },
  {
   "cell_type": "markdown",
   "id": "bbbf879e",
   "metadata": {},
   "source": [
    "**math.isclose:** Returns `True` if the $1^{st}$ and $2^{nd}$ inputs are close.  The $3^{rd}$ argument is the *relative tolerance*, the maximum allowed difference between both inputs.  Default value for the relative tolerance is $10^{-9}$."
   ]
  },
  {
   "cell_type": "code",
   "execution_count": null,
   "id": "721b668c",
   "metadata": {},
   "outputs": [],
   "source": [
    "print(math.isclose(8.005, 8.450, rel_tol = 0.02))\n",
    "print(math.isclose(8.005, 8.450, rel_tol = 0.5)) "
   ]
  },
  {
   "cell_type": "markdown",
   "id": "76cf458a",
   "metadata": {},
   "source": [
    "[Return to contents](#0.)\n",
    "\n",
    "<hr style=\"border:2px solid gray\">"
   ]
  },
  {
   "cell_type": "markdown",
   "id": "5fc39e94",
   "metadata": {},
   "source": [
    "## 3. `random` functions <a name=\"3.\"></a>\n",
    "\n",
    "<hr style=\"border:2px solid gray\">"
   ]
  },
  {
   "cell_type": "markdown",
   "id": "cf825cac",
   "metadata": {},
   "source": [
    "**random.uniform:** Returns a random number between the $1^{st}$ and $2^{nd}$ inputs."
   ]
  },
  {
   "cell_type": "code",
   "execution_count": null,
   "id": "14f43384",
   "metadata": {},
   "outputs": [],
   "source": [
    "print(random.uniform(20, 60))"
   ]
  },
  {
   "cell_type": "markdown",
   "id": "a7915e6a",
   "metadata": {},
   "source": [
    "**random.sample:** Returns a random list of specified length ($2^{nd}$ input) from the $1^{st}$ input."
   ]
  },
  {
   "cell_type": "code",
   "execution_count": null,
   "id": "6d184616",
   "metadata": {},
   "outputs": [],
   "source": [
    "s1 = [1,2,3,4,5]\n",
    "print(random.sample(s1,3))"
   ]
  },
  {
   "cell_type": "markdown",
   "id": "e9914e6e",
   "metadata": {},
   "source": [
    "**random.shuffle:** Returns a randomly shuffled list from the input."
   ]
  },
  {
   "cell_type": "code",
   "execution_count": null,
   "id": "34ff67ac",
   "metadata": {},
   "outputs": [],
   "source": [
    "s2 = ['A','B','C','D','E']\n",
    "random.shuffle(s2)\n",
    "print(s2)"
   ]
  },
  {
   "cell_type": "markdown",
   "id": "c7cdbd68",
   "metadata": {},
   "source": [
    "**random.randint:** Returns a random integer between the $s^{st}$ and $2^{nd}$ inputs."
   ]
  },
  {
   "cell_type": "code",
   "execution_count": null,
   "id": "cfc28b3f",
   "metadata": {},
   "outputs": [],
   "source": [
    "print(random.randint(2,22))"
   ]
  },
  {
   "cell_type": "markdown",
   "id": "2a855521",
   "metadata": {},
   "source": [
    "[Return to contents](#0.)\n",
    "\n",
    "<hr style=\"border:2px solid gray\">"
   ]
  },
  {
   "cell_type": "markdown",
   "id": "84ce148e",
   "metadata": {},
   "source": [
    "## 4. `string` functions <a name=\"4.\"></a>\n",
    "\n",
    "<hr style=\"border:2px solid gray\">"
   ]
  },
  {
   "cell_type": "markdown",
   "id": "e35101be",
   "metadata": {},
   "source": [
    "string.ascii_letters / string.ascii_uppercase / string.digits / string.punctuation / string.join / string.find"
   ]
  },
  {
   "cell_type": "code",
   "execution_count": null,
   "id": "887958f0",
   "metadata": {},
   "outputs": [],
   "source": []
  },
  {
   "cell_type": "code",
   "execution_count": null,
   "id": "9178a67a",
   "metadata": {},
   "outputs": [],
   "source": []
  },
  {
   "cell_type": "code",
   "execution_count": null,
   "id": "cba64c7e",
   "metadata": {},
   "outputs": [],
   "source": []
  },
  {
   "cell_type": "code",
   "execution_count": null,
   "id": "74fabda4",
   "metadata": {},
   "outputs": [],
   "source": []
  },
  {
   "cell_type": "code",
   "execution_count": null,
   "id": "e46dad52",
   "metadata": {},
   "outputs": [],
   "source": []
  },
  {
   "cell_type": "code",
   "execution_count": null,
   "id": "690d7996",
   "metadata": {},
   "outputs": [],
   "source": []
  },
  {
   "cell_type": "markdown",
   "id": "ba885109",
   "metadata": {},
   "source": [
    "[Return to contents](#0.)\n",
    "\n",
    "<hr style=\"border:2px solid gray\">"
   ]
  },
  {
   "cell_type": "markdown",
   "id": "397023a2",
   "metadata": {},
   "source": [
    "## 5. `numpy` functions <a name=\"5.\"></a>\n",
    "\n",
    "<hr style=\"border:2px solid gray\">"
   ]
  },
  {
   "cell_type": "markdown",
   "id": "b6b30906",
   "metadata": {},
   "source": [
    "np.sqrt / np.exp / np.pi / np.linspace / np.arange / np.array (with ndmin option) / np.size / np.shape / arrayname.ndim / arrayname.reshape/ np.stack / np.random.normal"
   ]
  },
  {
   "cell_type": "code",
   "execution_count": null,
   "id": "59391e74",
   "metadata": {},
   "outputs": [],
   "source": []
  },
  {
   "cell_type": "code",
   "execution_count": null,
   "id": "f874eb81",
   "metadata": {},
   "outputs": [],
   "source": []
  },
  {
   "cell_type": "code",
   "execution_count": null,
   "id": "2dbf6b85",
   "metadata": {},
   "outputs": [],
   "source": []
  },
  {
   "cell_type": "code",
   "execution_count": null,
   "id": "7a719a51",
   "metadata": {},
   "outputs": [],
   "source": []
  },
  {
   "cell_type": "code",
   "execution_count": null,
   "id": "7effb22c",
   "metadata": {},
   "outputs": [],
   "source": []
  },
  {
   "cell_type": "code",
   "execution_count": null,
   "id": "d27efacb",
   "metadata": {},
   "outputs": [],
   "source": []
  },
  {
   "cell_type": "markdown",
   "id": "b2101883",
   "metadata": {},
   "source": [
    "[Return to contents](#0.)\n",
    "\n",
    "<hr style=\"border:2px solid gray\">"
   ]
  },
  {
   "cell_type": "markdown",
   "id": "6864e4fc",
   "metadata": {},
   "source": [
    "## 6. `matplotlib` functions <a name=\"6.\"></a>\n",
    "\n",
    "<hr style=\"border:2px solid gray\">"
   ]
  },
  {
   "cell_type": "markdown",
   "id": "20325e76",
   "metadata": {},
   "source": [
    "plt.plot / plt.show / plt.xlabel / plt.title / plt.errorbar / plt.xscale / plt.grid? / plt.scatter / colormap options / plt.subplot (ALL OPTIONS, with plt.tight_layout) / plt.suptitle / plt.legend / plt.bar/ plt.barh / plt.hist (bins, edgecolour) / plt.pie"
   ]
  },
  {
   "cell_type": "code",
   "execution_count": null,
   "id": "69a423f2",
   "metadata": {},
   "outputs": [],
   "source": []
  },
  {
   "cell_type": "code",
   "execution_count": null,
   "id": "0c83e91b",
   "metadata": {},
   "outputs": [],
   "source": []
  },
  {
   "cell_type": "code",
   "execution_count": null,
   "id": "44350925",
   "metadata": {},
   "outputs": [],
   "source": []
  },
  {
   "cell_type": "code",
   "execution_count": null,
   "id": "37aae86e",
   "metadata": {},
   "outputs": [],
   "source": []
  },
  {
   "cell_type": "code",
   "execution_count": null,
   "id": "126a7d6c",
   "metadata": {},
   "outputs": [],
   "source": []
  },
  {
   "cell_type": "code",
   "execution_count": null,
   "id": "e24fb2a2",
   "metadata": {},
   "outputs": [],
   "source": []
  },
  {
   "cell_type": "markdown",
   "id": "f201dd01",
   "metadata": {},
   "source": [
    "[Return to contents](#0.)\n",
    "\n",
    "<hr style=\"border:2px solid gray\">"
   ]
  },
  {
   "cell_type": "markdown",
   "id": "e9a9dada",
   "metadata": {},
   "source": [
    "## 7. Importing data <a name=\"7.\"></a>\n",
    "\n",
    "<hr style=\"border:2px solid gray\">"
   ]
  },
  {
   "cell_type": "markdown",
   "id": "032e0d2c",
   "metadata": {},
   "source": [
    "pandas.read_csv / head"
   ]
  },
  {
   "cell_type": "code",
   "execution_count": null,
   "id": "9bc0fa7c",
   "metadata": {},
   "outputs": [],
   "source": []
  },
  {
   "cell_type": "code",
   "execution_count": null,
   "id": "75c86cdb",
   "metadata": {},
   "outputs": [],
   "source": []
  },
  {
   "cell_type": "code",
   "execution_count": null,
   "id": "270c788e",
   "metadata": {},
   "outputs": [],
   "source": []
  },
  {
   "cell_type": "code",
   "execution_count": null,
   "id": "8b72bad4",
   "metadata": {},
   "outputs": [],
   "source": []
  },
  {
   "cell_type": "code",
   "execution_count": null,
   "id": "fee3f8fc",
   "metadata": {},
   "outputs": [],
   "source": []
  },
  {
   "cell_type": "code",
   "execution_count": null,
   "id": "de09bb5b",
   "metadata": {},
   "outputs": [],
   "source": []
  },
  {
   "cell_type": "markdown",
   "id": "0218d42c",
   "metadata": {},
   "source": [
    "[Return to contents](#0.)\n",
    "\n",
    "<hr style=\"border:2px solid gray\">"
   ]
  },
  {
   "cell_type": "markdown",
   "id": "79062410",
   "metadata": {},
   "source": [
    "## 8. `curve_fit` functions <a name=\"8.\"></a>\n",
    "\n",
    "<hr style=\"border:2px solid gray\">"
   ]
  },
  {
   "cell_type": "markdown",
   "id": "51797471",
   "metadata": {},
   "source": [
    "curve_fit (with popt, pcov)"
   ]
  },
  {
   "cell_type": "code",
   "execution_count": null,
   "id": "22098192",
   "metadata": {},
   "outputs": [],
   "source": []
  },
  {
   "cell_type": "code",
   "execution_count": null,
   "id": "99ab1d2a",
   "metadata": {},
   "outputs": [],
   "source": []
  },
  {
   "cell_type": "code",
   "execution_count": null,
   "id": "09a873f3",
   "metadata": {},
   "outputs": [],
   "source": []
  },
  {
   "cell_type": "code",
   "execution_count": null,
   "id": "9a01ccc1",
   "metadata": {},
   "outputs": [],
   "source": []
  },
  {
   "cell_type": "code",
   "execution_count": null,
   "id": "084aeee3",
   "metadata": {},
   "outputs": [],
   "source": []
  },
  {
   "cell_type": "code",
   "execution_count": null,
   "id": "3e51ee9e",
   "metadata": {},
   "outputs": [],
   "source": []
  },
  {
   "cell_type": "markdown",
   "id": "990ab7fc",
   "metadata": {},
   "source": [
    "[Return to contents](#0.)\n",
    "\n",
    "<hr style=\"border:2px solid gray\">"
   ]
  }
 ],
 "metadata": {
  "kernelspec": {
   "display_name": "Python 3 (ipykernel)",
   "language": "python",
   "name": "python3"
  },
  "language_info": {
   "codemirror_mode": {
    "name": "ipython",
    "version": 3
   },
   "file_extension": ".py",
   "mimetype": "text/x-python",
   "name": "python",
   "nbconvert_exporter": "python",
   "pygments_lexer": "ipython3",
   "version": "3.7.6"
  }
 },
 "nbformat": 4,
 "nbformat_minor": 5
}
