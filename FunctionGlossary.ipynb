{
 "cells": [
  {
   "cell_type": "markdown",
   "id": "dad13b53",
   "metadata": {},
   "source": [
    "# A glossary of useful functions <a name=\"0.\"></a>"
   ]
  },
  {
   "cell_type": "markdown",
   "id": "f4dfc73f",
   "metadata": {},
   "source": []
  },
  {
   "cell_type": "markdown",
   "id": "70ed8046",
   "metadata": {},
   "source": [
    "Contents:\n",
    "- [Inbuilt functions](#1.)\n",
    "- [`math` functions](#2.)\n",
    "- [`random` functions](#3.)\n",
    "- [`string` functions](#4.)\n",
    "- [`numpy` functions](#5.)\n",
    "- [`matplotlib` functions](#6.)\n",
    "- [Importing data](#7.)\n",
    "- [`curve_fit` functions](#8.)"
   ]
  },
  {
   "cell_type": "markdown",
   "id": "a94b43d0",
   "metadata": {},
   "source": [
    "## 1. Inbuilt functions <a name=\"1.\"></a>\n",
    "\n",
    "<hr style=\"border:2px solid gray\">"
   ]
  },
  {
   "cell_type": "markdown",
   "id": "752e91ca",
   "metadata": {},
   "source": [
    "input / print / append / len / type / round / range / float / int / list / str / divmod?"
   ]
  },
  {
   "cell_type": "code",
   "execution_count": null,
   "id": "621238e3",
   "metadata": {},
   "outputs": [],
   "source": []
  },
  {
   "cell_type": "code",
   "execution_count": null,
   "id": "6c39db69",
   "metadata": {},
   "outputs": [],
   "source": []
  },
  {
   "cell_type": "code",
   "execution_count": null,
   "id": "b346da1f",
   "metadata": {},
   "outputs": [],
   "source": []
  },
  {
   "cell_type": "markdown",
   "id": "5eae7497",
   "metadata": {},
   "source": [
    "[Return to contents](#0.)\n",
    "\n",
    "<hr style=\"border:2px solid gray\">"
   ]
  },
  {
   "cell_type": "markdown",
   "id": "7c838391",
   "metadata": {},
   "source": [
    "## 2. `math` functions <a name=\"2.\"></a>\n",
    "\n",
    "<hr style=\"border:2px solid gray\">"
   ]
  },
  {
   "cell_type": "markdown",
   "id": "561003fb",
   "metadata": {},
   "source": [
    "math.sqrt / math.cos / math.sin / math.pi / math.log / math.e / math.isclose"
   ]
  },
  {
   "cell_type": "code",
   "execution_count": null,
   "id": "b8b1c0ee",
   "metadata": {},
   "outputs": [],
   "source": []
  },
  {
   "cell_type": "code",
   "execution_count": null,
   "id": "af426a7f",
   "metadata": {},
   "outputs": [],
   "source": []
  },
  {
   "cell_type": "code",
   "execution_count": null,
   "id": "d6541874",
   "metadata": {},
   "outputs": [],
   "source": []
  },
  {
   "cell_type": "markdown",
   "id": "55fd8a78",
   "metadata": {},
   "source": [
    "[Return to contents](#0.)\n",
    "\n",
    "<hr style=\"border:2px solid gray\">"
   ]
  },
  {
   "cell_type": "markdown",
   "id": "8d1e02ce",
   "metadata": {},
   "source": [
    "## 3. `random` functions <a name=\"3.\"></a>\n",
    "\n",
    "<hr style=\"border:2px solid gray\">"
   ]
  },
  {
   "cell_type": "markdown",
   "id": "fb159432",
   "metadata": {},
   "source": [
    "random.uniform / random.sample / random.shuffle / random.randint"
   ]
  },
  {
   "cell_type": "code",
   "execution_count": null,
   "id": "2356f669",
   "metadata": {},
   "outputs": [],
   "source": []
  },
  {
   "cell_type": "code",
   "execution_count": null,
   "id": "9c188649",
   "metadata": {},
   "outputs": [],
   "source": []
  },
  {
   "cell_type": "code",
   "execution_count": null,
   "id": "1b2c9c61",
   "metadata": {},
   "outputs": [],
   "source": []
  },
  {
   "cell_type": "markdown",
   "id": "947777b1",
   "metadata": {},
   "source": [
    "[Return to contents](#0.)\n",
    "\n",
    "<hr style=\"border:2px solid gray\">"
   ]
  },
  {
   "cell_type": "markdown",
   "id": "24738b5f",
   "metadata": {},
   "source": [
    "## 4. `string` functions <a name=\"4.\"></a>\n",
    "\n",
    "<hr style=\"border:2px solid gray\">"
   ]
  },
  {
   "cell_type": "markdown",
   "id": "de70789f",
   "metadata": {},
   "source": [
    "string.ascii_letters / string.ascii_uppercase / string.digits / string.punctuation / string.join / string.find"
   ]
  },
  {
   "cell_type": "code",
   "execution_count": null,
   "id": "f488ca41",
   "metadata": {},
   "outputs": [],
   "source": []
  },
  {
   "cell_type": "code",
   "execution_count": null,
   "id": "67da09ad",
   "metadata": {},
   "outputs": [],
   "source": []
  },
  {
   "cell_type": "code",
   "execution_count": null,
   "id": "e1563d9b",
   "metadata": {},
   "outputs": [],
   "source": []
  },
  {
   "cell_type": "markdown",
   "id": "3cae1a6d",
   "metadata": {},
   "source": [
    "[Return to contents](#0.)\n",
    "\n",
    "<hr style=\"border:2px solid gray\">"
   ]
  },
  {
   "cell_type": "markdown",
   "id": "fd6e05ae",
   "metadata": {},
   "source": [
    "## 5. `numpy` functions <a name=\"5.\"></a>\n",
    "\n",
    "<hr style=\"border:2px solid gray\">"
   ]
  },
  {
   "cell_type": "markdown",
   "id": "5e739890",
   "metadata": {},
   "source": [
    "np.sqrt / np.exp / np.pi / np.linspace / np.arange / np.array (with ndmin option) / np.size / np.shape / arrayname.ndim / arrayname.reshape/ np.stack / np.random.normal"
   ]
  },
  {
   "cell_type": "code",
   "execution_count": null,
   "id": "01cfbcca",
   "metadata": {},
   "outputs": [],
   "source": []
  },
  {
   "cell_type": "code",
   "execution_count": null,
   "id": "fddff4c5",
   "metadata": {},
   "outputs": [],
   "source": []
  },
  {
   "cell_type": "code",
   "execution_count": null,
   "id": "4a7d7da8",
   "metadata": {},
   "outputs": [],
   "source": []
  },
  {
   "cell_type": "markdown",
   "id": "eb76a750",
   "metadata": {},
   "source": [
    "[Return to contents](#0.)\n",
    "\n",
    "<hr style=\"border:2px solid gray\">"
   ]
  },
  {
   "cell_type": "markdown",
   "id": "5b672ea7",
   "metadata": {},
   "source": [
    "## 6. `matplotlib` functions <a name=\"6.\"></a>\n",
    "\n",
    "<hr style=\"border:2px solid gray\">"
   ]
  },
  {
   "cell_type": "markdown",
   "id": "9555bce6",
   "metadata": {},
   "source": [
    "plt.plot / plt.show / plt.xlabel / plt.title / plt.errorbar / plt.xscale / plt.grid? / plt.scatter / colormap options / plt.subplot (ALL OPTIONS, with plt.tight_layout) / plt.suptitle / plt.legend / plt.bar/ plt.barh / plt.hist (bins, edgecolour) / plt.pie"
   ]
  },
  {
   "cell_type": "code",
   "execution_count": null,
   "id": "621fe081",
   "metadata": {},
   "outputs": [],
   "source": []
  },
  {
   "cell_type": "code",
   "execution_count": null,
   "id": "4ce43215",
   "metadata": {},
   "outputs": [],
   "source": []
  },
  {
   "cell_type": "code",
   "execution_count": null,
   "id": "e8989e7b",
   "metadata": {},
   "outputs": [],
   "source": []
  },
  {
   "cell_type": "markdown",
   "id": "b75de74c",
   "metadata": {},
   "source": [
    "[Return to contents](#0.)\n",
    "\n",
    "<hr style=\"border:2px solid gray\">"
   ]
  },
  {
   "cell_type": "markdown",
   "id": "c711e0a9",
   "metadata": {},
   "source": [
    "## 7. Importing data <a name=\"7.\"></a>\n",
    "\n",
    "<hr style=\"border:2px solid gray\">"
   ]
  },
  {
   "cell_type": "markdown",
   "id": "1ff41066",
   "metadata": {},
   "source": [
    "pandas.read_csv / head"
   ]
  },
  {
   "cell_type": "code",
   "execution_count": null,
   "id": "c56e5fdc",
   "metadata": {},
   "outputs": [],
   "source": []
  },
  {
   "cell_type": "code",
   "execution_count": null,
   "id": "989cac1c",
   "metadata": {},
   "outputs": [],
   "source": []
  },
  {
   "cell_type": "code",
   "execution_count": null,
   "id": "815aa4d2",
   "metadata": {},
   "outputs": [],
   "source": []
  },
  {
   "cell_type": "markdown",
   "id": "a5825942",
   "metadata": {},
   "source": [
    "[Return to contents](#0.)\n",
    "\n",
    "<hr style=\"border:2px solid gray\">"
   ]
  },
  {
   "cell_type": "markdown",
   "id": "53f7c8cb",
   "metadata": {},
   "source": [
    "## 8. `curve_fit` functions <a name=\"8.\"></a>\n",
    "\n",
    "<hr style=\"border:2px solid gray\">"
   ]
  },
  {
   "cell_type": "markdown",
   "id": "8faa5057",
   "metadata": {},
   "source": [
    "curve_fit (with popt, pcov)"
   ]
  },
  {
   "cell_type": "code",
   "execution_count": null,
   "id": "8cec02d9",
   "metadata": {},
   "outputs": [],
   "source": []
  },
  {
   "cell_type": "code",
   "execution_count": null,
   "id": "d50b252b",
   "metadata": {},
   "outputs": [],
   "source": []
  },
  {
   "cell_type": "code",
   "execution_count": null,
   "id": "4698e56e",
   "metadata": {},
   "outputs": [],
   "source": []
  },
  {
   "cell_type": "markdown",
   "id": "979d4227",
   "metadata": {},
   "source": [
    "[Return to contents](#0.)\n",
    "\n",
    "<hr style=\"border:2px solid gray\">"
   ]
  }
 ],
 "metadata": {
  "kernelspec": {
   "display_name": "Python 3 (ipykernel)",
   "language": "python",
   "name": "python3"
  },
  "language_info": {
   "codemirror_mode": {
    "name": "ipython",
    "version": 3
   },
   "file_extension": ".py",
   "mimetype": "text/x-python",
   "name": "python",
   "nbconvert_exporter": "python",
   "pygments_lexer": "ipython3",
   "version": "3.7.6"
  }
 },
 "nbformat": 4,
 "nbformat_minor": 5
}
