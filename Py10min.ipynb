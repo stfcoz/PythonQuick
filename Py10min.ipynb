{
 "cells": [
  {
   "cell_type": "markdown",
   "id": "828da568",
   "metadata": {},
   "source": [
    "# Python in 10 minutes <a name=\"0.\"></a>"
   ]
  },
  {
   "cell_type": "markdown",
   "id": "5981367f",
   "metadata": {},
   "source": [
    "Contents:\n",
    "- [Data types](#1.)\n",
    "- [Operators](#2.)\n",
    "- [Control structures](#3.)\n",
    "- [`if`, `else`, `elif` statements](#4.)\n",
    "- [Arrays](#5.)\n",
    "- [UDFs and classes](#6.)"
   ]
  },
  {
   "cell_type": "markdown",
   "id": "b88190cd",
   "metadata": {},
   "source": [
    "## 1. Data types <a id='1.'></a>\n",
    "\n",
    "<hr style=\"border:2px solid gray\">"
   ]
  },
  {
   "cell_type": "markdown",
   "id": "2e5d0bc1",
   "metadata": {},
   "source": [
    "Before we start: the below box is known as a **code cell** - it allows Python code within to be executed.  It contains the `print()` function, that simply displays the contents of the cell including the results of mathematical operations."
   ]
  },
  {
   "cell_type": "code",
   "execution_count": null,
   "id": "442f05ae",
   "metadata": {},
   "outputs": [],
   "source": [
    "print('Hello world!')"
   ]
  },
  {
   "cell_type": "markdown",
   "id": "90803eb8",
   "metadata": {},
   "source": [
    "***Integers*** are whole numbers."
   ]
  },
  {
   "cell_type": "code",
   "execution_count": null,
   "id": "acb90967",
   "metadata": {},
   "outputs": [],
   "source": [
    "I1 = 4\n",
    "print(I1, \"is an integer.\")"
   ]
  },
  {
   "cell_type": "markdown",
   "id": "d029c4b5",
   "metadata": {},
   "source": [
    "**Floating-point numbers** (floats) are decimal numbers."
   ]
  },
  {
   "cell_type": "code",
   "execution_count": null,
   "id": "eb7b7e21",
   "metadata": {},
   "outputs": [],
   "source": [
    "F1 = 2.1\n",
    "F2 = 4E-7\n",
    "print(F1, \"is a float.\")\n",
    "print(F2, \"is also a float.\")"
   ]
  },
  {
   "cell_type": "markdown",
   "id": "86d3d2f5",
   "metadata": {},
   "source": [
    "**Strings** are sequenced items of the same type."
   ]
  },
  {
   "cell_type": "code",
   "execution_count": null,
   "id": "06f0a95a",
   "metadata": {},
   "outputs": [],
   "source": [
    "S1 = 'Beep'\n",
    "S2 = \"Welcome to Python!\"\n",
    "print(S1, \"is a string.\")\n",
    "print(S2, \"is also a string.\")"
   ]
  },
  {
   "cell_type": "markdown",
   "id": "49806344",
   "metadata": {},
   "source": [
    "We can *concatenate* (add) strings."
   ]
  },
  {
   "cell_type": "code",
   "execution_count": null,
   "id": "38a1fe9c",
   "metadata": {},
   "outputs": [],
   "source": [
    "name = input(\"Enter your name:\", )\n",
    "print(\"Hello \" + name + \"!\")"
   ]
  },
  {
   "cell_type": "markdown",
   "id": "06f1622c",
   "metadata": {},
   "source": [
    "A **list** is similar to a string, but the items can be different data types."
   ]
  },
  {
   "cell_type": "code",
   "execution_count": null,
   "id": "e9dac40c",
   "metadata": {},
   "outputs": [],
   "source": [
    "L0 = []\n",
    "L1 = [1, '2', 3, 'Four', 5]\n",
    "print(L0, \"is an empty list.\")\n",
    "print(L1, \"is a list.\")"
   ]
  },
  {
   "cell_type": "markdown",
   "id": "aa027a60",
   "metadata": {},
   "source": [
    "We can access **elements** of a list from their **index**, as well as 'slice' them by element."
   ]
  },
  {
   "cell_type": "code",
   "execution_count": null,
   "id": "696e4001",
   "metadata": {},
   "outputs": [],
   "source": [
    "L2 = [1,2,3,4,5]\n",
    "\n",
    "print(L2[0], \"is the 1st element of hte list L2.  It is given by L2[0] (index is 0).\")\n",
    "print(L2[1], \"is the 2nd element of L2.  It is given by L2[1].\")\n",
    "print(L2[2:4], \"are the 3rd (index 2) and 4th (index 3) elements of L2.  They are given by L2[2:4].\")"
   ]
  },
  {
   "cell_type": "markdown",
   "id": "8347e99d",
   "metadata": {},
   "source": [
    "We can *append* (add) to a list, as well as find its length."
   ]
  },
  {
   "cell_type": "code",
   "execution_count": null,
   "id": "89bea533",
   "metadata": {},
   "outputs": [],
   "source": [
    "L3 = ['One', 'Two', 'Three']\n",
    "print(\"The original list:\", L3)\n",
    "L3.append('Four')\n",
    "print(\"The appended list:\", L3)\n",
    "print(\"This list is\", len(L3), \"elements long.\")"
   ]
  },
  {
   "cell_type": "markdown",
   "id": "91cb843e",
   "metadata": {},
   "source": [
    "A **tuple** is like a list, though it is immutable (cannot be changed)."
   ]
  },
  {
   "cell_type": "code",
   "execution_count": null,
   "id": "13d6fb45",
   "metadata": {},
   "outputs": [],
   "source": [
    "T1 = 1, 2, 3, 'Bazinga!'\n",
    "print(T1, \"is a tuple.\")\n",
    "print(T1[0], \"is the first element of the tuple T1.  It is given by T1[0]\")\n",
    "print(T1[3], \"is the last element of T1.  It is given by T1[3] as the tuple is of length 4.\")"
   ]
  },
  {
   "cell_type": "markdown",
   "id": "ac59b10f",
   "metadata": {},
   "source": [
    "A ***boolean*** is simply a `True` or `False` condition."
   ]
  },
  {
   "cell_type": "code",
   "execution_count": null,
   "id": "80143319",
   "metadata": {},
   "outputs": [],
   "source": [
    "B1 = 4 < 7\n",
    "print(\"The inequality 4 < 7 is a boolean.\")\n",
    "print(\"Result:\", B1)"
   ]
  },
  {
   "cell_type": "markdown",
   "id": "da8c4124",
   "metadata": {},
   "source": [
    "A ***dictionary*** contains key-value pairs, allowing items to be matched to one another."
   ]
  },
  {
   "cell_type": "code",
   "execution_count": null,
   "id": "3ca50627",
   "metadata": {},
   "outputs": [],
   "source": [
    "thisdict = {\n",
    "  \"Brand\": \"Fiat\",\n",
    "  \"Model\": \"Cinquecento Hawaii\",\n",
    "  \"Year\": 1998\n",
    "   }\n",
    "print(thisdict)"
   ]
  },
  {
   "cell_type": "markdown",
   "id": "8079e967",
   "metadata": {},
   "source": [
    "[Return to contents](#0.)\n",
    "\n",
    "<hr style=\"border:2px solid gray\">"
   ]
  },
  {
   "cell_type": "markdown",
   "id": "93b17777",
   "metadata": {},
   "source": [
    "## 2. Operators <a id='2.'></a>"
   ]
  },
  {
   "cell_type": "markdown",
   "id": "a27defe2",
   "metadata": {},
   "source": [
    "Several ***arithmetic operators*** are tabulated below."
   ]
  },
  {
   "cell_type": "markdown",
   "id": "f46160af",
   "metadata": {},
   "source": [
    "| Operator | Description                                                                    | Example        |\n",
    "|:--------:|:------------------------------------------------------------------------------:|:--------------:|\n",
    "| +        | Addition - adds operands on either side of the operator                        | `2 + 2 = 4`    |\n",
    "| -        | Subtraction - subtracts right-hand operand from-left hand operand              | `5 - 2 = 3`    |\n",
    "| *        | Multiplication - multiplies values on either side of operator                  | `3*3 = 9`      |\n",
    "| /        | Division - divides left-hand operand by right-hand operand                     | `22 / 8 = 2.75`|\n",
    "| **       | Exponent - raises left-hand operand to the power of right-hand operand         | `2**3 = 8`     |\n",
    "| %        | Modulo - divides left-hand operand by right-hand operand and returns remainder | `13 % 3 = 1`   |\n",
    "| //       | Floor division - same as with the division operator, but with decimals removed | `22 // 8 = 2`  |"
   ]
  },
  {
   "cell_type": "markdown",
   "id": "2952e6ff",
   "metadata": {},
   "source": [
    "A few examples:"
   ]
  },
  {
   "cell_type": "code",
   "execution_count": null,
   "id": "f1edc6d4",
   "metadata": {},
   "outputs": [],
   "source": [
    "print(25%7)\n",
    "print(55//14)"
   ]
  },
  {
   "cell_type": "markdown",
   "id": "d96a2f9b",
   "metadata": {},
   "source": [
    "Several ***comparison operators*** are tabulated below."
   ]
  },
  {
   "cell_type": "markdown",
   "id": "72e8cc07",
   "metadata": {},
   "source": [
    "|Operator|Description                                                                          |\n",
    "|:-:     |:-:|\n",
    "|==      |Equal to - compares both operands, returns `True` if they are equal                  |\n",
    "|!=      |Not equal to - compares both operands, returns `True` if they are not equal          |\n",
    "|<>      |Alternative form of the *not equal to* operator                                      |\n",
    "|>       |Greater than - returns `True` if left-hand operand is greater than right-hand operand|\n",
    "|<       |Less than - returns `True` if left-hand operand is less than right-hand operand      |\n",
    "|>=      |Greater than or equal to - returns `True` if left-hand operand is greater than or equal to right-hand operand       |\n",
    "|<=      |Less than or equal to - returns `True` if left-hand operand is less than or equal to right-hand operand       |"
   ]
  },
  {
   "cell_type": "markdown",
   "id": "99aad13e",
   "metadata": {},
   "source": [
    "A few examples:"
   ]
  },
  {
   "cell_type": "code",
   "execution_count": null,
   "id": "88f03dc6",
   "metadata": {},
   "outputs": [],
   "source": [
    "print(2 != 3)\n",
    "print(4 >= 5)"
   ]
  },
  {
   "cell_type": "markdown",
   "id": "42f8430a",
   "metadata": {},
   "source": [
    "There is also the *equality operator* `=`, which assigns RHS operand values to LHS operands.\n",
    "\n",
    "[Return to contents](#0.)\n",
    "\n",
    "<hr style=\"border:2px solid gray\">"
   ]
  },
  {
   "cell_type": "markdown",
   "id": "67af896c",
   "metadata": {},
   "source": [
    "## 3. Control structures <a id='3.'></a>\n",
    "\n",
    "<hr style=\"border:2px solid gray\">"
   ]
  },
  {
   "cell_type": "markdown",
   "id": "ad0dce71",
   "metadata": {},
   "source": [
    "A ***while*** loop executes embedded code repeatedly as long as a given condition is met.  When this condition becomes false, the non-embedded code immediately after the loop will be executed.  An example of a `while` loop is below."
   ]
  },
  {
   "cell_type": "code",
   "execution_count": null,
   "id": "c666824a",
   "metadata": {},
   "outputs": [],
   "source": [
    "count = 0\n",
    "while (count < 3):    \n",
    "    count = count + 1\n",
    "    print(\"Count is {} as expected\".format(count))"
   ]
  },
  {
   "cell_type": "markdown",
   "id": "b48e6e28",
   "metadata": {},
   "source": [
    "A ***for*** loop will execute embedded code repeatedly across all inputs.  It is similar to a while loop but has no deactivating conditions.  An example of a `for` loop is below."
   ]
  },
  {
   "cell_type": "code",
   "execution_count": null,
   "id": "a9547789",
   "metadata": {},
   "outputs": [],
   "source": [
    "for i in [1,2,3,4,5]:\n",
    "    print(i)"
   ]
  },
  {
   "cell_type": "markdown",
   "id": "8661a562",
   "metadata": {},
   "source": [
    "Alternatively, we could have used the `range()` function to give the same list between `1` and `5`."
   ]
  },
  {
   "cell_type": "markdown",
   "id": "dd4a5b84",
   "metadata": {},
   "source": [
    "We can embed control structures within other control structures - this is known as ***nesting***.  Below is a nested `for` loop."
   ]
  },
  {
   "cell_type": "code",
   "execution_count": null,
   "id": "7f4579fd",
   "metadata": {},
   "outputs": [],
   "source": [
    "for i in range(1, 6):\n",
    "    for j in range(i):\n",
    "         print(i, end=' ')\n",
    "    print()"
   ]
  },
  {
   "cell_type": "markdown",
   "id": "12092e92",
   "metadata": {},
   "source": [
    "The ***break*** statement can be embedded within a control structure.  If a given condition is met, it will terminate the loop containing it.  Below is a control structure containing a `break` statement."
   ]
  },
  {
   "cell_type": "code",
   "execution_count": null,
   "id": "702481c5",
   "metadata": {},
   "outputs": [],
   "source": [
    "for val in \"hitchhikers\":\n",
    "    if val == \"s\":\n",
    "        break\n",
    "    print(val)\n",
    "print(\"DON'T PANIC\")"
   ]
  },
  {
   "cell_type": "markdown",
   "id": "544c5897",
   "metadata": {},
   "source": [
    "When a ***continue*** statement is embedded within a control structure, it skips the embedded code for only the inputs that meet the condition.  Below is a control structure with an embedded `continue` statement."
   ]
  },
  {
   "cell_type": "code",
   "execution_count": null,
   "id": "e90c3c98",
   "metadata": {},
   "outputs": [],
   "source": [
    "for val in \"hitchhiker\":\n",
    "    if val == \"i\":\n",
    "        continue\n",
    "    if val == \"e\":\n",
    "        continue\n",
    "    print(val)\n",
    "print(\"DON'T PANIC\")"
   ]
  },
  {
   "cell_type": "markdown",
   "id": "df77953d",
   "metadata": {},
   "source": [
    "[Return to contents](#0.)\n",
    "\n",
    "<hr style=\"border:2px solid gray\">"
   ]
  },
  {
   "cell_type": "markdown",
   "id": "8574efdf",
   "metadata": {},
   "source": [
    "## 4. `if`, `else`, `elif` statements <a id='4.'></a>\n",
    "\n",
    "<hr style=\"border:2px solid gray\">"
   ]
  },
  {
   "cell_type": "markdown",
   "id": "c595304e",
   "metadata": {},
   "source": [
    "If an input meets the specified condition in an ***if*** statement, the code embedded within the statement is executed.  Below is an `if` condition."
   ]
  },
  {
   "cell_type": "code",
   "execution_count": null,
   "id": "ba78a76e",
   "metadata": {},
   "outputs": [],
   "source": [
    "i = 10\n",
    "if (i > 15):\n",
    "    print(\"10 is less than 15\")\n",
    "print(\"This is an if condition\")"
   ]
  },
  {
   "cell_type": "markdown",
   "id": "fe6602c5",
   "metadata": {},
   "source": [
    "The ***else*** statement can be placed below an `if` condition, allowing it to run whenever the `if` condition is not met.  The resulting structure is known as an ***if else*** condition.  Below is an `if else` condition."
   ]
  },
  {
   "cell_type": "code",
   "execution_count": null,
   "id": "d3f9b1a7",
   "metadata": {},
   "outputs": [],
   "source": [
    "a = float(input(\"Enter a value for a: \", ))\n",
    "b = 200\n",
    "if b > a:\n",
    "  print(\"b is greater than a\")\n",
    "else:\n",
    "    print(\"a is greater than b\")"
   ]
  },
  {
   "cell_type": "markdown",
   "id": "69306973",
   "metadata": {},
   "source": [
    "An `else` condition can be combined with an `if` condition to make an ***elif*** condition.  When the condition is met, the `if` condition's code is executed.  Otherwise, the `else` condition's code is executed.  Several `elif` conditions can be combined into a so-called 'elif ladder'.  Below is one such elif ladder."
   ]
  },
  {
   "cell_type": "code",
   "execution_count": null,
   "id": "7eb26960",
   "metadata": {},
   "outputs": [],
   "source": [
    "i = 20\n",
    "if (i == 10):\n",
    "    print(\"i is 10\")\n",
    "elif (i == 15):\n",
    "    print(\"i is 15\")\n",
    "elif (i == 20):\n",
    "    print(\"i is 20\")\n",
    "else:\n",
    "    print(\"i is not present\")"
   ]
  },
  {
   "cell_type": "markdown",
   "id": "6d3165f7",
   "metadata": {},
   "source": [
    "[Return to contents](#0.)\n",
    "\n",
    "<hr style=\"border:2px solid gray\">"
   ]
  },
  {
   "cell_type": "markdown",
   "id": "57d4681e",
   "metadata": {},
   "source": [
    "## 5. Arrays <a id='5.'></a>\n",
    "\n",
    "<hr style=\"border:2px solid gray\">"
   ]
  },
  {
   "cell_type": "code",
   "execution_count": null,
   "id": "adfb9140",
   "metadata": {},
   "outputs": [],
   "source": [
    "import numpy as np"
   ]
  },
  {
   "cell_type": "markdown",
   "id": "7b8da2a2",
   "metadata": {},
   "source": [
    "***Arrays*** are effectively multi-dimensional lists that are essentially 'grids' of values.  Their elements can be accessed by index."
   ]
  },
  {
   "cell_type": "code",
   "execution_count": null,
   "id": "840c3f18",
   "metadata": {},
   "outputs": [],
   "source": [
    "A = np.array([1,2,3,4,5])\n",
    "print(A[0])\n",
    "print(A[3])"
   ]
  },
  {
   "cell_type": "markdown",
   "id": "0a0ba032",
   "metadata": {},
   "source": [
    "The elements of a 2D array can be accessed as follows."
   ]
  },
  {
   "cell_type": "code",
   "execution_count": null,
   "id": "f571d34a",
   "metadata": {},
   "outputs": [],
   "source": [
    "x = np.array([[1,2,3,4],[5,6,7,8]])\n",
    "print(x)\n",
    "print(x[0][0])\n",
    "print(x[1][1])"
   ]
  },
  {
   "cell_type": "markdown",
   "id": "518c53f8",
   "metadata": {},
   "source": [
    "We can also find the size and shape of an array."
   ]
  },
  {
   "cell_type": "code",
   "execution_count": null,
   "id": "a70fdaa9",
   "metadata": {},
   "outputs": [],
   "source": [
    "print(\"Size of array:\", np.size(x))\n",
    "print(\"Shape of array:\", np.shape(x))"
   ]
  },
  {
   "cell_type": "markdown",
   "id": "b508235f",
   "metadata": {},
   "source": [
    "When adding arrays, each element of the same index is added rather than the entire arrays being appended."
   ]
  },
  {
   "cell_type": "code",
   "execution_count": null,
   "id": "5c727fae",
   "metadata": {},
   "outputs": [],
   "source": [
    "A1 = np.array([1,2,3,4,5])\n",
    "A2 = np.array([6,7,8,9,10])\n",
    "A = A1 + A2\n",
    "print(A)"
   ]
  },
  {
   "cell_type": "markdown",
   "id": "04d81dd9",
   "metadata": {},
   "source": [
    "[Return to contents](#0.)\n",
    "\n",
    "<hr style=\"border:2px solid gray\">"
   ]
  },
  {
   "cell_type": "markdown",
   "id": "6bc3b20f",
   "metadata": {},
   "source": [
    "## 6. UDFs and classes <a id='6.'></a>\n",
    "\n",
    "<hr style=\"border:2px solid gray\">"
   ]
  },
  {
   "cell_type": "markdown",
   "id": "e3a4f2bf",
   "metadata": {},
   "source": [
    "A ***user-defined*** function or ***UDF*** allows multiple sets of variables to run through the same code without needing to rewrite a control structure each time.  In effect, it is an adjustable loop with the 'trigger' being a change in input variables.\n",
    "\n",
    "A simple UDF is below.  To run it with a particular set of variables, we must call it with those variables."
   ]
  },
  {
   "cell_type": "code",
   "execution_count": null,
   "id": "a8680cfa",
   "metadata": {},
   "outputs": [],
   "source": [
    "def avg(x, y):\n",
    "    print(\"The average of\",x,\"and\",y, \"is\",(x+y)/2)\n",
    "avg(3, 4)"
   ]
  },
  {
   "cell_type": "markdown",
   "id": "7a854241",
   "metadata": {},
   "source": [
    "A **docstring** is a brief description of a UDF; it should include the input variables and what the UDF does with them.  Below is a UDF with a docstring included."
   ]
  },
  {
   "cell_type": "code",
   "execution_count": null,
   "id": "316bef4a",
   "metadata": {},
   "outputs": [],
   "source": [
    "def avg(x, y):\n",
    "    '''\n",
    "    Calculate and Print Average of two Numbers.\n",
    "    Created on 25/05/2022\n",
    "    '''\n",
    "    print(\"The average of \",x,\" and \",y, \" is \",(x+y)/2)\n",
    "\n",
    "print(avg.__doc__)"
   ]
  },
  {
   "cell_type": "markdown",
   "id": "994f86f3",
   "metadata": {},
   "source": [
    "A ***class*** is a method of storing variables, control structures and UDFs.  Below is a class containing several basic control structures."
   ]
  },
  {
   "cell_type": "code",
   "execution_count": null,
   "id": "03f87c59",
   "metadata": {},
   "outputs": [],
   "source": [
    "class Calculator:\n",
    "    \n",
    "    def add(n1,n2):\n",
    "        return n1 + n2\n",
    "    \n",
    "    def sub(n1,n2):\n",
    "        return n1 - n2\n",
    "    \n",
    "    def mul(n1,n2):\n",
    "        return n1 * n2\n",
    "    \n",
    "    def div(n1,n2):\n",
    "        return n1 / n2\n",
    "    \n",
    "    print('''Available operations:\n",
    "            - Addition (+)\n",
    "            - Subtraction (-)\n",
    "            - Multiplication (*)\n",
    "            - Division (/)''')\n",
    "    \n",
    "    n1 = int(input(\"Enter first number: \"))\n",
    "    n2 = int(input(\"Enter second number: \"))\n",
    "    op = input(\"Enter operation: \")\n",
    "    \n",
    "    res = 0\n",
    "    if op == '+':\n",
    "        res = add(n1,n2)\n",
    "    elif op == '-':\n",
    "        res = sub(n1,n2)\n",
    "    elif op == '*':\n",
    "        res = mult(n1,n2)\n",
    "    elif op == '/':\n",
    "        res = div(n1,n2)\n",
    "    \n",
    "    print(n1, op, n2, '=', res)"
   ]
  },
  {
   "cell_type": "markdown",
   "id": "22e9ab9f",
   "metadata": {},
   "source": [
    "There is no need to call the entire class as the commands within will run automatically, some of which are programmed to give a response.  If you wish to call a particular UDF within the class, you must call it as follows:\n",
    "\n",
    "`class_name.function_name(variables)`"
   ]
  },
  {
   "cell_type": "markdown",
   "id": "7597540a",
   "metadata": {},
   "source": [
    "[Return to contents](#0.)\n",
    "\n",
    "<hr style=\"border:2px solid gray\">"
   ]
  }
 ],
 "metadata": {
  "kernelspec": {
   "display_name": "Python 3 (ipykernel)",
   "language": "python",
   "name": "python3"
  },
  "language_info": {
   "codemirror_mode": {
    "name": "ipython",
    "version": 3
   },
   "file_extension": ".py",
   "mimetype": "text/x-python",
   "name": "python",
   "nbconvert_exporter": "python",
   "pygments_lexer": "ipython3",
   "version": "3.7.6"
  }
 },
 "nbformat": 4,
 "nbformat_minor": 5
}
