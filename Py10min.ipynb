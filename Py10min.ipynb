{
 "cells": [
  {
   "cell_type": "markdown",
   "id": "828da568",
   "metadata": {},
   "source": [
    "# Python in 10 minutes <a name=\"0.\"></a>"
   ]
  },
  {
   "cell_type": "markdown",
   "id": "8940bc8e",
   "metadata": {},
   "source": [
    "Contents:\n",
    "- [Data types](#1.)\n",
    "- [Operators](#2.)\n",
    "- [Control structures](#3.)\n",
    "- [`if`, `else`, `elif` statements](#4.)\n",
    "- [UDFs and classes](#5.)\n",
    "- [Arrays](#6.)"
   ]
  },
  {
   "cell_type": "markdown",
   "id": "998350e8",
   "metadata": {},
   "source": [
    "## 1. Data types <a id='1.'></a>\n",
    "\n",
    "<hr style=\"border:2px solid gray\">"
   ]
  },
  {
   "cell_type": "markdown",
   "id": "c24c3501",
   "metadata": {},
   "source": [
    "***Integers*** are whole numbers."
   ]
  },
  {
   "cell_type": "code",
   "execution_count": null,
   "id": "0080217a",
   "metadata": {},
   "outputs": [],
   "source": [
    "I1 = 4\n",
    "print(I1, \"is an integer.\")"
   ]
  },
  {
   "cell_type": "markdown",
   "id": "547914a5",
   "metadata": {},
   "source": [
    "**Floating-point numbers** (floats) are decimal numbers."
   ]
  },
  {
   "cell_type": "code",
   "execution_count": null,
   "id": "16aa6174",
   "metadata": {},
   "outputs": [],
   "source": [
    "F1 = 2.1\n",
    "F2 = 4E-7\n",
    "print(F1, \"is a float.\")\n",
    "print(F2, \"is also a float.\")"
   ]
  },
  {
   "cell_type": "markdown",
   "id": "6aac847b",
   "metadata": {},
   "source": [
    "**Strings** are sequenced items of the same type."
   ]
  },
  {
   "cell_type": "code",
   "execution_count": null,
   "id": "4f97f0e0",
   "metadata": {},
   "outputs": [],
   "source": [
    "S1 = 'Beep'\n",
    "S2 = \"Welcome to Python!\"\n",
    "print(S1, \"is a string.\")\n",
    "print(S2, \"is also a string.\")"
   ]
  },
  {
   "cell_type": "markdown",
   "id": "296f6e7e",
   "metadata": {},
   "source": [
    "We can *concatenate* (add) strings."
   ]
  },
  {
   "cell_type": "code",
   "execution_count": null,
   "id": "8034ae7f",
   "metadata": {},
   "outputs": [],
   "source": [
    "name = input(\"Enter your name:\", )\n",
    "print(\"Hello \" + name + \"!\")"
   ]
  },
  {
   "cell_type": "markdown",
   "id": "8916eaec",
   "metadata": {},
   "source": [
    "A **list** is similar to a string, but the items can be different data types."
   ]
  },
  {
   "cell_type": "code",
   "execution_count": null,
   "id": "df41aeea",
   "metadata": {},
   "outputs": [],
   "source": [
    "L0 = []\n",
    "L1 = [1, '2', 3, 'Four', 5]\n",
    "print(L0, \"is an empty list.\")\n",
    "print(L1, \"is a list.\")"
   ]
  },
  {
   "cell_type": "markdown",
   "id": "02a70542",
   "metadata": {},
   "source": [
    "We can access **elements** of a list from their **index**, as well as 'slice' them by element."
   ]
  },
  {
   "cell_type": "code",
   "execution_count": null,
   "id": "dd98a9fb",
   "metadata": {},
   "outputs": [],
   "source": [
    "L2 = [1,2,3,4,5]\n",
    "\n",
    "print(L2[0], \"is the 1st element of hte list L2.  It is given by L2[0] (index is 0).\")\n",
    "print(L2[1], \"is the 2nd element of L2.  It is given by L2[1].\")\n",
    "print(L2[2:4], \"are the 3rd (index 2) and 4th (index 3) elements of L2.  They are given by L2[2:4].\")"
   ]
  },
  {
   "cell_type": "markdown",
   "id": "71f2fe59",
   "metadata": {},
   "source": [
    "We can *append* (add) to a list, as well as find its length."
   ]
  },
  {
   "cell_type": "code",
   "execution_count": null,
   "id": "a14cd7ce",
   "metadata": {},
   "outputs": [],
   "source": [
    "L3 = ['One', 'Two', 'Three']\n",
    "print(\"The original list:\", L3)\n",
    "L3.append('Four')\n",
    "print(\"The appended list:\", L3)\n",
    "print(\"This list is\", len(L3), \"elements long.\")"
   ]
  },
  {
   "cell_type": "markdown",
   "id": "2e0f51e0",
   "metadata": {},
   "source": [
    "A **tuple** is like a list, though it is immutable (cannot be changed)."
   ]
  },
  {
   "cell_type": "code",
   "execution_count": null,
   "id": "b848df5e",
   "metadata": {},
   "outputs": [],
   "source": [
    "T1 = 1, 2, 3, 'Bazinga!'\n",
    "print(T1, \"is a tuple.\")\n",
    "print(T1[0], \"is the first element of the tuple T1.  It is given by T1[0]\")\n",
    "print(T1[3], \"is the last element of T1.  It is given by T1[3] as the tuple is of length 4.\")"
   ]
  },
  {
   "cell_type": "markdown",
   "id": "5101bbb0",
   "metadata": {},
   "source": [
    "A ***boolean*** is simply a `True` or `False` condition."
   ]
  },
  {
   "cell_type": "code",
   "execution_count": null,
   "id": "ef9f7411",
   "metadata": {},
   "outputs": [],
   "source": [
    "B1 = 4 < 7\n",
    "print(\"The inequality 4 < 7 is a boolean.\")\n",
    "print(\"Result:\", B1)"
   ]
  },
  {
   "cell_type": "markdown",
   "id": "1d8e76a3",
   "metadata": {},
   "source": [
    "[Return to contents](#0.)\n",
    "\n",
    "<hr style=\"border:2px solid gray\">"
   ]
  },
  {
   "cell_type": "markdown",
   "id": "bd8361a2",
   "metadata": {},
   "source": [
    "## 2. Operators <a id='2.'></a>"
   ]
  },
  {
   "cell_type": "markdown",
   "id": "f28b8354",
   "metadata": {},
   "source": [
    "Several ***arithmetic operators*** are tabulated below."
   ]
  },
  {
   "cell_type": "markdown",
   "id": "484cab89",
   "metadata": {},
   "source": [
    "| Operator | Description                                                                    | Example        |\n",
    "|:--------:|:------------------------------------------------------------------------------:|:--------------:|\n",
    "| +        | Addition - adds operands on either side of the operator                        | `2 + 2 = 4`    |\n",
    "| -        | Subtraction - subtracts right-hand operand from-left hand operand              | `5 - 2 = 3`    |\n",
    "| *        | Multiplication - multiplies values on either side of operator                  | `3*3 = 9`      |\n",
    "| /        | Division - divides left-hand operand by right-hand operand                     | `22 / 8 = 2.75`|\n",
    "| **       | Exponent - raises left-hand operand to the power of right-hand operand         | `2**3 = 8`     |\n",
    "| %        | Modulo - divides left-hand operand by right-hand operand and returns remainder | `13 % 3 = 1`   |\n",
    "| //       | Floor division - same as with the division operator, but with decimals removed | `22 // 8 = 2`  |"
   ]
  },
  {
   "cell_type": "markdown",
   "id": "63b5eaa1",
   "metadata": {},
   "source": [
    "Several ***comparison operators*** are tabulated below."
   ]
  },
  {
   "cell_type": "markdown",
   "id": "2b095e70",
   "metadata": {},
   "source": [
    "|Operator|Description                                                                          |\n",
    "|:-:     |:-:|\n",
    "|==      |Equal to - compares both operands, returns `True` if they are equal                  |\n",
    "|!=      |Not equal to - compares both operands, returns `True` if they are not equal          |\n",
    "|<>      |Alternative form of the *not equal to* operator                                      |\n",
    "|>       |Greater than - returns `True` if left-hand operand is greater than right-hand operand|\n",
    "|<       |Less than - returns `True` if left-hand operand is less than right-hand operand      |\n",
    "|>=      |Greater than or equal to - returns `True` if left-hand operand is greater than or equal to right-hand operand       |\n",
    "|<=      |Less than or equal to - returns `True` if left-hand operand is less than or equal to right-hand operand       |"
   ]
  },
  {
   "cell_type": "markdown",
   "id": "4ba964d9",
   "metadata": {},
   "source": [
    "There is also the *equality operator* `=`, which assigns RHS operand values to LHS operands.\n",
    "\n",
    "[Return to contents](#0.)\n",
    "\n",
    "<hr style=\"border:2px solid gray\">"
   ]
  },
  {
   "cell_type": "markdown",
   "id": "90c82569",
   "metadata": {},
   "source": [
    "## 3. Control structures <a id='3.'></a>\n",
    "\n",
    "<hr style=\"border:2px solid gray\">"
   ]
  },
  {
   "cell_type": "markdown",
   "id": "4b07637a",
   "metadata": {},
   "source": [
    "A ***while*** loop executes embedded code repeatedly as long as a given condition is met.  When this condition becomes false, the non-embedded code immediately after the loop will be executed.  An example of a `while` loop is below."
   ]
  },
  {
   "cell_type": "code",
   "execution_count": null,
   "id": "22358457",
   "metadata": {},
   "outputs": [],
   "source": [
    "count = 0\n",
    "while (count < 3):    \n",
    "    count = count + 1\n",
    "    print(\"Count is {} as expected\".format(count))"
   ]
  },
  {
   "cell_type": "markdown",
   "id": "f7acec0d",
   "metadata": {},
   "source": [
    "A ***for*** loop will execute embedded code repeatedly across all inputs.  It is similar to a while loop but has no deactivating conditions.  An example of a `for` loop is below."
   ]
  },
  {
   "cell_type": "code",
   "execution_count": null,
   "id": "96c3e0de",
   "metadata": {},
   "outputs": [],
   "source": [
    "n = 6\n",
    "for i in range(1, n):\n",
    "    print(i)"
   ]
  },
  {
   "cell_type": "markdown",
   "id": "a6dc5ba1",
   "metadata": {},
   "source": [
    "We can embed control structures within other control structures - this is known as ***nesting***.  Below is a nested `for` loop."
   ]
  },
  {
   "cell_type": "code",
   "execution_count": null,
   "id": "62b5c06e",
   "metadata": {},
   "outputs": [],
   "source": [
    "for i in range(1, 6):\n",
    "    for j in range(i):\n",
    "         print(i, end=' ')\n",
    "    print()"
   ]
  },
  {
   "cell_type": "markdown",
   "id": "eb8525e2",
   "metadata": {},
   "source": [
    "The ***break*** statement can be embedded within a control structure.  If a given condition is met, it will terminate the loop containing it.  Below is a control structure containing a `break` statement."
   ]
  },
  {
   "cell_type": "code",
   "execution_count": null,
   "id": "91a244fa",
   "metadata": {},
   "outputs": [],
   "source": [
    "for val in \"hitchhikers\":\n",
    "    if val == \"s\":\n",
    "        break\n",
    "    print(val)\n",
    "print(\"DON'T PANIC\")"
   ]
  },
  {
   "cell_type": "markdown",
   "id": "d023af9b",
   "metadata": {},
   "source": [
    "When a ***continue*** statement is embedded within a control structure, it skips the embedded code for only the inputs that meet the condition.  Below is a control structure with an embedded `continue` statement."
   ]
  },
  {
   "cell_type": "code",
   "execution_count": null,
   "id": "4ed71a2d",
   "metadata": {},
   "outputs": [],
   "source": [
    "for val in \"hitchhiker\":\n",
    "    if val == \"i\":\n",
    "        continue\n",
    "    if val == \"e\":\n",
    "        continue\n",
    "    print(val)\n",
    "print(\"DON'T PANIC\")"
   ]
  },
  {
   "cell_type": "markdown",
   "id": "4595f064",
   "metadata": {},
   "source": [
    "[Return to contents](#0.)\n",
    "\n",
    "<hr style=\"border:2px solid gray\">"
   ]
  },
  {
   "cell_type": "markdown",
   "id": "852aab28",
   "metadata": {},
   "source": [
    "## 4. `if`, `else`, `elif` statements <a id='4.'></a>\n",
    "\n",
    "<hr style=\"border:2px solid gray\">"
   ]
  },
  {
   "cell_type": "markdown",
   "id": "8b23dc1e",
   "metadata": {},
   "source": [
    "If an input meets the specified condition in an ***if*** statement, the code embedded within the statement is executed.  Below is an `if` condition."
   ]
  },
  {
   "cell_type": "code",
   "execution_count": null,
   "id": "fb78564b",
   "metadata": {},
   "outputs": [],
   "source": [
    "i = 10\n",
    "if (i > 15):\n",
    "    print(\"10 is less than 15\")\n",
    "print(\"This is an if condition\")"
   ]
  },
  {
   "cell_type": "markdown",
   "id": "6a155d1c",
   "metadata": {},
   "source": [
    "The ***else*** statement can be placed below an `if` condition, allowing it to run whenever the `if` condition is not met.  The resulting structure is known as an ***if else*** condition.  Below is an `if else` condition."
   ]
  },
  {
   "cell_type": "code",
   "execution_count": null,
   "id": "0d8042fe",
   "metadata": {},
   "outputs": [],
   "source": [
    "a = float(input(\"Enter a value for a: \", ))\n",
    "b = 200\n",
    "if b > a:\n",
    "  print(\"b is greater than a\")\n",
    "else:\n",
    "    print(\"a is greater than b\")"
   ]
  },
  {
   "cell_type": "markdown",
   "id": "ed5bc731",
   "metadata": {},
   "source": [
    "An `else` condition can be combined with an `if` condition to make an ***elif*** condition.  When the condition is met, the `if` condition's code is executed.  Otherwise, the `else` condition's code is executed.  Several `elif` conditions can be combined into a so-called 'elif ladder'.  Below is one such elif ladder."
   ]
  },
  {
   "cell_type": "code",
   "execution_count": null,
   "id": "955e86e7",
   "metadata": {},
   "outputs": [],
   "source": [
    "i = 20\n",
    "if (i == 10):\n",
    "    print(\"i is 10\")\n",
    "elif (i == 15):\n",
    "    print(\"i is 15\")\n",
    "elif (i == 20):\n",
    "    print(\"i is 20\")\n",
    "else:\n",
    "    print(\"i is not present\")"
   ]
  },
  {
   "cell_type": "markdown",
   "id": "af5c1a67",
   "metadata": {},
   "source": [
    "[Return to contents](#0.)\n",
    "\n",
    "<hr style=\"border:2px solid gray\">"
   ]
  },
  {
   "cell_type": "markdown",
   "id": "8bd9cb79",
   "metadata": {},
   "source": [
    "## 5. UDFs and classes <a id='5.'></a>\n",
    "\n",
    "<hr style=\"border:2px solid gray\">"
   ]
  },
  {
   "cell_type": "markdown",
   "id": "9b3e44ef",
   "metadata": {},
   "source": [
    "A ***user-defined*** function or ***UDF*** allows multiple sets of variables to run through the same code without needing to rewrite a control structure each time.  In effect, it is an adjustable loop with the 'trigger' being a change in input variables.\n",
    "\n",
    "A simple UDF is below.  To run it with a particular set of variables, we must call it with those variables."
   ]
  },
  {
   "cell_type": "code",
   "execution_count": null,
   "id": "5c0d12e5",
   "metadata": {},
   "outputs": [],
   "source": [
    "def avg(x, y):\n",
    "    print(\"The average of\",x,\"and\",y, \"is\",(x+y)/2)\n",
    "avg(3, 4)"
   ]
  },
  {
   "cell_type": "markdown",
   "id": "332b5e8b",
   "metadata": {},
   "source": [
    "A **docstring** is a brief description of a UDF; it should include the input variables and what the UDF does with them.  Below is a UDF with a docstring included."
   ]
  },
  {
   "cell_type": "code",
   "execution_count": null,
   "id": "dd16be66",
   "metadata": {},
   "outputs": [],
   "source": [
    "def avg(x, y):\n",
    "    '''\n",
    "    Calculate and Print Average of two Numbers.\n",
    "    Created on 25/05/2022\n",
    "    '''\n",
    "    print(\"The average of \",x,\" and \",y, \" is \",(x+y)/2)\n",
    "\n",
    "print(avg.__doc__)"
   ]
  },
  {
   "cell_type": "markdown",
   "id": "998eee88",
   "metadata": {},
   "source": [
    "A ***class*** is a method of storing variables, control structures and UDFs.  Below is a class containing several basic control structures."
   ]
  },
  {
   "cell_type": "code",
   "execution_count": null,
   "id": "546720f4",
   "metadata": {},
   "outputs": [],
   "source": [
    "class Calculator:\n",
    "    \n",
    "    def add(n1,n2):\n",
    "        return n1 + n2\n",
    "    \n",
    "    def sub(n1,n2):\n",
    "        return n1 - n2\n",
    "    \n",
    "    def mul(n1,n2):\n",
    "        return n1 * n2\n",
    "    \n",
    "    def div(n1,n2):\n",
    "        return n1 / n2\n",
    "    \n",
    "    print('''Available operations:\n",
    "            - Addition (+)\n",
    "            - Subtraction (-)\n",
    "            - Multiplication (*)\n",
    "            - Division (/)''')\n",
    "    \n",
    "    n1 = int(input(\"Enter first number: \"))\n",
    "    n2 = int(input(\"Enter second number: \"))\n",
    "    op = input(\"Enter operation: \")\n",
    "    \n",
    "    res = 0\n",
    "    if op == '+':\n",
    "        res = add(n1,n2)\n",
    "    elif op == '-':\n",
    "        res = sub(n1,n2)\n",
    "    elif op == '*':\n",
    "        res = mult(n1,n2)\n",
    "    elif op == '/':\n",
    "        res = div(n1,n2)\n",
    "    \n",
    "    print(n1, op, n2, '=', res)"
   ]
  },
  {
   "cell_type": "markdown",
   "id": "7e3b6080",
   "metadata": {},
   "source": [
    "There is no need to call the entire class as the commands within will run automatically, some of which are programmed to give a response.  If you wish to call a particular UDF within the class, you must call it as follows:\n",
    "\n",
    "*class_name*.*function_name*(*variables*)"
   ]
  },
  {
   "cell_type": "markdown",
   "id": "89852850",
   "metadata": {},
   "source": [
    "[Return to contents](#0.)\n",
    "\n",
    "<hr style=\"border:2px solid gray\">"
   ]
  }
 ],
 "metadata": {
  "kernelspec": {
   "display_name": "Python 3 (ipykernel)",
   "language": "python",
   "name": "python3"
  },
  "language_info": {
   "codemirror_mode": {
    "name": "ipython",
    "version": 3
   },
   "file_extension": ".py",
   "mimetype": "text/x-python",
   "name": "python",
   "nbconvert_exporter": "python",
   "pygments_lexer": "ipython3",
   "version": "3.7.6"
  }
 },
 "nbformat": 4,
 "nbformat_minor": 5
}
